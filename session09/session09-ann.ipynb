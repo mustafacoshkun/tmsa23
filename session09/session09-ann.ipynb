{
 "cells":[
  {
   "cell_type":"code",
   "source":[
    "import pandas as pd"
   ],
   "execution_count":54,
   "outputs":[
    
   ],
   "metadata":{
    "datalore":{
     "node_id":"TIKDZXLYgAnVkRiS3am956",
     "type":"CODE",
     "hide_input_from_viewers":true,
     "hide_output_from_viewers":true
    }
   }
  },
  {
   "cell_type":"code",
   "source":[
    "churn_data=pd.read_csv(\"Churn_Modelling.csv\",index_col=\"RowNumber\")"
   ],
   "execution_count":55,
   "outputs":[
    
   ],
   "metadata":{
    "datalore":{
     "node_id":"JPTofoe9YarkJF8IH9MQZQ",
     "type":"CODE",
     "hide_input_from_viewers":true,
     "hide_output_from_viewers":true
    }
   }
  },
  {
   "cell_type":"code",
   "source":[
    "churn_data.info()"
   ],
   "execution_count":56,
   "outputs":[
    {
     "name":"stdout",
     "text":[
      "<class 'pandas.core.frame.DataFrame'>\n",
      "Int64Index: 10000 entries, 1 to 10000\n",
      "Data columns (total 13 columns):\n",
      " #   Column           Non-Null Count  Dtype  \n",
      "---  ------           --------------  -----  \n",
      " 0   CustomerId       10000 non-null  int64  \n",
      " 1   Surname          10000 non-null  object \n",
      " 2   CreditScore      10000 non-null  int64  \n",
      " 3   Geography        10000 non-null  object \n",
      " 4   Gender           10000 non-null  object \n",
      " 5   Age              10000 non-null  int64  \n",
      " 6   Tenure           10000 non-null  int64  \n",
      " 7   Balance          10000 non-null  float64\n",
      " 8   NumOfProducts    10000 non-null  int64  \n",
      " 9   HasCrCard        10000 non-null  int64  \n",
      " 10  IsActiveMember   10000 non-null  int64  \n",
      " 11  EstimatedSalary  10000 non-null  float64\n",
      " 12  Exited           10000 non-null  int64  \n",
      "dtypes: float64(2), int64(8), object(3)\n",
      "memory usage: 1.1+ MB\n"
     ],
     "output_type":"stream"
    }
   ],
   "metadata":{
    "datalore":{
     "node_id":"xDAmuqCALrRjZA11Q55vTi",
     "type":"CODE",
     "hide_input_from_viewers":true,
     "hide_output_from_viewers":true
    }
   }
  },
  {
   "cell_type":"code",
   "source":[
    "churn_data.describe()"
   ],
   "execution_count":57,
   "outputs":[
    {
     "data":{
      "text\/html":[
       "<div>\n",
       "<style scoped>\n",
       "    .dataframe tbody tr th:only-of-type {\n",
       "        vertical-align: middle;\n",
       "    }\n",
       "\n",
       "    .dataframe tbody tr th {\n",
       "        vertical-align: top;\n",
       "    }\n",
       "\n",
       "    .dataframe thead th {\n",
       "        text-align: right;\n",
       "    }\n",
       "<\/style>\n",
       "<table border=\"1\" class=\"dataframe\">\n",
       "  <thead>\n",
       "    <tr style=\"text-align: right;\">\n",
       "      <th><\/th>\n",
       "      <th>CustomerId<\/th>\n",
       "      <th>CreditScore<\/th>\n",
       "      <th>Age<\/th>\n",
       "      <th>Tenure<\/th>\n",
       "      <th>Balance<\/th>\n",
       "      <th>NumOfProducts<\/th>\n",
       "      <th>HasCrCard<\/th>\n",
       "      <th>IsActiveMember<\/th>\n",
       "      <th>EstimatedSalary<\/th>\n",
       "      <th>Exited<\/th>\n",
       "    <\/tr>\n",
       "  <\/thead>\n",
       "  <tbody>\n",
       "    <tr>\n",
       "      <th>count<\/th>\n",
       "      <td>1.000000e+04<\/td>\n",
       "      <td>10000.000000<\/td>\n",
       "      <td>10000.000000<\/td>\n",
       "      <td>10000.000000<\/td>\n",
       "      <td>10000.000000<\/td>\n",
       "      <td>10000.000000<\/td>\n",
       "      <td>10000.00000<\/td>\n",
       "      <td>10000.000000<\/td>\n",
       "      <td>10000.000000<\/td>\n",
       "      <td>10000.000000<\/td>\n",
       "    <\/tr>\n",
       "    <tr>\n",
       "      <th>mean<\/th>\n",
       "      <td>1.569094e+07<\/td>\n",
       "      <td>650.528800<\/td>\n",
       "      <td>38.921800<\/td>\n",
       "      <td>5.012800<\/td>\n",
       "      <td>76485.889288<\/td>\n",
       "      <td>1.530200<\/td>\n",
       "      <td>0.70550<\/td>\n",
       "      <td>0.515100<\/td>\n",
       "      <td>100090.239881<\/td>\n",
       "      <td>0.203700<\/td>\n",
       "    <\/tr>\n",
       "    <tr>\n",
       "      <th>std<\/th>\n",
       "      <td>7.193619e+04<\/td>\n",
       "      <td>96.653299<\/td>\n",
       "      <td>10.487806<\/td>\n",
       "      <td>2.892174<\/td>\n",
       "      <td>62397.405202<\/td>\n",
       "      <td>0.581654<\/td>\n",
       "      <td>0.45584<\/td>\n",
       "      <td>0.499797<\/td>\n",
       "      <td>57510.492818<\/td>\n",
       "      <td>0.402769<\/td>\n",
       "    <\/tr>\n",
       "    <tr>\n",
       "      <th>min<\/th>\n",
       "      <td>1.556570e+07<\/td>\n",
       "      <td>350.000000<\/td>\n",
       "      <td>18.000000<\/td>\n",
       "      <td>0.000000<\/td>\n",
       "      <td>0.000000<\/td>\n",
       "      <td>1.000000<\/td>\n",
       "      <td>0.00000<\/td>\n",
       "      <td>0.000000<\/td>\n",
       "      <td>11.580000<\/td>\n",
       "      <td>0.000000<\/td>\n",
       "    <\/tr>\n",
       "    <tr>\n",
       "      <th>25%<\/th>\n",
       "      <td>1.562853e+07<\/td>\n",
       "      <td>584.000000<\/td>\n",
       "      <td>32.000000<\/td>\n",
       "      <td>3.000000<\/td>\n",
       "      <td>0.000000<\/td>\n",
       "      <td>1.000000<\/td>\n",
       "      <td>0.00000<\/td>\n",
       "      <td>0.000000<\/td>\n",
       "      <td>51002.110000<\/td>\n",
       "      <td>0.000000<\/td>\n",
       "    <\/tr>\n",
       "    <tr>\n",
       "      <th>50%<\/th>\n",
       "      <td>1.569074e+07<\/td>\n",
       "      <td>652.000000<\/td>\n",
       "      <td>37.000000<\/td>\n",
       "      <td>5.000000<\/td>\n",
       "      <td>97198.540000<\/td>\n",
       "      <td>1.000000<\/td>\n",
       "      <td>1.00000<\/td>\n",
       "      <td>1.000000<\/td>\n",
       "      <td>100193.915000<\/td>\n",
       "      <td>0.000000<\/td>\n",
       "    <\/tr>\n",
       "    <tr>\n",
       "      <th>75%<\/th>\n",
       "      <td>1.575323e+07<\/td>\n",
       "      <td>718.000000<\/td>\n",
       "      <td>44.000000<\/td>\n",
       "      <td>7.000000<\/td>\n",
       "      <td>127644.240000<\/td>\n",
       "      <td>2.000000<\/td>\n",
       "      <td>1.00000<\/td>\n",
       "      <td>1.000000<\/td>\n",
       "      <td>149388.247500<\/td>\n",
       "      <td>0.000000<\/td>\n",
       "    <\/tr>\n",
       "    <tr>\n",
       "      <th>max<\/th>\n",
       "      <td>1.581569e+07<\/td>\n",
       "      <td>850.000000<\/td>\n",
       "      <td>92.000000<\/td>\n",
       "      <td>10.000000<\/td>\n",
       "      <td>250898.090000<\/td>\n",
       "      <td>4.000000<\/td>\n",
       "      <td>1.00000<\/td>\n",
       "      <td>1.000000<\/td>\n",
       "      <td>199992.480000<\/td>\n",
       "      <td>1.000000<\/td>\n",
       "    <\/tr>\n",
       "  <\/tbody>\n",
       "<\/table>\n",
       "<\/div>"
      ]
     },
     "metadata":{
      
     },
     "output_type":"display_data"
    }
   ],
   "metadata":{
    "datalore":{
     "node_id":"uBHJtzqXo32WayCKhIT3Ik",
     "type":"CODE",
     "hide_input_from_viewers":true,
     "hide_output_from_viewers":true
    }
   }
  },
  {
   "cell_type":"code",
   "source":[
    "churn_data"
   ],
   "execution_count":58,
   "outputs":[
    {
     "data":{
      "text\/html":[
       "<div>\n",
       "<style scoped>\n",
       "    .dataframe tbody tr th:only-of-type {\n",
       "        vertical-align: middle;\n",
       "    }\n",
       "\n",
       "    .dataframe tbody tr th {\n",
       "        vertical-align: top;\n",
       "    }\n",
       "\n",
       "    .dataframe thead th {\n",
       "        text-align: right;\n",
       "    }\n",
       "<\/style>\n",
       "<table border=\"1\" class=\"dataframe\">\n",
       "  <thead>\n",
       "    <tr style=\"text-align: right;\">\n",
       "      <th><\/th>\n",
       "      <th>CustomerId<\/th>\n",
       "      <th>Surname<\/th>\n",
       "      <th>CreditScore<\/th>\n",
       "      <th>Geography<\/th>\n",
       "      <th>Gender<\/th>\n",
       "      <th>Age<\/th>\n",
       "      <th>Tenure<\/th>\n",
       "      <th>Balance<\/th>\n",
       "      <th>NumOfProducts<\/th>\n",
       "      <th>HasCrCard<\/th>\n",
       "      <th>IsActiveMember<\/th>\n",
       "      <th>EstimatedSalary<\/th>\n",
       "      <th>Exited<\/th>\n",
       "    <\/tr>\n",
       "    <tr>\n",
       "      <th>RowNumber<\/th>\n",
       "      <th><\/th>\n",
       "      <th><\/th>\n",
       "      <th><\/th>\n",
       "      <th><\/th>\n",
       "      <th><\/th>\n",
       "      <th><\/th>\n",
       "      <th><\/th>\n",
       "      <th><\/th>\n",
       "      <th><\/th>\n",
       "      <th><\/th>\n",
       "      <th><\/th>\n",
       "      <th><\/th>\n",
       "      <th><\/th>\n",
       "    <\/tr>\n",
       "  <\/thead>\n",
       "  <tbody>\n",
       "    <tr>\n",
       "      <th>1<\/th>\n",
       "      <td>15634602<\/td>\n",
       "      <td>Hargrave<\/td>\n",
       "      <td>619<\/td>\n",
       "      <td>France<\/td>\n",
       "      <td>Female<\/td>\n",
       "      <td>42<\/td>\n",
       "      <td>2<\/td>\n",
       "      <td>0.00<\/td>\n",
       "      <td>1<\/td>\n",
       "      <td>1<\/td>\n",
       "      <td>1<\/td>\n",
       "      <td>101348.88<\/td>\n",
       "      <td>1<\/td>\n",
       "    <\/tr>\n",
       "    <tr>\n",
       "      <th>2<\/th>\n",
       "      <td>15647311<\/td>\n",
       "      <td>Hill<\/td>\n",
       "      <td>608<\/td>\n",
       "      <td>Spain<\/td>\n",
       "      <td>Female<\/td>\n",
       "      <td>41<\/td>\n",
       "      <td>1<\/td>\n",
       "      <td>83807.86<\/td>\n",
       "      <td>1<\/td>\n",
       "      <td>0<\/td>\n",
       "      <td>1<\/td>\n",
       "      <td>112542.58<\/td>\n",
       "      <td>0<\/td>\n",
       "    <\/tr>\n",
       "    <tr>\n",
       "      <th>3<\/th>\n",
       "      <td>15619304<\/td>\n",
       "      <td>Onio<\/td>\n",
       "      <td>502<\/td>\n",
       "      <td>France<\/td>\n",
       "      <td>Female<\/td>\n",
       "      <td>42<\/td>\n",
       "      <td>8<\/td>\n",
       "      <td>159660.80<\/td>\n",
       "      <td>3<\/td>\n",
       "      <td>1<\/td>\n",
       "      <td>0<\/td>\n",
       "      <td>113931.57<\/td>\n",
       "      <td>1<\/td>\n",
       "    <\/tr>\n",
       "    <tr>\n",
       "      <th>4<\/th>\n",
       "      <td>15701354<\/td>\n",
       "      <td>Boni<\/td>\n",
       "      <td>699<\/td>\n",
       "      <td>France<\/td>\n",
       "      <td>Female<\/td>\n",
       "      <td>39<\/td>\n",
       "      <td>1<\/td>\n",
       "      <td>0.00<\/td>\n",
       "      <td>2<\/td>\n",
       "      <td>0<\/td>\n",
       "      <td>0<\/td>\n",
       "      <td>93826.63<\/td>\n",
       "      <td>0<\/td>\n",
       "    <\/tr>\n",
       "    <tr>\n",
       "      <th>5<\/th>\n",
       "      <td>15737888<\/td>\n",
       "      <td>Mitchell<\/td>\n",
       "      <td>850<\/td>\n",
       "      <td>Spain<\/td>\n",
       "      <td>Female<\/td>\n",
       "      <td>43<\/td>\n",
       "      <td>2<\/td>\n",
       "      <td>125510.82<\/td>\n",
       "      <td>1<\/td>\n",
       "      <td>1<\/td>\n",
       "      <td>1<\/td>\n",
       "      <td>79084.10<\/td>\n",
       "      <td>0<\/td>\n",
       "    <\/tr>\n",
       "    <tr>\n",
       "      <th>...<\/th>\n",
       "      <td>...<\/td>\n",
       "      <td>...<\/td>\n",
       "      <td>...<\/td>\n",
       "      <td>...<\/td>\n",
       "      <td>...<\/td>\n",
       "      <td>...<\/td>\n",
       "      <td>...<\/td>\n",
       "      <td>...<\/td>\n",
       "      <td>...<\/td>\n",
       "      <td>...<\/td>\n",
       "      <td>...<\/td>\n",
       "      <td>...<\/td>\n",
       "      <td>...<\/td>\n",
       "    <\/tr>\n",
       "    <tr>\n",
       "      <th>9996<\/th>\n",
       "      <td>15606229<\/td>\n",
       "      <td>Obijiaku<\/td>\n",
       "      <td>771<\/td>\n",
       "      <td>France<\/td>\n",
       "      <td>Male<\/td>\n",
       "      <td>39<\/td>\n",
       "      <td>5<\/td>\n",
       "      <td>0.00<\/td>\n",
       "      <td>2<\/td>\n",
       "      <td>1<\/td>\n",
       "      <td>0<\/td>\n",
       "      <td>96270.64<\/td>\n",
       "      <td>0<\/td>\n",
       "    <\/tr>\n",
       "    <tr>\n",
       "      <th>9997<\/th>\n",
       "      <td>15569892<\/td>\n",
       "      <td>Johnstone<\/td>\n",
       "      <td>516<\/td>\n",
       "      <td>France<\/td>\n",
       "      <td>Male<\/td>\n",
       "      <td>35<\/td>\n",
       "      <td>10<\/td>\n",
       "      <td>57369.61<\/td>\n",
       "      <td>1<\/td>\n",
       "      <td>1<\/td>\n",
       "      <td>1<\/td>\n",
       "      <td>101699.77<\/td>\n",
       "      <td>0<\/td>\n",
       "    <\/tr>\n",
       "    <tr>\n",
       "      <th>9998<\/th>\n",
       "      <td>15584532<\/td>\n",
       "      <td>Liu<\/td>\n",
       "      <td>709<\/td>\n",
       "      <td>France<\/td>\n",
       "      <td>Female<\/td>\n",
       "      <td>36<\/td>\n",
       "      <td>7<\/td>\n",
       "      <td>0.00<\/td>\n",
       "      <td>1<\/td>\n",
       "      <td>0<\/td>\n",
       "      <td>1<\/td>\n",
       "      <td>42085.58<\/td>\n",
       "      <td>1<\/td>\n",
       "    <\/tr>\n",
       "    <tr>\n",
       "      <th>9999<\/th>\n",
       "      <td>15682355<\/td>\n",
       "      <td>Sabbatini<\/td>\n",
       "      <td>772<\/td>\n",
       "      <td>Germany<\/td>\n",
       "      <td>Male<\/td>\n",
       "      <td>42<\/td>\n",
       "      <td>3<\/td>\n",
       "      <td>75075.31<\/td>\n",
       "      <td>2<\/td>\n",
       "      <td>1<\/td>\n",
       "      <td>0<\/td>\n",
       "      <td>92888.52<\/td>\n",
       "      <td>1<\/td>\n",
       "    <\/tr>\n",
       "    <tr>\n",
       "      <th>10000<\/th>\n",
       "      <td>15628319<\/td>\n",
       "      <td>Walker<\/td>\n",
       "      <td>792<\/td>\n",
       "      <td>France<\/td>\n",
       "      <td>Female<\/td>\n",
       "      <td>28<\/td>\n",
       "      <td>4<\/td>\n",
       "      <td>130142.79<\/td>\n",
       "      <td>1<\/td>\n",
       "      <td>1<\/td>\n",
       "      <td>0<\/td>\n",
       "      <td>38190.78<\/td>\n",
       "      <td>0<\/td>\n",
       "    <\/tr>\n",
       "  <\/tbody>\n",
       "<\/table>\n",
       "<p>10000 rows × 13 columns<\/p>\n",
       "<\/div>"
      ]
     },
     "metadata":{
      
     },
     "output_type":"display_data"
    }
   ],
   "metadata":{
    "datalore":{
     "node_id":"nbv6XUTjkFzOLqYPDpMsCE",
     "type":"CODE",
     "hide_input_from_viewers":true,
     "hide_output_from_viewers":true
    }
   }
  },
  {
   "cell_type":"code",
   "source":[
    "#https:\/\/pandas.pydata.org\/docs\/reference\/api\/pandas.DataFrame.drop.html\n",
    "churn_data.drop(['CustomerId','Surname'],axis=1,inplace=True)"
   ],
   "execution_count":59,
   "outputs":[
    
   ],
   "metadata":{
    "datalore":{
     "node_id":"udbSXbiirYPQOtptPoHjbY",
     "type":"CODE",
     "hide_input_from_viewers":true,
     "hide_output_from_viewers":true
    }
   }
  },
  {
   "cell_type":"code",
   "source":[
    "churn_data"
   ],
   "execution_count":60,
   "outputs":[
    {
     "data":{
      "text\/html":[
       "<div>\n",
       "<style scoped>\n",
       "    .dataframe tbody tr th:only-of-type {\n",
       "        vertical-align: middle;\n",
       "    }\n",
       "\n",
       "    .dataframe tbody tr th {\n",
       "        vertical-align: top;\n",
       "    }\n",
       "\n",
       "    .dataframe thead th {\n",
       "        text-align: right;\n",
       "    }\n",
       "<\/style>\n",
       "<table border=\"1\" class=\"dataframe\">\n",
       "  <thead>\n",
       "    <tr style=\"text-align: right;\">\n",
       "      <th><\/th>\n",
       "      <th>CreditScore<\/th>\n",
       "      <th>Geography<\/th>\n",
       "      <th>Gender<\/th>\n",
       "      <th>Age<\/th>\n",
       "      <th>Tenure<\/th>\n",
       "      <th>Balance<\/th>\n",
       "      <th>NumOfProducts<\/th>\n",
       "      <th>HasCrCard<\/th>\n",
       "      <th>IsActiveMember<\/th>\n",
       "      <th>EstimatedSalary<\/th>\n",
       "      <th>Exited<\/th>\n",
       "    <\/tr>\n",
       "    <tr>\n",
       "      <th>RowNumber<\/th>\n",
       "      <th><\/th>\n",
       "      <th><\/th>\n",
       "      <th><\/th>\n",
       "      <th><\/th>\n",
       "      <th><\/th>\n",
       "      <th><\/th>\n",
       "      <th><\/th>\n",
       "      <th><\/th>\n",
       "      <th><\/th>\n",
       "      <th><\/th>\n",
       "      <th><\/th>\n",
       "    <\/tr>\n",
       "  <\/thead>\n",
       "  <tbody>\n",
       "    <tr>\n",
       "      <th>1<\/th>\n",
       "      <td>619<\/td>\n",
       "      <td>France<\/td>\n",
       "      <td>Female<\/td>\n",
       "      <td>42<\/td>\n",
       "      <td>2<\/td>\n",
       "      <td>0.00<\/td>\n",
       "      <td>1<\/td>\n",
       "      <td>1<\/td>\n",
       "      <td>1<\/td>\n",
       "      <td>101348.88<\/td>\n",
       "      <td>1<\/td>\n",
       "    <\/tr>\n",
       "    <tr>\n",
       "      <th>2<\/th>\n",
       "      <td>608<\/td>\n",
       "      <td>Spain<\/td>\n",
       "      <td>Female<\/td>\n",
       "      <td>41<\/td>\n",
       "      <td>1<\/td>\n",
       "      <td>83807.86<\/td>\n",
       "      <td>1<\/td>\n",
       "      <td>0<\/td>\n",
       "      <td>1<\/td>\n",
       "      <td>112542.58<\/td>\n",
       "      <td>0<\/td>\n",
       "    <\/tr>\n",
       "    <tr>\n",
       "      <th>3<\/th>\n",
       "      <td>502<\/td>\n",
       "      <td>France<\/td>\n",
       "      <td>Female<\/td>\n",
       "      <td>42<\/td>\n",
       "      <td>8<\/td>\n",
       "      <td>159660.80<\/td>\n",
       "      <td>3<\/td>\n",
       "      <td>1<\/td>\n",
       "      <td>0<\/td>\n",
       "      <td>113931.57<\/td>\n",
       "      <td>1<\/td>\n",
       "    <\/tr>\n",
       "    <tr>\n",
       "      <th>4<\/th>\n",
       "      <td>699<\/td>\n",
       "      <td>France<\/td>\n",
       "      <td>Female<\/td>\n",
       "      <td>39<\/td>\n",
       "      <td>1<\/td>\n",
       "      <td>0.00<\/td>\n",
       "      <td>2<\/td>\n",
       "      <td>0<\/td>\n",
       "      <td>0<\/td>\n",
       "      <td>93826.63<\/td>\n",
       "      <td>0<\/td>\n",
       "    <\/tr>\n",
       "    <tr>\n",
       "      <th>5<\/th>\n",
       "      <td>850<\/td>\n",
       "      <td>Spain<\/td>\n",
       "      <td>Female<\/td>\n",
       "      <td>43<\/td>\n",
       "      <td>2<\/td>\n",
       "      <td>125510.82<\/td>\n",
       "      <td>1<\/td>\n",
       "      <td>1<\/td>\n",
       "      <td>1<\/td>\n",
       "      <td>79084.10<\/td>\n",
       "      <td>0<\/td>\n",
       "    <\/tr>\n",
       "    <tr>\n",
       "      <th>...<\/th>\n",
       "      <td>...<\/td>\n",
       "      <td>...<\/td>\n",
       "      <td>...<\/td>\n",
       "      <td>...<\/td>\n",
       "      <td>...<\/td>\n",
       "      <td>...<\/td>\n",
       "      <td>...<\/td>\n",
       "      <td>...<\/td>\n",
       "      <td>...<\/td>\n",
       "      <td>...<\/td>\n",
       "      <td>...<\/td>\n",
       "    <\/tr>\n",
       "    <tr>\n",
       "      <th>9996<\/th>\n",
       "      <td>771<\/td>\n",
       "      <td>France<\/td>\n",
       "      <td>Male<\/td>\n",
       "      <td>39<\/td>\n",
       "      <td>5<\/td>\n",
       "      <td>0.00<\/td>\n",
       "      <td>2<\/td>\n",
       "      <td>1<\/td>\n",
       "      <td>0<\/td>\n",
       "      <td>96270.64<\/td>\n",
       "      <td>0<\/td>\n",
       "    <\/tr>\n",
       "    <tr>\n",
       "      <th>9997<\/th>\n",
       "      <td>516<\/td>\n",
       "      <td>France<\/td>\n",
       "      <td>Male<\/td>\n",
       "      <td>35<\/td>\n",
       "      <td>10<\/td>\n",
       "      <td>57369.61<\/td>\n",
       "      <td>1<\/td>\n",
       "      <td>1<\/td>\n",
       "      <td>1<\/td>\n",
       "      <td>101699.77<\/td>\n",
       "      <td>0<\/td>\n",
       "    <\/tr>\n",
       "    <tr>\n",
       "      <th>9998<\/th>\n",
       "      <td>709<\/td>\n",
       "      <td>France<\/td>\n",
       "      <td>Female<\/td>\n",
       "      <td>36<\/td>\n",
       "      <td>7<\/td>\n",
       "      <td>0.00<\/td>\n",
       "      <td>1<\/td>\n",
       "      <td>0<\/td>\n",
       "      <td>1<\/td>\n",
       "      <td>42085.58<\/td>\n",
       "      <td>1<\/td>\n",
       "    <\/tr>\n",
       "    <tr>\n",
       "      <th>9999<\/th>\n",
       "      <td>772<\/td>\n",
       "      <td>Germany<\/td>\n",
       "      <td>Male<\/td>\n",
       "      <td>42<\/td>\n",
       "      <td>3<\/td>\n",
       "      <td>75075.31<\/td>\n",
       "      <td>2<\/td>\n",
       "      <td>1<\/td>\n",
       "      <td>0<\/td>\n",
       "      <td>92888.52<\/td>\n",
       "      <td>1<\/td>\n",
       "    <\/tr>\n",
       "    <tr>\n",
       "      <th>10000<\/th>\n",
       "      <td>792<\/td>\n",
       "      <td>France<\/td>\n",
       "      <td>Female<\/td>\n",
       "      <td>28<\/td>\n",
       "      <td>4<\/td>\n",
       "      <td>130142.79<\/td>\n",
       "      <td>1<\/td>\n",
       "      <td>1<\/td>\n",
       "      <td>0<\/td>\n",
       "      <td>38190.78<\/td>\n",
       "      <td>0<\/td>\n",
       "    <\/tr>\n",
       "  <\/tbody>\n",
       "<\/table>\n",
       "<p>10000 rows × 11 columns<\/p>\n",
       "<\/div>"
      ]
     },
     "metadata":{
      
     },
     "output_type":"display_data"
    }
   ],
   "metadata":{
    "datalore":{
     "node_id":"FGNpwvqNtrQIFPyTQuzhBp",
     "type":"CODE",
     "hide_input_from_viewers":true,
     "hide_output_from_viewers":true
    }
   }
  },
  {
   "cell_type":"code",
   "source":[
    "# some columns have text data so let's one hot encode them\n",
    "#  for more on one hot encoding click this link below\n",
    "# https:\/\/www.kaggle.com\/shrutimechlearn\/types-of-regression-and-stats-in-depth\n",
    "Geography_dummies = pd.get_dummies(prefix='Geo',data=churn_data,columns=['Geography'])"
   ],
   "execution_count":61,
   "outputs":[
    
   ],
   "metadata":{
    "datalore":{
     "node_id":"BEMjN1vXPUIni6WxGtV8Xm",
     "type":"CODE",
     "hide_input_from_viewers":true,
     "hide_output_from_viewers":true
    }
   }
  },
  {
   "cell_type":"code",
   "source":[
    "Geography_dummies.head()"
   ],
   "execution_count":62,
   "outputs":[
    {
     "data":{
      "text\/html":[
       "<div>\n",
       "<style scoped>\n",
       "    .dataframe tbody tr th:only-of-type {\n",
       "        vertical-align: middle;\n",
       "    }\n",
       "\n",
       "    .dataframe tbody tr th {\n",
       "        vertical-align: top;\n",
       "    }\n",
       "\n",
       "    .dataframe thead th {\n",
       "        text-align: right;\n",
       "    }\n",
       "<\/style>\n",
       "<table border=\"1\" class=\"dataframe\">\n",
       "  <thead>\n",
       "    <tr style=\"text-align: right;\">\n",
       "      <th><\/th>\n",
       "      <th>CreditScore<\/th>\n",
       "      <th>Gender<\/th>\n",
       "      <th>Age<\/th>\n",
       "      <th>Tenure<\/th>\n",
       "      <th>Balance<\/th>\n",
       "      <th>NumOfProducts<\/th>\n",
       "      <th>HasCrCard<\/th>\n",
       "      <th>IsActiveMember<\/th>\n",
       "      <th>EstimatedSalary<\/th>\n",
       "      <th>Exited<\/th>\n",
       "      <th>Geo_France<\/th>\n",
       "      <th>Geo_Germany<\/th>\n",
       "      <th>Geo_Spain<\/th>\n",
       "    <\/tr>\n",
       "    <tr>\n",
       "      <th>RowNumber<\/th>\n",
       "      <th><\/th>\n",
       "      <th><\/th>\n",
       "      <th><\/th>\n",
       "      <th><\/th>\n",
       "      <th><\/th>\n",
       "      <th><\/th>\n",
       "      <th><\/th>\n",
       "      <th><\/th>\n",
       "      <th><\/th>\n",
       "      <th><\/th>\n",
       "      <th><\/th>\n",
       "      <th><\/th>\n",
       "      <th><\/th>\n",
       "    <\/tr>\n",
       "  <\/thead>\n",
       "  <tbody>\n",
       "    <tr>\n",
       "      <th>1<\/th>\n",
       "      <td>619<\/td>\n",
       "      <td>Female<\/td>\n",
       "      <td>42<\/td>\n",
       "      <td>2<\/td>\n",
       "      <td>0.00<\/td>\n",
       "      <td>1<\/td>\n",
       "      <td>1<\/td>\n",
       "      <td>1<\/td>\n",
       "      <td>101348.88<\/td>\n",
       "      <td>1<\/td>\n",
       "      <td>1<\/td>\n",
       "      <td>0<\/td>\n",
       "      <td>0<\/td>\n",
       "    <\/tr>\n",
       "    <tr>\n",
       "      <th>2<\/th>\n",
       "      <td>608<\/td>\n",
       "      <td>Female<\/td>\n",
       "      <td>41<\/td>\n",
       "      <td>1<\/td>\n",
       "      <td>83807.86<\/td>\n",
       "      <td>1<\/td>\n",
       "      <td>0<\/td>\n",
       "      <td>1<\/td>\n",
       "      <td>112542.58<\/td>\n",
       "      <td>0<\/td>\n",
       "      <td>0<\/td>\n",
       "      <td>0<\/td>\n",
       "      <td>1<\/td>\n",
       "    <\/tr>\n",
       "    <tr>\n",
       "      <th>3<\/th>\n",
       "      <td>502<\/td>\n",
       "      <td>Female<\/td>\n",
       "      <td>42<\/td>\n",
       "      <td>8<\/td>\n",
       "      <td>159660.80<\/td>\n",
       "      <td>3<\/td>\n",
       "      <td>1<\/td>\n",
       "      <td>0<\/td>\n",
       "      <td>113931.57<\/td>\n",
       "      <td>1<\/td>\n",
       "      <td>1<\/td>\n",
       "      <td>0<\/td>\n",
       "      <td>0<\/td>\n",
       "    <\/tr>\n",
       "    <tr>\n",
       "      <th>4<\/th>\n",
       "      <td>699<\/td>\n",
       "      <td>Female<\/td>\n",
       "      <td>39<\/td>\n",
       "      <td>1<\/td>\n",
       "      <td>0.00<\/td>\n",
       "      <td>2<\/td>\n",
       "      <td>0<\/td>\n",
       "      <td>0<\/td>\n",
       "      <td>93826.63<\/td>\n",
       "      <td>0<\/td>\n",
       "      <td>1<\/td>\n",
       "      <td>0<\/td>\n",
       "      <td>0<\/td>\n",
       "    <\/tr>\n",
       "    <tr>\n",
       "      <th>5<\/th>\n",
       "      <td>850<\/td>\n",
       "      <td>Female<\/td>\n",
       "      <td>43<\/td>\n",
       "      <td>2<\/td>\n",
       "      <td>125510.82<\/td>\n",
       "      <td>1<\/td>\n",
       "      <td>1<\/td>\n",
       "      <td>1<\/td>\n",
       "      <td>79084.10<\/td>\n",
       "      <td>0<\/td>\n",
       "      <td>0<\/td>\n",
       "      <td>0<\/td>\n",
       "      <td>1<\/td>\n",
       "    <\/tr>\n",
       "  <\/tbody>\n",
       "<\/table>\n",
       "<\/div>"
      ]
     },
     "metadata":{
      
     },
     "output_type":"display_data"
    }
   ],
   "metadata":{
    "datalore":{
     "node_id":"QdVraGQdpXgXjhFLYdvgOR",
     "type":"CODE",
     "hide_input_from_viewers":true,
     "hide_output_from_viewers":true
    }
   }
  },
  {
   "cell_type":"code",
   "source":[
    "Gender_dummies = Geography_dummies.replace(to_replace={'Gender': {'Female': 1,'Male':0}})"
   ],
   "execution_count":63,
   "outputs":[
    
   ],
   "metadata":{
    "datalore":{
     "node_id":"pRSpHUp6vzV2YpkttwpXwa",
     "type":"CODE",
     "hide_input_from_viewers":true,
     "hide_output_from_viewers":true
    }
   }
  },
  {
   "cell_type":"code",
   "source":[
    "Gender_dummies.head()"
   ],
   "execution_count":64,
   "outputs":[
    {
     "data":{
      "text\/html":[
       "<div>\n",
       "<style scoped>\n",
       "    .dataframe tbody tr th:only-of-type {\n",
       "        vertical-align: middle;\n",
       "    }\n",
       "\n",
       "    .dataframe tbody tr th {\n",
       "        vertical-align: top;\n",
       "    }\n",
       "\n",
       "    .dataframe thead th {\n",
       "        text-align: right;\n",
       "    }\n",
       "<\/style>\n",
       "<table border=\"1\" class=\"dataframe\">\n",
       "  <thead>\n",
       "    <tr style=\"text-align: right;\">\n",
       "      <th><\/th>\n",
       "      <th>CreditScore<\/th>\n",
       "      <th>Gender<\/th>\n",
       "      <th>Age<\/th>\n",
       "      <th>Tenure<\/th>\n",
       "      <th>Balance<\/th>\n",
       "      <th>NumOfProducts<\/th>\n",
       "      <th>HasCrCard<\/th>\n",
       "      <th>IsActiveMember<\/th>\n",
       "      <th>EstimatedSalary<\/th>\n",
       "      <th>Exited<\/th>\n",
       "      <th>Geo_France<\/th>\n",
       "      <th>Geo_Germany<\/th>\n",
       "      <th>Geo_Spain<\/th>\n",
       "    <\/tr>\n",
       "    <tr>\n",
       "      <th>RowNumber<\/th>\n",
       "      <th><\/th>\n",
       "      <th><\/th>\n",
       "      <th><\/th>\n",
       "      <th><\/th>\n",
       "      <th><\/th>\n",
       "      <th><\/th>\n",
       "      <th><\/th>\n",
       "      <th><\/th>\n",
       "      <th><\/th>\n",
       "      <th><\/th>\n",
       "      <th><\/th>\n",
       "      <th><\/th>\n",
       "      <th><\/th>\n",
       "    <\/tr>\n",
       "  <\/thead>\n",
       "  <tbody>\n",
       "    <tr>\n",
       "      <th>1<\/th>\n",
       "      <td>619<\/td>\n",
       "      <td>1<\/td>\n",
       "      <td>42<\/td>\n",
       "      <td>2<\/td>\n",
       "      <td>0.00<\/td>\n",
       "      <td>1<\/td>\n",
       "      <td>1<\/td>\n",
       "      <td>1<\/td>\n",
       "      <td>101348.88<\/td>\n",
       "      <td>1<\/td>\n",
       "      <td>1<\/td>\n",
       "      <td>0<\/td>\n",
       "      <td>0<\/td>\n",
       "    <\/tr>\n",
       "    <tr>\n",
       "      <th>2<\/th>\n",
       "      <td>608<\/td>\n",
       "      <td>1<\/td>\n",
       "      <td>41<\/td>\n",
       "      <td>1<\/td>\n",
       "      <td>83807.86<\/td>\n",
       "      <td>1<\/td>\n",
       "      <td>0<\/td>\n",
       "      <td>1<\/td>\n",
       "      <td>112542.58<\/td>\n",
       "      <td>0<\/td>\n",
       "      <td>0<\/td>\n",
       "      <td>0<\/td>\n",
       "      <td>1<\/td>\n",
       "    <\/tr>\n",
       "    <tr>\n",
       "      <th>3<\/th>\n",
       "      <td>502<\/td>\n",
       "      <td>1<\/td>\n",
       "      <td>42<\/td>\n",
       "      <td>8<\/td>\n",
       "      <td>159660.80<\/td>\n",
       "      <td>3<\/td>\n",
       "      <td>1<\/td>\n",
       "      <td>0<\/td>\n",
       "      <td>113931.57<\/td>\n",
       "      <td>1<\/td>\n",
       "      <td>1<\/td>\n",
       "      <td>0<\/td>\n",
       "      <td>0<\/td>\n",
       "    <\/tr>\n",
       "    <tr>\n",
       "      <th>4<\/th>\n",
       "      <td>699<\/td>\n",
       "      <td>1<\/td>\n",
       "      <td>39<\/td>\n",
       "      <td>1<\/td>\n",
       "      <td>0.00<\/td>\n",
       "      <td>2<\/td>\n",
       "      <td>0<\/td>\n",
       "      <td>0<\/td>\n",
       "      <td>93826.63<\/td>\n",
       "      <td>0<\/td>\n",
       "      <td>1<\/td>\n",
       "      <td>0<\/td>\n",
       "      <td>0<\/td>\n",
       "    <\/tr>\n",
       "    <tr>\n",
       "      <th>5<\/th>\n",
       "      <td>850<\/td>\n",
       "      <td>1<\/td>\n",
       "      <td>43<\/td>\n",
       "      <td>2<\/td>\n",
       "      <td>125510.82<\/td>\n",
       "      <td>1<\/td>\n",
       "      <td>1<\/td>\n",
       "      <td>1<\/td>\n",
       "      <td>79084.10<\/td>\n",
       "      <td>0<\/td>\n",
       "      <td>0<\/td>\n",
       "      <td>0<\/td>\n",
       "      <td>1<\/td>\n",
       "    <\/tr>\n",
       "  <\/tbody>\n",
       "<\/table>\n",
       "<\/div>"
      ]
     },
     "metadata":{
      
     },
     "output_type":"display_data"
    }
   ],
   "metadata":{
    "datalore":{
     "node_id":"QdObroiYlyiqarMKymH5eO",
     "type":"CODE",
     "hide_input_from_viewers":true,
     "hide_output_from_viewers":true
    }
   }
  },
  {
   "cell_type":"code",
   "source":[
    "churn_data_encoded = Gender_dummies"
   ],
   "execution_count":65,
   "outputs":[
    
   ],
   "metadata":{
    "datalore":{
     "node_id":"Lh3Uyf5f85QFDjt4CYSpU0",
     "type":"CODE",
     "hide_input_from_viewers":true,
     "hide_output_from_viewers":true
    }
   }
  },
  {
   "cell_type":"code",
   "source":[
    "churn_data_encoded"
   ],
   "execution_count":66,
   "outputs":[
    {
     "data":{
      "text\/html":[
       "<div>\n",
       "<style scoped>\n",
       "    .dataframe tbody tr th:only-of-type {\n",
       "        vertical-align: middle;\n",
       "    }\n",
       "\n",
       "    .dataframe tbody tr th {\n",
       "        vertical-align: top;\n",
       "    }\n",
       "\n",
       "    .dataframe thead th {\n",
       "        text-align: right;\n",
       "    }\n",
       "<\/style>\n",
       "<table border=\"1\" class=\"dataframe\">\n",
       "  <thead>\n",
       "    <tr style=\"text-align: right;\">\n",
       "      <th><\/th>\n",
       "      <th>CreditScore<\/th>\n",
       "      <th>Gender<\/th>\n",
       "      <th>Age<\/th>\n",
       "      <th>Tenure<\/th>\n",
       "      <th>Balance<\/th>\n",
       "      <th>NumOfProducts<\/th>\n",
       "      <th>HasCrCard<\/th>\n",
       "      <th>IsActiveMember<\/th>\n",
       "      <th>EstimatedSalary<\/th>\n",
       "      <th>Exited<\/th>\n",
       "      <th>Geo_France<\/th>\n",
       "      <th>Geo_Germany<\/th>\n",
       "      <th>Geo_Spain<\/th>\n",
       "    <\/tr>\n",
       "    <tr>\n",
       "      <th>RowNumber<\/th>\n",
       "      <th><\/th>\n",
       "      <th><\/th>\n",
       "      <th><\/th>\n",
       "      <th><\/th>\n",
       "      <th><\/th>\n",
       "      <th><\/th>\n",
       "      <th><\/th>\n",
       "      <th><\/th>\n",
       "      <th><\/th>\n",
       "      <th><\/th>\n",
       "      <th><\/th>\n",
       "      <th><\/th>\n",
       "      <th><\/th>\n",
       "    <\/tr>\n",
       "  <\/thead>\n",
       "  <tbody>\n",
       "    <tr>\n",
       "      <th>1<\/th>\n",
       "      <td>619<\/td>\n",
       "      <td>1<\/td>\n",
       "      <td>42<\/td>\n",
       "      <td>2<\/td>\n",
       "      <td>0.00<\/td>\n",
       "      <td>1<\/td>\n",
       "      <td>1<\/td>\n",
       "      <td>1<\/td>\n",
       "      <td>101348.88<\/td>\n",
       "      <td>1<\/td>\n",
       "      <td>1<\/td>\n",
       "      <td>0<\/td>\n",
       "      <td>0<\/td>\n",
       "    <\/tr>\n",
       "    <tr>\n",
       "      <th>2<\/th>\n",
       "      <td>608<\/td>\n",
       "      <td>1<\/td>\n",
       "      <td>41<\/td>\n",
       "      <td>1<\/td>\n",
       "      <td>83807.86<\/td>\n",
       "      <td>1<\/td>\n",
       "      <td>0<\/td>\n",
       "      <td>1<\/td>\n",
       "      <td>112542.58<\/td>\n",
       "      <td>0<\/td>\n",
       "      <td>0<\/td>\n",
       "      <td>0<\/td>\n",
       "      <td>1<\/td>\n",
       "    <\/tr>\n",
       "    <tr>\n",
       "      <th>3<\/th>\n",
       "      <td>502<\/td>\n",
       "      <td>1<\/td>\n",
       "      <td>42<\/td>\n",
       "      <td>8<\/td>\n",
       "      <td>159660.80<\/td>\n",
       "      <td>3<\/td>\n",
       "      <td>1<\/td>\n",
       "      <td>0<\/td>\n",
       "      <td>113931.57<\/td>\n",
       "      <td>1<\/td>\n",
       "      <td>1<\/td>\n",
       "      <td>0<\/td>\n",
       "      <td>0<\/td>\n",
       "    <\/tr>\n",
       "    <tr>\n",
       "      <th>4<\/th>\n",
       "      <td>699<\/td>\n",
       "      <td>1<\/td>\n",
       "      <td>39<\/td>\n",
       "      <td>1<\/td>\n",
       "      <td>0.00<\/td>\n",
       "      <td>2<\/td>\n",
       "      <td>0<\/td>\n",
       "      <td>0<\/td>\n",
       "      <td>93826.63<\/td>\n",
       "      <td>0<\/td>\n",
       "      <td>1<\/td>\n",
       "      <td>0<\/td>\n",
       "      <td>0<\/td>\n",
       "    <\/tr>\n",
       "    <tr>\n",
       "      <th>5<\/th>\n",
       "      <td>850<\/td>\n",
       "      <td>1<\/td>\n",
       "      <td>43<\/td>\n",
       "      <td>2<\/td>\n",
       "      <td>125510.82<\/td>\n",
       "      <td>1<\/td>\n",
       "      <td>1<\/td>\n",
       "      <td>1<\/td>\n",
       "      <td>79084.10<\/td>\n",
       "      <td>0<\/td>\n",
       "      <td>0<\/td>\n",
       "      <td>0<\/td>\n",
       "      <td>1<\/td>\n",
       "    <\/tr>\n",
       "    <tr>\n",
       "      <th>...<\/th>\n",
       "      <td>...<\/td>\n",
       "      <td>...<\/td>\n",
       "      <td>...<\/td>\n",
       "      <td>...<\/td>\n",
       "      <td>...<\/td>\n",
       "      <td>...<\/td>\n",
       "      <td>...<\/td>\n",
       "      <td>...<\/td>\n",
       "      <td>...<\/td>\n",
       "      <td>...<\/td>\n",
       "      <td>...<\/td>\n",
       "      <td>...<\/td>\n",
       "      <td>...<\/td>\n",
       "    <\/tr>\n",
       "    <tr>\n",
       "      <th>9996<\/th>\n",
       "      <td>771<\/td>\n",
       "      <td>0<\/td>\n",
       "      <td>39<\/td>\n",
       "      <td>5<\/td>\n",
       "      <td>0.00<\/td>\n",
       "      <td>2<\/td>\n",
       "      <td>1<\/td>\n",
       "      <td>0<\/td>\n",
       "      <td>96270.64<\/td>\n",
       "      <td>0<\/td>\n",
       "      <td>1<\/td>\n",
       "      <td>0<\/td>\n",
       "      <td>0<\/td>\n",
       "    <\/tr>\n",
       "    <tr>\n",
       "      <th>9997<\/th>\n",
       "      <td>516<\/td>\n",
       "      <td>0<\/td>\n",
       "      <td>35<\/td>\n",
       "      <td>10<\/td>\n",
       "      <td>57369.61<\/td>\n",
       "      <td>1<\/td>\n",
       "      <td>1<\/td>\n",
       "      <td>1<\/td>\n",
       "      <td>101699.77<\/td>\n",
       "      <td>0<\/td>\n",
       "      <td>1<\/td>\n",
       "      <td>0<\/td>\n",
       "      <td>0<\/td>\n",
       "    <\/tr>\n",
       "    <tr>\n",
       "      <th>9998<\/th>\n",
       "      <td>709<\/td>\n",
       "      <td>1<\/td>\n",
       "      <td>36<\/td>\n",
       "      <td>7<\/td>\n",
       "      <td>0.00<\/td>\n",
       "      <td>1<\/td>\n",
       "      <td>0<\/td>\n",
       "      <td>1<\/td>\n",
       "      <td>42085.58<\/td>\n",
       "      <td>1<\/td>\n",
       "      <td>1<\/td>\n",
       "      <td>0<\/td>\n",
       "      <td>0<\/td>\n",
       "    <\/tr>\n",
       "    <tr>\n",
       "      <th>9999<\/th>\n",
       "      <td>772<\/td>\n",
       "      <td>0<\/td>\n",
       "      <td>42<\/td>\n",
       "      <td>3<\/td>\n",
       "      <td>75075.31<\/td>\n",
       "      <td>2<\/td>\n",
       "      <td>1<\/td>\n",
       "      <td>0<\/td>\n",
       "      <td>92888.52<\/td>\n",
       "      <td>1<\/td>\n",
       "      <td>0<\/td>\n",
       "      <td>1<\/td>\n",
       "      <td>0<\/td>\n",
       "    <\/tr>\n",
       "    <tr>\n",
       "      <th>10000<\/th>\n",
       "      <td>792<\/td>\n",
       "      <td>1<\/td>\n",
       "      <td>28<\/td>\n",
       "      <td>4<\/td>\n",
       "      <td>130142.79<\/td>\n",
       "      <td>1<\/td>\n",
       "      <td>1<\/td>\n",
       "      <td>0<\/td>\n",
       "      <td>38190.78<\/td>\n",
       "      <td>0<\/td>\n",
       "      <td>1<\/td>\n",
       "      <td>0<\/td>\n",
       "      <td>0<\/td>\n",
       "    <\/tr>\n",
       "  <\/tbody>\n",
       "<\/table>\n",
       "<p>10000 rows × 13 columns<\/p>\n",
       "<\/div>"
      ]
     },
     "metadata":{
      
     },
     "output_type":"display_data"
    }
   ],
   "metadata":{
    "datalore":{
     "node_id":"j4gJuN8w1w7nTgtTY4kCpQ",
     "type":"CODE",
     "hide_input_from_viewers":true,
     "hide_output_from_viewers":true
    }
   }
  },
  {
   "cell_type":"code",
   "source":[
    "#https:\/\/seaborn.pydata.org\/\n",
    "import seaborn as sns\n",
    "import matplotlib.pyplot as plt"
   ],
   "execution_count":67,
   "outputs":[
    
   ],
   "metadata":{
    "datalore":{
     "node_id":"HBy1siMCso82jN7LIkO8Im",
     "type":"CODE",
     "hide_input_from_viewers":true,
     "hide_output_from_viewers":true
    }
   }
  },
  {
   "cell_type":"code",
   "source":[
    "sns.countplot(y=churn_data_encoded.Exited ,data=churn_data_encoded)\n",
    "plt.xlabel(\"Count of each Target class\")\n",
    "plt.ylabel(\"Target classes\")\n",
    "plt.show()"
   ],
   "execution_count":68,
   "outputs":[
    {
     "data":{
      "image\/png":"[encoded data removed]"
     },
     "metadata":{
      "image\/png":{
       
      }
     },
     "output_type":"display_data"
    }
   ],
   "metadata":{
    "datalore":{
     "node_id":"62ItxbNNWgeMVVSXTfCriB",
     "type":"CODE",
     "hide_input_from_viewers":true,
     "hide_output_from_viewers":true
    }
   }
  },
  {
   "cell_type":"code",
   "source":[
    "#https:\/\/pandas.pydata.org\/docs\/reference\/api\/pandas.DataFrame.hist.html\n",
    "churn_data_encoded.hist(figsize=(15,12),bins = 15)\n",
    "plt.title(\"Features Distribution\")\n",
    "plt.show()"
   ],
   "execution_count":69,
   "outputs":[
    {
     "data":{
      "image\/png":"[encoded data removed]"
     },
     "metadata":{
      "image\/png":{
       
      }
     },
     "output_type":"display_data"
    }
   ],
   "metadata":{
    "datalore":{
     "node_id":"jfnxFvB7wiWLt9IKzMJtlE",
     "type":"CODE",
     "hide_input_from_viewers":true,
     "hide_output_from_viewers":true
    }
   }
  },
  {
   "cell_type":"code",
   "source":[
    "#https:\/\/seaborn.pydata.org\/generated\/seaborn.heatmap.html\n",
    "plt.figure(figsize=(15,15))\n",
    "p=sns.heatmap(churn_data_encoded.corr(), annot=True,cmap='RdYlGn',center=0) "
   ],
   "execution_count":70,
   "outputs":[
    {
     "data":{
      "image\/png":"[encoded data removed]"
     },
     "metadata":{
      "image\/png":{
       
      }
     },
     "output_type":"display_data"
    }
   ],
   "metadata":{
    "datalore":{
     "node_id":"4gAeLvynlIMdjxQFzSJDRa",
     "type":"CODE",
     "hide_input_from_viewers":true,
     "hide_output_from_viewers":true
    }
   }
  },
  {
   "cell_type":"code",
   "source":[
    "#lets start to create our ANN\n",
    "X = churn_data_encoded.drop(['Exited'],axis=1)\n",
    "y = churn_data_encoded.Exited"
   ],
   "execution_count":71,
   "outputs":[
    
   ],
   "metadata":{
    "datalore":{
     "node_id":"3vlYrmEwgLjXDtRTKx8dIV",
     "type":"CODE",
     "hide_input_from_viewers":true,
     "hide_output_from_viewers":true
    }
   }
  },
  {
   "cell_type":"code",
   "source":[
    "X.head(10)"
   ],
   "execution_count":72,
   "outputs":[
    {
     "data":{
      "text\/html":[
       "<div>\n",
       "<style scoped>\n",
       "    .dataframe tbody tr th:only-of-type {\n",
       "        vertical-align: middle;\n",
       "    }\n",
       "\n",
       "    .dataframe tbody tr th {\n",
       "        vertical-align: top;\n",
       "    }\n",
       "\n",
       "    .dataframe thead th {\n",
       "        text-align: right;\n",
       "    }\n",
       "<\/style>\n",
       "<table border=\"1\" class=\"dataframe\">\n",
       "  <thead>\n",
       "    <tr style=\"text-align: right;\">\n",
       "      <th><\/th>\n",
       "      <th>CreditScore<\/th>\n",
       "      <th>Gender<\/th>\n",
       "      <th>Age<\/th>\n",
       "      <th>Tenure<\/th>\n",
       "      <th>Balance<\/th>\n",
       "      <th>NumOfProducts<\/th>\n",
       "      <th>HasCrCard<\/th>\n",
       "      <th>IsActiveMember<\/th>\n",
       "      <th>EstimatedSalary<\/th>\n",
       "      <th>Geo_France<\/th>\n",
       "      <th>Geo_Germany<\/th>\n",
       "      <th>Geo_Spain<\/th>\n",
       "    <\/tr>\n",
       "    <tr>\n",
       "      <th>RowNumber<\/th>\n",
       "      <th><\/th>\n",
       "      <th><\/th>\n",
       "      <th><\/th>\n",
       "      <th><\/th>\n",
       "      <th><\/th>\n",
       "      <th><\/th>\n",
       "      <th><\/th>\n",
       "      <th><\/th>\n",
       "      <th><\/th>\n",
       "      <th><\/th>\n",
       "      <th><\/th>\n",
       "      <th><\/th>\n",
       "    <\/tr>\n",
       "  <\/thead>\n",
       "  <tbody>\n",
       "    <tr>\n",
       "      <th>1<\/th>\n",
       "      <td>619<\/td>\n",
       "      <td>1<\/td>\n",
       "      <td>42<\/td>\n",
       "      <td>2<\/td>\n",
       "      <td>0.00<\/td>\n",
       "      <td>1<\/td>\n",
       "      <td>1<\/td>\n",
       "      <td>1<\/td>\n",
       "      <td>101348.88<\/td>\n",
       "      <td>1<\/td>\n",
       "      <td>0<\/td>\n",
       "      <td>0<\/td>\n",
       "    <\/tr>\n",
       "    <tr>\n",
       "      <th>2<\/th>\n",
       "      <td>608<\/td>\n",
       "      <td>1<\/td>\n",
       "      <td>41<\/td>\n",
       "      <td>1<\/td>\n",
       "      <td>83807.86<\/td>\n",
       "      <td>1<\/td>\n",
       "      <td>0<\/td>\n",
       "      <td>1<\/td>\n",
       "      <td>112542.58<\/td>\n",
       "      <td>0<\/td>\n",
       "      <td>0<\/td>\n",
       "      <td>1<\/td>\n",
       "    <\/tr>\n",
       "    <tr>\n",
       "      <th>3<\/th>\n",
       "      <td>502<\/td>\n",
       "      <td>1<\/td>\n",
       "      <td>42<\/td>\n",
       "      <td>8<\/td>\n",
       "      <td>159660.80<\/td>\n",
       "      <td>3<\/td>\n",
       "      <td>1<\/td>\n",
       "      <td>0<\/td>\n",
       "      <td>113931.57<\/td>\n",
       "      <td>1<\/td>\n",
       "      <td>0<\/td>\n",
       "      <td>0<\/td>\n",
       "    <\/tr>\n",
       "    <tr>\n",
       "      <th>4<\/th>\n",
       "      <td>699<\/td>\n",
       "      <td>1<\/td>\n",
       "      <td>39<\/td>\n",
       "      <td>1<\/td>\n",
       "      <td>0.00<\/td>\n",
       "      <td>2<\/td>\n",
       "      <td>0<\/td>\n",
       "      <td>0<\/td>\n",
       "      <td>93826.63<\/td>\n",
       "      <td>1<\/td>\n",
       "      <td>0<\/td>\n",
       "      <td>0<\/td>\n",
       "    <\/tr>\n",
       "    <tr>\n",
       "      <th>5<\/th>\n",
       "      <td>850<\/td>\n",
       "      <td>1<\/td>\n",
       "      <td>43<\/td>\n",
       "      <td>2<\/td>\n",
       "      <td>125510.82<\/td>\n",
       "      <td>1<\/td>\n",
       "      <td>1<\/td>\n",
       "      <td>1<\/td>\n",
       "      <td>79084.10<\/td>\n",
       "      <td>0<\/td>\n",
       "      <td>0<\/td>\n",
       "      <td>1<\/td>\n",
       "    <\/tr>\n",
       "    <tr>\n",
       "      <th>6<\/th>\n",
       "      <td>645<\/td>\n",
       "      <td>0<\/td>\n",
       "      <td>44<\/td>\n",
       "      <td>8<\/td>\n",
       "      <td>113755.78<\/td>\n",
       "      <td>2<\/td>\n",
       "      <td>1<\/td>\n",
       "      <td>0<\/td>\n",
       "      <td>149756.71<\/td>\n",
       "      <td>0<\/td>\n",
       "      <td>0<\/td>\n",
       "      <td>1<\/td>\n",
       "    <\/tr>\n",
       "    <tr>\n",
       "      <th>7<\/th>\n",
       "      <td>822<\/td>\n",
       "      <td>0<\/td>\n",
       "      <td>50<\/td>\n",
       "      <td>7<\/td>\n",
       "      <td>0.00<\/td>\n",
       "      <td>2<\/td>\n",
       "      <td>1<\/td>\n",
       "      <td>1<\/td>\n",
       "      <td>10062.80<\/td>\n",
       "      <td>1<\/td>\n",
       "      <td>0<\/td>\n",
       "      <td>0<\/td>\n",
       "    <\/tr>\n",
       "    <tr>\n",
       "      <th>8<\/th>\n",
       "      <td>376<\/td>\n",
       "      <td>1<\/td>\n",
       "      <td>29<\/td>\n",
       "      <td>4<\/td>\n",
       "      <td>115046.74<\/td>\n",
       "      <td>4<\/td>\n",
       "      <td>1<\/td>\n",
       "      <td>0<\/td>\n",
       "      <td>119346.88<\/td>\n",
       "      <td>0<\/td>\n",
       "      <td>1<\/td>\n",
       "      <td>0<\/td>\n",
       "    <\/tr>\n",
       "    <tr>\n",
       "      <th>9<\/th>\n",
       "      <td>501<\/td>\n",
       "      <td>0<\/td>\n",
       "      <td>44<\/td>\n",
       "      <td>4<\/td>\n",
       "      <td>142051.07<\/td>\n",
       "      <td>2<\/td>\n",
       "      <td>0<\/td>\n",
       "      <td>1<\/td>\n",
       "      <td>74940.50<\/td>\n",
       "      <td>1<\/td>\n",
       "      <td>0<\/td>\n",
       "      <td>0<\/td>\n",
       "    <\/tr>\n",
       "    <tr>\n",
       "      <th>10<\/th>\n",
       "      <td>684<\/td>\n",
       "      <td>0<\/td>\n",
       "      <td>27<\/td>\n",
       "      <td>2<\/td>\n",
       "      <td>134603.88<\/td>\n",
       "      <td>1<\/td>\n",
       "      <td>1<\/td>\n",
       "      <td>1<\/td>\n",
       "      <td>71725.73<\/td>\n",
       "      <td>1<\/td>\n",
       "      <td>0<\/td>\n",
       "      <td>0<\/td>\n",
       "    <\/tr>\n",
       "  <\/tbody>\n",
       "<\/table>\n",
       "<\/div>"
      ]
     },
     "metadata":{
      
     },
     "output_type":"display_data"
    }
   ],
   "metadata":{
    "datalore":{
     "node_id":"N67JDvnrVMOIJCeBFIgcbB",
     "type":"CODE",
     "hide_input_from_viewers":true,
     "hide_output_from_viewers":true
    }
   }
  },
  {
   "cell_type":"code",
   "source":[
    "# Splitting the dataset into the Training set and Test set\n",
    "from sklearn.model_selection import train_test_split\n",
    "X_train, X_test, y_train, y_test = train_test_split(X, y, test_size = 0.20, random_state = 42)"
   ],
   "execution_count":73,
   "outputs":[
    
   ],
   "metadata":{
    "datalore":{
     "node_id":"maeawxyGYRfhWCrwLXnLvQ",
     "type":"CODE",
     "hide_input_from_viewers":true,
     "hide_output_from_viewers":true
    }
   }
  },
  {
   "cell_type":"code",
   "source":[
    "# Feature Scaling because yes we don't want one independent variable dominating the other and it makes computations easy\n",
    "from sklearn.preprocessing import StandardScaler\n",
    "sc = StandardScaler()\n",
    "X_train = sc.fit_transform(X_train)\n",
    "X_test = sc.transform(X_test)"
   ],
   "execution_count":74,
   "outputs":[
    
   ],
   "metadata":{
    "datalore":{
     "node_id":"lUXNzdFQjzoEJxPaZ7EnDH",
     "type":"CODE",
     "hide_input_from_viewers":true,
     "hide_output_from_viewers":true
    }
   }
  },
  {
   "cell_type":"code",
   "source":[
    "# sequential model to initialise our ann and dense module to build the layers\n",
    "from tensorflow.keras.models import Sequential\n",
    "from tensorflow.keras.layers import Dense"
   ],
   "execution_count":75,
   "outputs":[
    
   ],
   "metadata":{
    "datalore":{
     "node_id":"MUu7XYqyLwAdsGhXCZyHXW",
     "type":"CODE",
     "hide_input_from_viewers":true,
     "hide_output_from_viewers":true
    }
   }
  },
  {
   "cell_type":"code",
   "source":[
    "ann = Sequential()\n",
    "# Adding the input layer and the first hidden layer, input number of columns inputdim=12\n",
    "#Initializers define the way to set the initial random weights of Keras layers. random unifrom distribution\n",
    "ann.add(Dense(units = 6, kernel_initializer = 'uniform', activation = 'relu', input_dim = 12))"
   ],
   "execution_count":76,
   "outputs":[
    
   ],
   "metadata":{
    "datalore":{
     "node_id":"GsmaIsc7LMwyqYG5Z3eEx7",
     "type":"CODE",
     "hide_input_from_viewers":true,
     "hide_output_from_viewers":true
    }
   }
  },
  {
   "cell_type":"code",
   "source":[
    "# Adding the second hidden layer\n",
    "ann.add(Dense(units = 6, kernel_initializer = 'uniform', activation = 'relu'))"
   ],
   "execution_count":77,
   "outputs":[
    
   ],
   "metadata":{
    "datalore":{
     "node_id":"YFBhoySU5y9jcFuMHqN4gC",
     "type":"CODE",
     "hide_input_from_viewers":true,
     "hide_output_from_viewers":true
    }
   }
  },
  {
   "cell_type":"code",
   "source":[
    "# Adding the output layer\n",
    "ann.add(Dense(units = 1, kernel_initializer = 'uniform', activation = 'sigmoid'))"
   ],
   "execution_count":78,
   "outputs":[
    
   ],
   "metadata":{
    "datalore":{
     "node_id":"nfhMnzaw5DGUvpAao2O6y3",
     "type":"CODE",
     "hide_input_from_viewers":true,
     "hide_output_from_viewers":true
    }
   }
  },
  {
   "cell_type":"code",
   "source":[
    "# Compiling the ANN | means applying SGD on the whole ANN\n",
    "#SGD stands for Stochastic Gradient Descent, which is a popular optimization algorithm used in training machine \n",
    "#learning models, including artificial neural networks (ANNs). It's a method used to minimize the loss function \n",
    "#by iteratively updating the model's parameters (weights and biases in the case of neural networks) \n",
    "#in the direction that reduces the loss.\n",
    "ann.compile(optimizer = 'adam', loss = 'binary_crossentropy', metrics = ['accuracy'])"
   ],
   "execution_count":81,
   "outputs":[
    
   ],
   "metadata":{
    "datalore":{
     "node_id":"XL7cHien88KiBDoTbP46Oe",
     "type":"CODE",
     "hide_input_from_viewers":true,
     "hide_output_from_viewers":true
    }
   }
  },
  {
   "cell_type":"code",
   "source":[
    "#Adam optimization is a stochastic gradient descent method that is based on \n",
    "#adaptive estimation of first-order and second-order moments.\n",
    "#According to Kingma et al., 2014, the method is \"computationally efficient, has little memory requirement, \n",
    "#invariant to diagonal rescaling of gradients, and is well suited for problems that are large in terms of data\/parameters\"."
   ],
   "execution_count":79,
   "outputs":[
    
   ],
   "metadata":{
    "datalore":{
     "node_id":"SNT78OT86oJVJya7vu0Hjg",
     "type":"CODE",
     "hide_input_from_viewers":true,
     "hide_output_from_viewers":true
    }
   }
  },
  {
   "cell_type":"code",
   "source":[
    "# Fitting the ANN to the Training set\n",
    "ann.fit(X_train, y_train, batch_size = 10, epochs = 100,verbose = 2)"
   ],
   "execution_count":82,
   "outputs":[
    {
     "name":"stdout",
     "text":[
      "Epoch 1\/100\n",
      "800\/800 - 2s - loss: 0.4886 - accuracy: 0.7937 - 2s\/epoch - 2ms\/step\n",
      "Epoch 2\/100\n",
      "800\/800 - 1s - loss: 0.4320 - accuracy: 0.7945 - 918ms\/epoch - 1ms\/step\n",
      "Epoch 3\/100\n",
      "800\/800 - 1s - loss: 0.4273 - accuracy: 0.7945 - 946ms\/epoch - 1ms\/step\n",
      "Epoch 4\/100\n",
      "800\/800 - 1s - loss: 0.4228 - accuracy: 0.8180 - 917ms\/epoch - 1ms\/step\n",
      "Epoch 5\/100\n",
      "800\/800 - 1s - loss: 0.4197 - accuracy: 0.8260 - 946ms\/epoch - 1ms\/step\n",
      "Epoch 6\/100\n",
      "800\/800 - 1s - loss: 0.4174 - accuracy: 0.8276 - 892ms\/epoch - 1ms\/step\n",
      "Epoch 7\/100\n",
      "800\/800 - 1s - loss: 0.4156 - accuracy: 0.8314 - 891ms\/epoch - 1ms\/step\n",
      "Epoch 8\/100\n",
      "800\/800 - 1s - loss: 0.4144 - accuracy: 0.8326 - 918ms\/epoch - 1ms\/step\n",
      "Epoch 9\/100\n",
      "800\/800 - 1s - loss: 0.4130 - accuracy: 0.8332 - 927ms\/epoch - 1ms\/step\n",
      "Epoch 10\/100\n",
      "800\/800 - 1s - loss: 0.4119 - accuracy: 0.8350 - 936ms\/epoch - 1ms\/step\n",
      "Epoch 11\/100\n",
      "800\/800 - 1s - loss: 0.4109 - accuracy: 0.8320 - 899ms\/epoch - 1ms\/step\n",
      "Epoch 12\/100\n",
      "800\/800 - 1s - loss: 0.4107 - accuracy: 0.8330 - 958ms\/epoch - 1ms\/step\n",
      "Epoch 13\/100\n",
      "800\/800 - 1s - loss: 0.4096 - accuracy: 0.8361 - 954ms\/epoch - 1ms\/step\n",
      "Epoch 14\/100\n",
      "800\/800 - 1s - loss: 0.4094 - accuracy: 0.8342 - 912ms\/epoch - 1ms\/step\n",
      "Epoch 15\/100\n",
      "800\/800 - 1s - loss: 0.4080 - accuracy: 0.8347 - 931ms\/epoch - 1ms\/step\n",
      "Epoch 16\/100\n",
      "800\/800 - 1s - loss: 0.4085 - accuracy: 0.8345 - 929ms\/epoch - 1ms\/step\n",
      "Epoch 17\/100\n",
      "800\/800 - 1s - loss: 0.4076 - accuracy: 0.8344 - 929ms\/epoch - 1ms\/step\n",
      "Epoch 18\/100\n",
      "800\/800 - 1s - loss: 0.4072 - accuracy: 0.8347 - 920ms\/epoch - 1ms\/step\n",
      "Epoch 19\/100\n",
      "800\/800 - 1s - loss: 0.4071 - accuracy: 0.8349 - 933ms\/epoch - 1ms\/step\n",
      "Epoch 20\/100\n",
      "800\/800 - 1s - loss: 0.4072 - accuracy: 0.8354 - 943ms\/epoch - 1ms\/step\n",
      "Epoch 21\/100\n",
      "800\/800 - 1s - loss: 0.4067 - accuracy: 0.8344 - 929ms\/epoch - 1ms\/step\n",
      "Epoch 22\/100\n",
      "800\/800 - 1s - loss: 0.4065 - accuracy: 0.8355 - 922ms\/epoch - 1ms\/step\n",
      "Epoch 23\/100\n",
      "800\/800 - 1s - loss: 0.4062 - accuracy: 0.8351 - 957ms\/epoch - 1ms\/step\n",
      "Epoch 24\/100\n",
      "800\/800 - 1s - loss: 0.4061 - accuracy: 0.8342 - 910ms\/epoch - 1ms\/step\n",
      "Epoch 25\/100\n",
      "800\/800 - 1s - loss: 0.4061 - accuracy: 0.8340 - 919ms\/epoch - 1ms\/step\n",
      "Epoch 26\/100\n",
      "800\/800 - 1s - loss: 0.4059 - accuracy: 0.8345 - 938ms\/epoch - 1ms\/step\n",
      "Epoch 27\/100\n",
      "800\/800 - 1s - loss: 0.4053 - accuracy: 0.8341 - 927ms\/epoch - 1ms\/step\n",
      "Epoch 28\/100\n",
      "800\/800 - 1s - loss: 0.4058 - accuracy: 0.8357 - 938ms\/epoch - 1ms\/step\n",
      "Epoch 29\/100\n",
      "800\/800 - 1s - loss: 0.4052 - accuracy: 0.8346 - 958ms\/epoch - 1ms\/step\n",
      "Epoch 30\/100\n",
      "800\/800 - 1s - loss: 0.4052 - accuracy: 0.8345 - 944ms\/epoch - 1ms\/step\n",
      "Epoch 31\/100\n",
      "800\/800 - 1s - loss: 0.4052 - accuracy: 0.8345 - 917ms\/epoch - 1ms\/step\n",
      "Epoch 32\/100\n",
      "800\/800 - 1s - loss: 0.4048 - accuracy: 0.8350 - 949ms\/epoch - 1ms\/step\n",
      "Epoch 33\/100\n",
      "800\/800 - 1s - loss: 0.4046 - accuracy: 0.8336 - 938ms\/epoch - 1ms\/step\n",
      "Epoch 34\/100\n",
      "800\/800 - 1s - loss: 0.4048 - accuracy: 0.8346 - 944ms\/epoch - 1ms\/step\n",
      "Epoch 35\/100\n",
      "800\/800 - 1s - loss: 0.4048 - accuracy: 0.8344 - 946ms\/epoch - 1ms\/step\n",
      "Epoch 36\/100\n",
      "800\/800 - 1s - loss: 0.4044 - accuracy: 0.8339 - 916ms\/epoch - 1ms\/step\n",
      "Epoch 37\/100\n",
      "800\/800 - 1s - loss: 0.4045 - accuracy: 0.8342 - 936ms\/epoch - 1ms\/step\n",
      "Epoch 38\/100\n",
      "800\/800 - 1s - loss: 0.4045 - accuracy: 0.8344 - 961ms\/epoch - 1ms\/step\n",
      "Epoch 39\/100\n",
      "800\/800 - 1s - loss: 0.4045 - accuracy: 0.8339 - 907ms\/epoch - 1ms\/step\n",
      "Epoch 40\/100\n",
      "800\/800 - 1s - loss: 0.4041 - accuracy: 0.8338 - 923ms\/epoch - 1ms\/step\n",
      "Epoch 41\/100\n",
      "800\/800 - 1s - loss: 0.4035 - accuracy: 0.8355 - 929ms\/epoch - 1ms\/step\n",
      "Epoch 42\/100\n",
      "800\/800 - 1s - loss: 0.4038 - accuracy: 0.8347 - 931ms\/epoch - 1ms\/step\n",
      "Epoch 43\/100\n",
      "800\/800 - 1s - loss: 0.4037 - accuracy: 0.8342 - 957ms\/epoch - 1ms\/step\n",
      "Epoch 44\/100\n",
      "800\/800 - 1s - loss: 0.4034 - accuracy: 0.8353 - 951ms\/epoch - 1ms\/step\n",
      "Epoch 45\/100\n",
      "800\/800 - 1s - loss: 0.4039 - accuracy: 0.8338 - 942ms\/epoch - 1ms\/step\n",
      "Epoch 46\/100\n",
      "800\/800 - 1s - loss: 0.4035 - accuracy: 0.8342 - 933ms\/epoch - 1ms\/step\n",
      "Epoch 47\/100\n",
      "800\/800 - 1s - loss: 0.4038 - accuracy: 0.8339 - 953ms\/epoch - 1ms\/step\n",
      "Epoch 48\/100\n",
      "800\/800 - 1s - loss: 0.4034 - accuracy: 0.8340 - 930ms\/epoch - 1ms\/step\n",
      "Epoch 49\/100\n",
      "800\/800 - 1s - loss: 0.4029 - accuracy: 0.8334 - 926ms\/epoch - 1ms\/step\n",
      "Epoch 50\/100\n",
      "800\/800 - 1s - loss: 0.4031 - accuracy: 0.8354 - 946ms\/epoch - 1ms\/step\n",
      "Epoch 51\/100\n",
      "800\/800 - 1s - loss: 0.4030 - accuracy: 0.8342 - 890ms\/epoch - 1ms\/step\n",
      "Epoch 52\/100\n",
      "800\/800 - 1s - loss: 0.4029 - accuracy: 0.8354 - 916ms\/epoch - 1ms\/step\n",
      "Epoch 53\/100\n",
      "800\/800 - 1s - loss: 0.4031 - accuracy: 0.8354 - 952ms\/epoch - 1ms\/step\n",
      "Epoch 54\/100\n",
      "800\/800 - 1s - loss: 0.4032 - accuracy: 0.8357 - 947ms\/epoch - 1ms\/step\n",
      "Epoch 55\/100\n",
      "800\/800 - 1s - loss: 0.4029 - accuracy: 0.8336 - 946ms\/epoch - 1ms\/step\n",
      "Epoch 56\/100\n",
      "800\/800 - 1s - loss: 0.4026 - accuracy: 0.8353 - 943ms\/epoch - 1ms\/step\n",
      "Epoch 57\/100\n",
      "800\/800 - 1s - loss: 0.4027 - accuracy: 0.8339 - 950ms\/epoch - 1ms\/step\n",
      "Epoch 58\/100\n",
      "800\/800 - 1s - loss: 0.4028 - accuracy: 0.8355 - 954ms\/epoch - 1ms\/step\n",
      "Epoch 59\/100\n",
      "800\/800 - 1s - loss: 0.4025 - accuracy: 0.8357 - 901ms\/epoch - 1ms\/step\n",
      "Epoch 60\/100\n",
      "800\/800 - 1s - loss: 0.4028 - accuracy: 0.8360 - 904ms\/epoch - 1ms\/step\n",
      "Epoch 61\/100\n",
      "800\/800 - 1s - loss: 0.4027 - accuracy: 0.8350 - 947ms\/epoch - 1ms\/step\n",
      "Epoch 62\/100\n",
      "800\/800 - 1s - loss: 0.4021 - accuracy: 0.8350 - 951ms\/epoch - 1ms\/step\n",
      "Epoch 63\/100\n",
      "800\/800 - 1s - loss: 0.4024 - accuracy: 0.8342 - 951ms\/epoch - 1ms\/step\n",
      "Epoch 64\/100\n",
      "800\/800 - 1s - loss: 0.4026 - accuracy: 0.8354 - 948ms\/epoch - 1ms\/step\n",
      "Epoch 65\/100\n",
      "800\/800 - 1s - loss: 0.4026 - accuracy: 0.8341 - 906ms\/epoch - 1ms\/step\n",
      "Epoch 66\/100\n",
      "800\/800 - 1s - loss: 0.4024 - accuracy: 0.8355 - 915ms\/epoch - 1ms\/step\n",
      "Epoch 67\/100\n",
      "800\/800 - 1s - loss: 0.4023 - accuracy: 0.8356 - 928ms\/epoch - 1ms\/step\n",
      "Epoch 68\/100\n",
      "800\/800 - 1s - loss: 0.4027 - accuracy: 0.8339 - 939ms\/epoch - 1ms\/step\n",
      "Epoch 69\/100\n",
      "800\/800 - 1s - loss: 0.4027 - accuracy: 0.8363 - 941ms\/epoch - 1ms\/step\n",
      "Epoch 70\/100\n",
      "800\/800 - 1s - loss: 0.4023 - accuracy: 0.8354 - 945ms\/epoch - 1ms\/step\n",
      "Epoch 71\/100\n",
      "800\/800 - 1s - loss: 0.4026 - accuracy: 0.8335 - 926ms\/epoch - 1ms\/step\n",
      "Epoch 72\/100\n",
      "800\/800 - 1s - loss: 0.4024 - accuracy: 0.8355 - 952ms\/epoch - 1ms\/step\n",
      "Epoch 73\/100\n",
      "800\/800 - 1s - loss: 0.4022 - accuracy: 0.8365 - 952ms\/epoch - 1ms\/step\n",
      "Epoch 74\/100\n",
      "800\/800 - 1s - loss: 0.4020 - accuracy: 0.8369 - 949ms\/epoch - 1ms\/step\n",
      "Epoch 75\/100\n",
      "800\/800 - 1s - loss: 0.4023 - accuracy: 0.8349 - 954ms\/epoch - 1ms\/step\n",
      "Epoch 76\/100\n",
      "800\/800 - 1s - loss: 0.4024 - accuracy: 0.8355 - 949ms\/epoch - 1ms\/step\n",
      "Epoch 77\/100\n",
      "800\/800 - 1s - loss: 0.4022 - accuracy: 0.8354 - 916ms\/epoch - 1ms\/step\n",
      "Epoch 78\/100\n",
      "800\/800 - 1s - loss: 0.4018 - accuracy: 0.8347 - 934ms\/epoch - 1ms\/step\n",
      "Epoch 79\/100\n",
      "800\/800 - 1s - loss: 0.4023 - accuracy: 0.8359 - 950ms\/epoch - 1ms\/step\n",
      "Epoch 80\/100\n",
      "800\/800 - 1s - loss: 0.4022 - accuracy: 0.8370 - 939ms\/epoch - 1ms\/step\n",
      "Epoch 81\/100\n",
      "800\/800 - 1s - loss: 0.4022 - accuracy: 0.8351 - 951ms\/epoch - 1ms\/step\n",
      "Epoch 82\/100\n",
      "800\/800 - 1s - loss: 0.4017 - accuracy: 0.8350 - 944ms\/epoch - 1ms\/step\n",
      "Epoch 83\/100\n",
      "800\/800 - 1s - loss: 0.4020 - accuracy: 0.8349 - 925ms\/epoch - 1ms\/step\n",
      "Epoch 84\/100\n",
      "800\/800 - 1s - loss: 0.4020 - accuracy: 0.8349 - 937ms\/epoch - 1ms\/step\n",
      "Epoch 85\/100\n",
      "800\/800 - 1s - loss: 0.4025 - accuracy: 0.8349 - 952ms\/epoch - 1ms\/step\n",
      "Epoch 86\/100\n",
      "800\/800 - 1s - loss: 0.4018 - accuracy: 0.8349 - 918ms\/epoch - 1ms\/step\n",
      "Epoch 87\/100\n",
      "800\/800 - 1s - loss: 0.4020 - accuracy: 0.8349 - 921ms\/epoch - 1ms\/step\n",
      "Epoch 88\/100\n",
      "800\/800 - 1s - loss: 0.4022 - accuracy: 0.8351 - 950ms\/epoch - 1ms\/step\n",
      "Epoch 89\/100\n",
      "800\/800 - 1s - loss: 0.4019 - accuracy: 0.8351 - 905ms\/epoch - 1ms\/step\n",
      "Epoch 90\/100\n",
      "800\/800 - 1s - loss: 0.4019 - accuracy: 0.8366 - 922ms\/epoch - 1ms\/step\n",
      "Epoch 91\/100\n",
      "800\/800 - 1s - loss: 0.4023 - accuracy: 0.8355 - 940ms\/epoch - 1ms\/step\n",
      "Epoch 92\/100\n",
      "800\/800 - 1s - loss: 0.4022 - accuracy: 0.8354 - 943ms\/epoch - 1ms\/step\n",
      "Epoch 93\/100\n",
      "800\/800 - 1s - loss: 0.4018 - accuracy: 0.8345 - 928ms\/epoch - 1ms\/step\n",
      "Epoch 94\/100\n",
      "800\/800 - 1s - loss: 0.4020 - accuracy: 0.8357 - 940ms\/epoch - 1ms\/step\n",
      "Epoch 95\/100\n",
      "800\/800 - 1s - loss: 0.4018 - accuracy: 0.8355 - 904ms\/epoch - 1ms\/step\n",
      "Epoch 96\/100\n",
      "800\/800 - 1s - loss: 0.4016 - accuracy: 0.8361 - 953ms\/epoch - 1ms\/step\n",
      "Epoch 97\/100\n",
      "800\/800 - 1s - loss: 0.4021 - accuracy: 0.8356 - 949ms\/epoch - 1ms\/step\n",
      "Epoch 98\/100\n",
      "800\/800 - 1s - loss: 0.4021 - accuracy: 0.8355 - 932ms\/epoch - 1ms\/step\n",
      "Epoch 99\/100\n",
      "800\/800 - 1s - loss: 0.4014 - accuracy: 0.8366 - 942ms\/epoch - 1ms\/step\n",
      "Epoch 100\/100\n",
      "800\/800 - 1s - loss: 0.4021 - accuracy: 0.8354 - 943ms\/epoch - 1ms\/step\n"
     ],
     "output_type":"stream"
    },
    {
     "data":{
      "text\/plain":[
       "<keras.callbacks.History at 0x7feb5bf28be0>"
      ]
     },
     "metadata":{
      
     },
     "output_type":"display_data"
    }
   ],
   "metadata":{
    "datalore":{
     "node_id":"6ZMpKKXV1Sr7FqSUF4NYcD",
     "type":"CODE",
     "hide_input_from_viewers":true,
     "hide_output_from_viewers":true
    }
   }
  },
  {
   "cell_type":"code",
   "source":[
    "score, acc = ann.evaluate(X_train, y_train,\n",
    "                            batch_size=10)\n",
    "print('Train score:', score)\n",
    "print('Train accuracy:', acc)"
   ],
   "execution_count":84,
   "outputs":[
    {
     "name":"stdout",
     "text":[
      "\r  1\/800 [..............................] - ETA: 20s - loss: 0.8607 - accuracy: 0.7000\b\b\b\b\b\b\b\b\b\b\b\b\b\b\b\b\b\b\b\b\b\b\b\b\b\b\b\b\b\b\b\b\b\b\b\b\b\b\b\b\b\b\b\b\b\b\b\b\b\b\b\b\b\b\b\b\b\b\b\b\b\b\b\b\b\b\b\b\b\b\b\b\b\b\b\b\b\b\b\b\b\b\b\b\b\r 37\/800 [>.............................] - ETA: 1s - loss: 0.3967 - accuracy: 0.8459 \b\b\b\b\b\b\b\b\b\b\b\b\b\b\b\b\b\b\b\b\b\b\b\b\b\b\b\b\b\b\b\b\b\b\b\b\b\b\b\b\b\b\b\b\b\b\b\b\b\b\b\b\b\b\b\b\b\b\b\b\b\b\b\b\b\b\b\b\b\b\b\b\b\b\b\b\b\b\b\b\b\b\b\b\r 77\/800 [=>............................] - ETA: 0s - loss: 0.3898 - accuracy: 0.8558\b\b\b\b\b\b\b\b\b\b\b\b\b\b\b\b\b\b\b\b\b\b\b\b\b\b\b\b\b\b\b\b\b\b\b\b\b\b\b\b\b\b\b\b\b\b\b\b\b\b\b\b\b\b\b\b\b\b\b\b\b\b\b\b\b\b\b\b\b\b\b\b\b\b\b\b\b\b\b\b\b\b\b\b\r117\/800 [===>..........................] - ETA: 0s - loss: 0.3857 - accuracy: 0.8521\b\b\b\b\b\b\b\b\b\b\b\b\b\b\b\b\b\b\b\b\b\b\b\b\b\b\b\b\b\b\b\b\b\b\b\b\b\b\b\b\b\b\b\b\b\b\b\b\b\b\b\b\b\b\b\b\b\b\b\b\b\b\b\b\b\b\b\b\b\b\b\b\b\b\b\b\b\b\b\b\b\b\b\b\r159\/800 [====>.........................] - ETA: 0s - loss: 0.3973 - accuracy: 0.8440\b\b\b\b\b\b\b\b\b\b\b\b\b\b\b\b\b\b\b\b\b\b\b\b\b\b\b\b\b\b\b\b\b\b\b\b\b\b\b\b\b\b\b\b\b\b\b\b\b\b\b\b\b\b\b\b\b\b\b\b\b\b\b\b\b\b\b\b\b\b\b\b\b\b\b\b\b\b\b\b\b\b\b\b\r198\/800 [======>.......................] - ETA: 0s - loss: 0.4041 - accuracy: 0.8374\b\b\b\b\b\b\b\b\b\b\b\b\b\b\b\b\b\b\b\b\b\b\b\b\b\b\b\b\b\b\b\b\b\b\b\b\b\b\b\b\b\b\b\b\b\b\b\b\b\b\b\b\b\b\b\b\b\b\b\b\b\b\b\b\b\b\b\b\b\b\b\b\b\b\b\b\b\b\b\b\b\b\b\b\r240\/800 [========>.....................] - ETA: 0s - loss: 0.4105 - accuracy: 0.8346\b\b\b\b\b\b\b\b\b\b\b\b\b\b\b\b\b\b\b\b\b\b\b\b\b\b\b\b\b\b\b\b\b\b\b\b\b\b\b\b\b\b\b\b\b\b\b\b\b\b\b\b\b\b\b\b\b\b\b\b\b\b\b\b\b\b\b\b\b\b\b\b\b\b\b\b\b\b\b\b\b\b\b\b\r280\/800 [=========>....................] - ETA: 0s - loss: 0.4060 - accuracy: 0.8354\b\b\b\b\b\b\b\b\b\b\b\b\b\b\b\b\b\b\b\b\b\b\b\b\b\b\b\b\b\b\b\b\b\b\b\b\b\b\b\b\b\b\b\b\b\b\b\b\b\b\b\b\b\b\b\b\b\b\b\b\b\b\b\b\b\b\b\b\b\b\b\b\b\b\b\b\b\b\b\b\b\b\b\b\r322\/800 [===========>..................] - ETA: 0s - loss: 0.4091 - accuracy: 0.8317\b\b\b\b\b\b\b\b\b\b\b\b\b\b\b\b\b\b\b\b\b\b\b\b\b\b\b\b\b\b\b\b\b\b\b\b\b\b\b\b\b\b\b\b\b\b\b\b\b\b\b\b\b\b\b\b\b\b\b\b\b\b\b\b\b\b\b\b\b\b\b\b\b\b\b\b\b\b\b\b\b\b\b\b\r362\/800 [============>.................] - ETA: 0s - loss: 0.4126 - accuracy: 0.8296\b\b\b\b\b\b\b\b\b\b\b\b\b\b\b\b\b\b\b\b\b\b\b\b\b\b\b\b\b\b\b\b\b\b\b\b\b\b\b\b\b\b\b\b\b\b\b\b\b\b\b\b\b\b\b\b\b\b\b\b\b\b\b\b\b\b\b\b\b\b\b\b\b\b\b\b\b\b\b\b\b\b\b\b\r405\/800 [==============>...............] - ETA: 0s - loss: 0.4055 - accuracy: 0.8336\b\b\b\b\b\b\b\b\b\b\b\b\b\b\b\b\b\b\b\b\b\b\b\b\b\b\b\b\b\b\b\b\b\b\b\b\b\b\b\b\b\b\b\b\b\b\b\b\b\b\b\b\b\b\b\b\b\b\b\b\b\b\b\b\b\b\b\b\b\b\b\b\b\b\b\b\b\b\b\b\b\b\b\b\r446\/800 [===============>..............] - ETA: 0s - loss: 0.3986 - accuracy: 0.8352\b\b\b\b\b\b\b\b\b\b\b\b\b\b\b\b\b\b\b\b\b\b\b\b\b\b\b\b\b\b\b\b\b\b\b\b\b\b\b\b\b\b\b\b\b\b\b\b\b\b\b\b\b\b\b\b\b\b\b\b\b\b\b\b\b\b\b\b\b\b\b\b\b\b\b\b\b\b\b\b\b\b\b\b\r486\/800 [=================>............] - ETA: 0s - loss: 0.3967 - accuracy: 0.8368\b\b\b\b\b\b\b\b\b\b\b\b\b\b\b\b\b\b\b\b\b\b\b\b\b\b\b\b\b\b\b\b\b\b\b\b\b\b\b\b\b\b\b\b\b\b\b\b\b\b\b\b\b\b\b\b\b\b\b\b\b\b\b\b\b\b\b\b\b\b\b\b\b\b\b\b\b\b\b\b\b\b\b\b\r526\/800 [==================>...........] - ETA: 0s - loss: 0.3956 - accuracy: 0.8384\b\b\b\b\b\b\b\b\b\b\b\b\b\b\b\b\b\b\b\b\b\b\b\b\b\b\b\b\b\b\b\b\b\b\b\b\b\b\b\b\b\b\b\b\b\b\b\b\b\b\b\b\b\b\b\b\b\b\b\b\b\b\b\b\b\b\b\b\b\b\b\b\b\b\b\b\b\b\b\b\b\b\b\b\r568\/800 [====================>.........] - ETA: 0s - loss: 0.3951 - accuracy: 0.8387\b\b\b\b\b\b\b\b\b\b\b\b\b\b\b\b\b\b\b\b\b\b\b\b\b\b\b\b\b\b\b\b\b\b\b\b\b\b\b\b\b\b\b\b\b\b\b\b\b\b\b\b\b\b\b\b\b\b\b\b\b\b\b\b\b\b\b\b\b\b\b\b\b\b\b\b\b\b\b\b\b\b\b\b\r606\/800 [=====================>........] - ETA: 0s - loss: 0.3985 - accuracy: 0.8370\b\b\b\b\b\b\b\b\b\b\b\b\b\b\b\b\b\b\b\b\b\b\b\b\b\b\b\b\b\b\b\b\b\b\b\b\b\b\b\b\b\b\b\b\b\b\b\b\b\b\b\b\b\b\b\b\b\b\b\b\b\b\b\b\b\b\b\b\b\b\b\b\b\b\b\b\b\b\b\b\b\b\b\b\r648\/800 [=======================>......] - ETA: 0s - loss: 0.3989 - accuracy: 0.8378\b\b\b\b\b\b\b\b\b\b\b\b\b\b\b\b\b\b\b\b\b\b\b\b\b\b\b\b\b\b\b\b\b\b\b\b\b\b\b\b\b\b\b\b\b\b\b\b\b\b\b\b\b\b\b\b\b\b\b\b\b\b\b\b\b\b\b\b\b\b\b\b\b\b\b\b\b\b\b\b\b\b\b\b\r690\/800 [========================>.....] - ETA: 0s - loss: 0.3999 - accuracy: 0.8371\b\b\b\b\b\b\b\b\b\b\b\b\b\b\b\b\b\b\b\b\b\b\b\b\b\b\b\b\b\b\b\b\b\b\b\b\b\b\b\b\b\b\b\b\b\b\b\b\b\b\b\b\b\b\b\b\b\b\b\b\b\b\b\b\b\b\b\b\b\b\b\b\b\b\b\b\b\b\b\b\b\b\b\b\r732\/800 [==========================>...] - ETA: 0s - loss: 0.3998 - accuracy: 0.8366\b\b\b\b\b\b\b\b\b\b\b\b\b\b\b\b\b\b\b\b\b\b\b\b\b\b\b\b\b\b\b\b\b\b\b\b\b\b\b\b\b\b\b\b\b\b\b\b\b\b\b\b\b\b\b\b\b\b\b\b\b\b\b\b\b\b\b\b\b\b\b\b\b\b\b\b\b\b\b\b\b\b\b\b\r774\/800 [============================>.] - ETA: 0s - loss: 0.3999 - accuracy: 0.8364\b\b\b\b\b\b\b\b\b\b\b\b\b\b\b\b\b\b\b\b\b\b\b\b\b\b\b\b\b\b\b\b\b\b\b\b\b\b\b\b\b\b\b\b\b\b\b\b\b\b\b\b\b\b\b\b\b\b\b\b\b\b\b\b\b\b\b\b\b\b\b\b\b\b\b\b\b\b\b\b\b\b\b\b\r800\/800 [==============================] - 1s 1ms\/step - loss: 0.3997 - accuracy: 0.8363\n",
      "Train score: 0.3996937870979309\n",
      "Train accuracy: 0.8362500071525574\n"
     ],
     "output_type":"stream"
    }
   ],
   "metadata":{
    "datalore":{
     "node_id":"HcqVEFwuf73Wh4RyDugi9I",
     "type":"CODE",
     "hide_input_from_viewers":true,
     "hide_output_from_viewers":true
    }
   }
  },
  {
   "cell_type":"code",
   "source":[
    "# Part 3 - Making predictions and evaluating the model\n",
    "\n",
    "# Predicting the Test set results\n",
    "y_pred = ann.predict(X_test)\n",
    "y_pred = (y_pred > 0.5)\n",
    "\n",
    "score, acc = ann.evaluate(X_test, y_test,\n",
    "                            batch_size=10)\n",
    "print('Test score:', score)\n",
    "print('Test accuracy:', acc)"
   ],
   "execution_count":86,
   "outputs":[
    {
     "name":"stdout",
     "text":[
      "\r 1\/63 [..............................] - ETA: 1s\b\b\b\b\b\b\b\b\b\b\b\b\b\b\b\b\b\b\b\b\b\b\b\b\b\b\b\b\b\b\b\b\b\b\b\b\b\b\b\b\b\b\b\b\b\b\b\b\r43\/63 [===================>..........] - ETA: 0s\b\b\b\b\b\b\b\b\b\b\b\b\b\b\b\b\b\b\b\b\b\b\b\b\b\b\b\b\b\b\b\b\b\b\b\b\b\b\b\b\b\b\b\b\b\b\b\b\r63\/63 [==============================] - 0s 1ms\/step\n",
      "\r  1\/200 [..............................] - ETA: 4s - loss: 0.5346 - accuracy: 0.9000\b\b\b\b\b\b\b\b\b\b\b\b\b\b\b\b\b\b\b\b\b\b\b\b\b\b\b\b\b\b\b\b\b\b\b\b\b\b\b\b\b\b\b\b\b\b\b\b\b\b\b\b\b\b\b\b\b\b\b\b\b\b\b\b\b\b\b\b\b\b\b\b\b\b\b\b\b\b\b\b\b\b\b\b\r 42\/200 [=====>........................] - ETA: 0s - loss: 0.4100 - accuracy: 0.8238\b\b\b\b\b\b\b\b\b\b\b\b\b\b\b\b\b\b\b\b\b\b\b\b\b\b\b\b\b\b\b\b\b\b\b\b\b\b\b\b\b\b\b\b\b\b\b\b\b\b\b\b\b\b\b\b\b\b\b\b\b\b\b\b\b\b\b\b\b\b\b\b\b\b\b\b\b\b\b\b\b\b\b\b\r 81\/200 [===========>..................] - ETA: 0s - loss: 0.4065 - accuracy: 0.8309\b\b\b\b\b\b\b\b\b\b\b\b\b\b\b\b\b\b\b\b\b\b\b\b\b\b\b\b\b\b\b\b\b\b\b\b\b\b\b\b\b\b\b\b\b\b\b\b\b\b\b\b\b\b\b\b\b\b\b\b\b\b\b\b\b\b\b\b\b\b\b\b\b\b\b\b\b\b\b\b\b\b\b\b\r117\/200 [================>.............] - ETA: 0s - loss: 0.3988 - accuracy: 0.8359\b\b\b\b\b\b\b\b\b\b\b\b\b\b\b\b\b\b\b\b\b\b\b\b\b\b\b\b\b\b\b\b\b\b\b\b\b\b\b\b\b\b\b\b\b\b\b\b\b\b\b\b\b\b\b\b\b\b\b\b\b\b\b\b\b\b\b\b\b\b\b\b\b\b\b\b\b\b\b\b\b\b\b\b\r158\/200 [======================>.......] - ETA: 0s - loss: 0.3919 - accuracy: 0.8373\b\b\b\b\b\b\b\b\b\b\b\b\b\b\b\b\b\b\b\b\b\b\b\b\b\b\b\b\b\b\b\b\b\b\b\b\b\b\b\b\b\b\b\b\b\b\b\b\b\b\b\b\b\b\b\b\b\b\b\b\b\b\b\b\b\b\b\b\b\b\b\b\b\b\b\b\b\b\b\b\b\b\b\b\r198\/200 [============================>.] - ETA: 0s - loss: 0.3846 - accuracy: 0.8404\b\b\b\b\b\b\b\b\b\b\b\b\b\b\b\b\b\b\b\b\b\b\b\b\b\b\b\b\b\b\b\b\b\b\b\b\b\b\b\b\b\b\b\b\b\b\b\b\b\b\b\b\b\b\b\b\b\b\b\b\b\b\b\b\b\b\b\b\b\b\b\b\b\b\b\b\b\b\b\b\b\b\b\b\r200\/200 [==============================] - 0s 1ms\/step - loss: 0.3868 - accuracy: 0.8390\n",
      "Test score: 0.38680386543273926\n",
      "Test accuracy: 0.8389999866485596\n"
     ],
     "output_type":"stream"
    }
   ],
   "metadata":{
    "datalore":{
     "node_id":"O1PsTV7ey9yLAWTMZV3yTF",
     "type":"CODE",
     "hide_input_from_viewers":true,
     "hide_output_from_viewers":true
    }
   }
  },
  {
   "cell_type":"code",
   "source":[
    "# Making the Confusion Matrix\n",
    "from sklearn.metrics import confusion_matrix\n",
    "cm = confusion_matrix(y_test, y_pred)"
   ],
   "execution_count":88,
   "outputs":[
    
   ],
   "metadata":{
    "datalore":{
     "node_id":"Nn4ngLVzVFDLwq278S4rsS",
     "type":"CODE",
     "hide_input_from_viewers":true,
     "hide_output_from_viewers":true
    }
   }
  },
  {
   "cell_type":"code",
   "source":[
    "p = sns.heatmap(pd.DataFrame(cm), annot=True, cmap=\"YlGnBu\" ,fmt='g')\n",
    "plt.title('Confusion matrix', y=1.1)\n",
    "plt.ylabel('Actual label')\n",
    "plt.xlabel('Predicted label')"
   ],
   "execution_count":89,
   "outputs":[
    {
     "data":{
      "text\/plain":[
       "Text(0.5, 15.0, 'Predicted label')"
      ]
     },
     "metadata":{
      
     },
     "output_type":"display_data"
    },
    {
     "data":{
      "image\/png":"[encoded data removed]"
     },
     "metadata":{
      "image\/png":{
       
      }
     },
     "output_type":"display_data"
    }
   ],
   "metadata":{
    "datalore":{
     "node_id":"udoQ9c3CwfrUIc8xzwfTwG",
     "type":"CODE",
     "hide_input_from_viewers":true,
     "hide_output_from_viewers":true
    }
   }
  },
  {
   "cell_type":"code",
   "source":[
    "#import classification_report\n",
    "from sklearn.metrics import classification_report\n",
    "print(classification_report(y_test,y_pred))"
   ],
   "execution_count":91,
   "outputs":[
    {
     "name":"stdout",
     "text":[
      "              precision    recall  f1-score   support\n",
      "\n",
      "           0       0.85      0.97      0.91      1607\n",
      "           1       0.71      0.30      0.42       393\n",
      "\n",
      "    accuracy                           0.84      2000\n",
      "   macro avg       0.78      0.64      0.67      2000\n",
      "weighted avg       0.82      0.84      0.81      2000\n",
      "\n"
     ],
     "output_type":"stream"
    }
   ],
   "metadata":{
    "datalore":{
     "node_id":"BnBhMsJmeefjCphKdovFum",
     "type":"CODE",
     "hide_input_from_viewers":true,
     "hide_output_from_viewers":true
    }
   }
  },
  {
   "cell_type":"code",
   "source":[
    "X_test"
   ],
   "execution_count":92,
   "outputs":[
    {
     "data":{
      "text\/html":[
       "<pre>array([[-0.57749609, -0.91324755, -0.6557859 , ..., -0.99850112,\n",
       "         1.72572313, -0.57638802],\n",
       "       [-0.29729735, -0.91324755,  0.3900109 , ...,  1.00150113,\n",
       "        -0.57946723, -0.57638802],\n",
       "       [-0.52560743,  1.09499335,  0.48508334, ..., -0.99850112,\n",
       "        -0.57946723,  1.73494238],\n",
       "       ...,\n",
       "       [ 0.81311987,  1.09499335,  0.77030065, ...,  1.00150113,\n",
       "        -0.57946723, -0.57638802],\n",
       "       [ 0.41876609, -0.91324755, -0.94100321, ...,  1.00150113,\n",
       "        -0.57946723, -0.57638802],\n",
       "       [-0.24540869, -0.91324755,  0.00972116, ..., -0.99850112,\n",
       "         1.72572313, -0.57638802]])<\/pre>"
      ]
     },
     "metadata":{
      
     },
     "output_type":"display_data"
    }
   ],
   "metadata":{
    "datalore":{
     "node_id":"5wSMB8UTw3zCiNoLTlWWbm",
     "type":"CODE",
     "hide_input_from_viewers":true,
     "hide_output_from_viewers":true
    }
   }
  }
 ],
 "metadata":{
  "kernelspec":{
   "display_name":"Python",
   "language":"python",
   "name":"python"
  },
  "datalore":{
   "computation_mode":"JUPYTER",
   "package_manager":"pip",
   "base_environment":"default",
   "packages":[
    
   ],
   "report_row_ids":[
    
   ],
   "version":3
  }
 },
 "nbformat":4,
 "nbformat_minor":4
}