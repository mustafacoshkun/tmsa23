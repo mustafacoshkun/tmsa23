{
 "cells":[
  {
   "cell_type":"code",
   "source":[
    "import pandas as pd\n",
    "df = pd.read_stata('test.dta')\n",
    "df"
   ],
   "execution_count":28,
   "outputs":[
    {
     "data":{
      "text\/html":[
       "<div>\n",
       "<style scoped>\n",
       "    .dataframe tbody tr th:only-of-type {\n",
       "        vertical-align: middle;\n",
       "    }\n",
       "\n",
       "    .dataframe tbody tr th {\n",
       "        vertical-align: top;\n",
       "    }\n",
       "\n",
       "    .dataframe thead th {\n",
       "        text-align: right;\n",
       "    }\n",
       "<\/style>\n",
       "<table border=\"1\" class=\"dataframe\">\n",
       "  <thead>\n",
       "    <tr style=\"text-align: right;\">\n",
       "      <th><\/th>\n",
       "      <th>version<\/th>\n",
       "      <th>doi<\/th>\n",
       "      <th>v1<\/th>\n",
       "      <th>v2<\/th>\n",
       "      <th>v3<\/th>\n",
       "      <th>v4<\/th>\n",
       "      <th>v5<\/th>\n",
       "    <\/tr>\n",
       "  <\/thead>\n",
       "  <tbody>\n",
       "    <tr>\n",
       "      <th>0<\/th>\n",
       "      <td>1.0 (2020-11-25)<\/td>\n",
       "      <td>doi:10.11587\/EOPCOB<\/td>\n",
       "      <td>1231991120<\/td>\n",
       "      <td>437960685<\/td>\n",
       "      <td>Ich befürchte aber sehr, dass Sie weiterwurst...<\/td>\n",
       "      <td>Stark negativ<\/td>\n",
       "      <td>126<\/td>\n",
       "    <\/tr>\n",
       "    <tr>\n",
       "      <th>1<\/th>\n",
       "      <td>1.0 (2020-11-25)<\/td>\n",
       "      <td>doi:10.11587\/EOPCOB<\/td>\n",
       "      <td>1231991210<\/td>\n",
       "      <td>437960678<\/td>\n",
       "      <td>' Gabriela Benesch, im Film Ohrfeigenausteiler...<\/td>\n",
       "      <td>Sehr stark negativ<\/td>\n",
       "      <td>126<\/td>\n",
       "    <\/tr>\n",
       "    <tr>\n",
       "      <th>2<\/th>\n",
       "      <td>1.0 (2020-11-25)<\/td>\n",
       "      <td>doi:10.11587\/EOPCOB<\/td>\n",
       "      <td>1232050116<\/td>\n",
       "      <td>437960654<\/td>\n",
       "      <td>Hier sehen wir wieder einmal einen weiteren S...<\/td>\n",
       "      <td>Stark negativ<\/td>\n",
       "      <td>126<\/td>\n",
       "    <\/tr>\n",
       "    <tr>\n",
       "      <th>3<\/th>\n",
       "      <td>1.0 (2020-11-25)<\/td>\n",
       "      <td>doi:10.11587\/EOPCOB<\/td>\n",
       "      <td>1232050127<\/td>\n",
       "      <td>437960398<\/td>\n",
       "      <td>(Abg_ Schwemlein: Lieber drüberfahren!<\/td>\n",
       "      <td>Nicht negativ<\/td>\n",
       "      <td>126<\/td>\n",
       "    <\/tr>\n",
       "    <tr>\n",
       "      <th>4<\/th>\n",
       "      <td>1.0 (2020-11-25)<\/td>\n",
       "      <td>doi:10.11587\/EOPCOB<\/td>\n",
       "      <td>1232050130<\/td>\n",
       "      <td>437960460<\/td>\n",
       "      <td>) Ich bin nicht grantig, ich sage Ihnen nur da...<\/td>\n",
       "      <td>Stark negativ<\/td>\n",
       "      <td>126<\/td>\n",
       "    <\/tr>\n",
       "    <tr>\n",
       "      <th>...<\/th>\n",
       "      <td>...<\/td>\n",
       "      <td>...<\/td>\n",
       "      <td>...<\/td>\n",
       "      <td>...<\/td>\n",
       "      <td>...<\/td>\n",
       "      <td>...<\/td>\n",
       "      <td>...<\/td>\n",
       "    <\/tr>\n",
       "    <tr>\n",
       "      <th>125866<\/th>\n",
       "      <td>1.0 (2020-11-25)<\/td>\n",
       "      <td>doi:10.11587\/EOPCOB<\/td>\n",
       "      <td>1500980838<\/td>\n",
       "      <td>625296866<\/td>\n",
       "      <td>FP-Schnell zu TV-Duell: Haupt Sieger über Guse...<\/td>\n",
       "      <td>Nicht negativ<\/td>\n",
       "      <td>296<\/td>\n",
       "    <\/tr>\n",
       "    <tr>\n",
       "      <th>125867<\/th>\n",
       "      <td>1.0 (2020-11-25)<\/td>\n",
       "      <td>doi:10.11587\/EOPCOB<\/td>\n",
       "      <td>1500981223<\/td>\n",
       "      <td>625296852<\/td>\n",
       "      <td>Grüne: Wieso schweigt die katholische Kirche z...<\/td>\n",
       "      <td>Sehr schwach negativ<\/td>\n",
       "      <td>296<\/td>\n",
       "    <\/tr>\n",
       "    <tr>\n",
       "      <th>125868<\/th>\n",
       "      <td>1.0 (2020-11-25)<\/td>\n",
       "      <td>doi:10.11587\/EOPCOB<\/td>\n",
       "      <td>1500981225<\/td>\n",
       "      <td>625296882<\/td>\n",
       "      <td>SPÖ-Tierschutzsprecherin Parfuss zum Bundestie...<\/td>\n",
       "      <td>Sehr schwach negativ<\/td>\n",
       "      <td>296<\/td>\n",
       "    <\/tr>\n",
       "    <tr>\n",
       "      <th>125869<\/th>\n",
       "      <td>1.0 (2020-11-25)<\/td>\n",
       "      <td>doi:10.11587\/EOPCOB<\/td>\n",
       "      <td>1500981728<\/td>\n",
       "      <td>625296852<\/td>\n",
       "      <td>Grüne: Wieso schweigt die katholische Kirche z...<\/td>\n",
       "      <td>Nicht negativ<\/td>\n",
       "      <td>261<\/td>\n",
       "    <\/tr>\n",
       "    <tr>\n",
       "      <th>125870<\/th>\n",
       "      <td>1.0 (2020-11-25)<\/td>\n",
       "      <td>doi:10.11587\/EOPCOB<\/td>\n",
       "      <td>1500981733<\/td>\n",
       "      <td>625296882<\/td>\n",
       "      <td>SPÖ-Tierschutzsprecherin Parfuss zum Bundestie...<\/td>\n",
       "      <td>Schwach negativ<\/td>\n",
       "      <td>261<\/td>\n",
       "    <\/tr>\n",
       "  <\/tbody>\n",
       "<\/table>\n",
       "<p>125871 rows × 7 columns<\/p>\n",
       "<\/div>"
      ]
     },
     "metadata":{
      
     },
     "output_type":"display_data"
    }
   ],
   "metadata":{
    "datalore":{
     "node_id":"SKIV1Wt6oLa47xqlKmGzLb",
     "type":"CODE",
     "hide_input_from_viewers":false,
     "hide_output_from_viewers":false,
     "report_properties":{
      "rowId":"hm2Fqap8PymvowXnHECO4z"
     }
    }
   }
  },
  {
   "cell_type":"code",
   "source":[
    "df.head(1).values"
   ],
   "execution_count":29,
   "outputs":[
    {
     "data":{
      "text\/html":[
       "<pre>array([['1.0 (2020-11-25)', 'doi:10.11587\/EOPCOB', 1231991120, 437960685,\n",
       "        ' Ich befürchte aber sehr, dass Sie weiterwursteln werden, denn Ihre eigene Partei trägt vieles nicht mit dem ganzen Herzen mit.',\n",
       "        'Stark negativ', 126]], dtype=object)<\/pre>"
      ]
     },
     "metadata":{
      
     },
     "output_type":"display_data"
    }
   ],
   "metadata":{
    "datalore":{
     "node_id":"LxsrynLpnMtnIlYjve1JRf",
     "type":"CODE",
     "hide_input_from_viewers":true,
     "hide_output_from_viewers":true
    }
   }
  },
  {
   "cell_type":"code",
   "source":[
    "df.loc[df['v2']==437960685]"
   ],
   "execution_count":30,
   "outputs":[
    {
     "data":{
      "text\/html":[
       "<div>\n",
       "<style scoped>\n",
       "    .dataframe tbody tr th:only-of-type {\n",
       "        vertical-align: middle;\n",
       "    }\n",
       "\n",
       "    .dataframe tbody tr th {\n",
       "        vertical-align: top;\n",
       "    }\n",
       "\n",
       "    .dataframe thead th {\n",
       "        text-align: right;\n",
       "    }\n",
       "<\/style>\n",
       "<table border=\"1\" class=\"dataframe\">\n",
       "  <thead>\n",
       "    <tr style=\"text-align: right;\">\n",
       "      <th><\/th>\n",
       "      <th>version<\/th>\n",
       "      <th>doi<\/th>\n",
       "      <th>v1<\/th>\n",
       "      <th>v2<\/th>\n",
       "      <th>v3<\/th>\n",
       "      <th>v4<\/th>\n",
       "      <th>v5<\/th>\n",
       "    <\/tr>\n",
       "  <\/thead>\n",
       "  <tbody>\n",
       "    <tr>\n",
       "      <th>0<\/th>\n",
       "      <td>1.0 (2020-11-25)<\/td>\n",
       "      <td>doi:10.11587\/EOPCOB<\/td>\n",
       "      <td>1231991120<\/td>\n",
       "      <td>437960685<\/td>\n",
       "      <td>Ich befürchte aber sehr, dass Sie weiterwurst...<\/td>\n",
       "      <td>Stark negativ<\/td>\n",
       "      <td>126<\/td>\n",
       "    <\/tr>\n",
       "    <tr>\n",
       "      <th>761<\/th>\n",
       "      <td>1.0 (2020-11-25)<\/td>\n",
       "      <td>doi:10.11587\/EOPCOB<\/td>\n",
       "      <td>1232200834<\/td>\n",
       "      <td>437960685<\/td>\n",
       "      <td>Ich befürchte aber sehr, dass Sie weiterwurst...<\/td>\n",
       "      <td>Sehr schwach negativ<\/td>\n",
       "      <td>180<\/td>\n",
       "    <\/tr>\n",
       "    <tr>\n",
       "      <th>1920<\/th>\n",
       "      <td>1.0 (2020-11-25)<\/td>\n",
       "      <td>doi:10.11587\/EOPCOB<\/td>\n",
       "      <td>1232229710<\/td>\n",
       "      <td>437960685<\/td>\n",
       "      <td>Ich befürchte aber sehr, dass Sie weiterwurst...<\/td>\n",
       "      <td>Schwach negativ<\/td>\n",
       "      <td>130<\/td>\n",
       "    <\/tr>\n",
       "    <tr>\n",
       "      <th>2442<\/th>\n",
       "      <td>1.0 (2020-11-25)<\/td>\n",
       "      <td>doi:10.11587\/EOPCOB<\/td>\n",
       "      <td>1232239666<\/td>\n",
       "      <td>437960685<\/td>\n",
       "      <td>Ich befürchte aber sehr, dass Sie weiterwurst...<\/td>\n",
       "      <td>Schwach negativ<\/td>\n",
       "      <td>168<\/td>\n",
       "    <\/tr>\n",
       "    <tr>\n",
       "      <th>4393<\/th>\n",
       "      <td>1.0 (2020-11-25)<\/td>\n",
       "      <td>doi:10.11587\/EOPCOB<\/td>\n",
       "      <td>1232292704<\/td>\n",
       "      <td>437960685<\/td>\n",
       "      <td>Ich befürchte aber sehr, dass Sie weiterwurst...<\/td>\n",
       "      <td>Schwach negativ<\/td>\n",
       "      <td>305<\/td>\n",
       "    <\/tr>\n",
       "    <tr>\n",
       "      <th>7335<\/th>\n",
       "      <td>1.0 (2020-11-25)<\/td>\n",
       "      <td>doi:10.11587\/EOPCOB<\/td>\n",
       "      <td>1232391339<\/td>\n",
       "      <td>437960685<\/td>\n",
       "      <td>Ich befürchte aber sehr, dass Sie weiterwurst...<\/td>\n",
       "      <td>Sehr stark negativ<\/td>\n",
       "      <td>272<\/td>\n",
       "    <\/tr>\n",
       "    <tr>\n",
       "      <th>31849<\/th>\n",
       "      <td>1.0 (2020-11-25)<\/td>\n",
       "      <td>doi:10.11587\/EOPCOB<\/td>\n",
       "      <td>1233275802<\/td>\n",
       "      <td>437960685<\/td>\n",
       "      <td>Ich befürchte aber sehr, dass Sie weiterwurst...<\/td>\n",
       "      <td>Schwach negativ<\/td>\n",
       "      <td>190<\/td>\n",
       "    <\/tr>\n",
       "    <tr>\n",
       "      <th>32820<\/th>\n",
       "      <td>1.0 (2020-11-25)<\/td>\n",
       "      <td>doi:10.11587\/EOPCOB<\/td>\n",
       "      <td>1233370589<\/td>\n",
       "      <td>437960685<\/td>\n",
       "      <td>Ich befürchte aber sehr, dass Sie weiterwurst...<\/td>\n",
       "      <td>Schwach negativ<\/td>\n",
       "      <td>308<\/td>\n",
       "    <\/tr>\n",
       "    <tr>\n",
       "      <th>59022<\/th>\n",
       "      <td>1.0 (2020-11-25)<\/td>\n",
       "      <td>doi:10.11587\/EOPCOB<\/td>\n",
       "      <td>1234695147<\/td>\n",
       "      <td>437960685<\/td>\n",
       "      <td>Ich befürchte aber sehr, dass Sie weiterwurst...<\/td>\n",
       "      <td>Stark negativ<\/td>\n",
       "      <td>195<\/td>\n",
       "    <\/tr>\n",
       "    <tr>\n",
       "      <th>66743<\/th>\n",
       "      <td>1.0 (2020-11-25)<\/td>\n",
       "      <td>doi:10.11587\/EOPCOB<\/td>\n",
       "      <td>1235660176<\/td>\n",
       "      <td>437960685<\/td>\n",
       "      <td>Ich befürchte aber sehr, dass Sie weiterwurst...<\/td>\n",
       "      <td>Schwach negativ<\/td>\n",
       "      <td>319<\/td>\n",
       "    <\/tr>\n",
       "  <\/tbody>\n",
       "<\/table>\n",
       "<\/div>"
      ]
     },
     "metadata":{
      
     },
     "output_type":"display_data"
    }
   ],
   "metadata":{
    "datalore":{
     "node_id":"TXegbgMlhPy5As99Ci30GU",
     "type":"CODE",
     "hide_input_from_viewers":true,
     "hide_output_from_viewers":true
    }
   }
  },
  {
   "cell_type":"code",
   "source":[
    "df[\"v4_conv\"] = df[\"v4\"]\n",
    "df=df.replace({'v4_conv' : {'Nicht negativ' : 0, 'Sehr schwach negativ' : 1, 'Schwach negativ' : 2 , 'Stark negativ' : 3 , 'Sehr stark negativ' : 4,'Nicht kodierbar':99 }})\n",
    "df"
   ],
   "execution_count":31,
   "outputs":[
    {
     "data":{
      "text\/html":[
       "<div>\n",
       "<style scoped>\n",
       "    .dataframe tbody tr th:only-of-type {\n",
       "        vertical-align: middle;\n",
       "    }\n",
       "\n",
       "    .dataframe tbody tr th {\n",
       "        vertical-align: top;\n",
       "    }\n",
       "\n",
       "    .dataframe thead th {\n",
       "        text-align: right;\n",
       "    }\n",
       "<\/style>\n",
       "<table border=\"1\" class=\"dataframe\">\n",
       "  <thead>\n",
       "    <tr style=\"text-align: right;\">\n",
       "      <th><\/th>\n",
       "      <th>version<\/th>\n",
       "      <th>doi<\/th>\n",
       "      <th>v1<\/th>\n",
       "      <th>v2<\/th>\n",
       "      <th>v3<\/th>\n",
       "      <th>v4<\/th>\n",
       "      <th>v5<\/th>\n",
       "      <th>v4_conv<\/th>\n",
       "    <\/tr>\n",
       "  <\/thead>\n",
       "  <tbody>\n",
       "    <tr>\n",
       "      <th>0<\/th>\n",
       "      <td>1.0 (2020-11-25)<\/td>\n",
       "      <td>doi:10.11587\/EOPCOB<\/td>\n",
       "      <td>1231991120<\/td>\n",
       "      <td>437960685<\/td>\n",
       "      <td>Ich befürchte aber sehr, dass Sie weiterwurst...<\/td>\n",
       "      <td>Stark negativ<\/td>\n",
       "      <td>126<\/td>\n",
       "      <td>3<\/td>\n",
       "    <\/tr>\n",
       "    <tr>\n",
       "      <th>1<\/th>\n",
       "      <td>1.0 (2020-11-25)<\/td>\n",
       "      <td>doi:10.11587\/EOPCOB<\/td>\n",
       "      <td>1231991210<\/td>\n",
       "      <td>437960678<\/td>\n",
       "      <td>' Gabriela Benesch, im Film Ohrfeigenausteiler...<\/td>\n",
       "      <td>Sehr stark negativ<\/td>\n",
       "      <td>126<\/td>\n",
       "      <td>4<\/td>\n",
       "    <\/tr>\n",
       "    <tr>\n",
       "      <th>2<\/th>\n",
       "      <td>1.0 (2020-11-25)<\/td>\n",
       "      <td>doi:10.11587\/EOPCOB<\/td>\n",
       "      <td>1232050116<\/td>\n",
       "      <td>437960654<\/td>\n",
       "      <td>Hier sehen wir wieder einmal einen weiteren S...<\/td>\n",
       "      <td>Stark negativ<\/td>\n",
       "      <td>126<\/td>\n",
       "      <td>3<\/td>\n",
       "    <\/tr>\n",
       "    <tr>\n",
       "      <th>3<\/th>\n",
       "      <td>1.0 (2020-11-25)<\/td>\n",
       "      <td>doi:10.11587\/EOPCOB<\/td>\n",
       "      <td>1232050127<\/td>\n",
       "      <td>437960398<\/td>\n",
       "      <td>(Abg_ Schwemlein: Lieber drüberfahren!<\/td>\n",
       "      <td>Nicht negativ<\/td>\n",
       "      <td>126<\/td>\n",
       "      <td>0<\/td>\n",
       "    <\/tr>\n",
       "    <tr>\n",
       "      <th>4<\/th>\n",
       "      <td>1.0 (2020-11-25)<\/td>\n",
       "      <td>doi:10.11587\/EOPCOB<\/td>\n",
       "      <td>1232050130<\/td>\n",
       "      <td>437960460<\/td>\n",
       "      <td>) Ich bin nicht grantig, ich sage Ihnen nur da...<\/td>\n",
       "      <td>Stark negativ<\/td>\n",
       "      <td>126<\/td>\n",
       "      <td>3<\/td>\n",
       "    <\/tr>\n",
       "    <tr>\n",
       "      <th>...<\/th>\n",
       "      <td>...<\/td>\n",
       "      <td>...<\/td>\n",
       "      <td>...<\/td>\n",
       "      <td>...<\/td>\n",
       "      <td>...<\/td>\n",
       "      <td>...<\/td>\n",
       "      <td>...<\/td>\n",
       "      <td>...<\/td>\n",
       "    <\/tr>\n",
       "    <tr>\n",
       "      <th>125866<\/th>\n",
       "      <td>1.0 (2020-11-25)<\/td>\n",
       "      <td>doi:10.11587\/EOPCOB<\/td>\n",
       "      <td>1500980838<\/td>\n",
       "      <td>625296866<\/td>\n",
       "      <td>FP-Schnell zu TV-Duell: Haupt Sieger über Guse...<\/td>\n",
       "      <td>Nicht negativ<\/td>\n",
       "      <td>296<\/td>\n",
       "      <td>0<\/td>\n",
       "    <\/tr>\n",
       "    <tr>\n",
       "      <th>125867<\/th>\n",
       "      <td>1.0 (2020-11-25)<\/td>\n",
       "      <td>doi:10.11587\/EOPCOB<\/td>\n",
       "      <td>1500981223<\/td>\n",
       "      <td>625296852<\/td>\n",
       "      <td>Grüne: Wieso schweigt die katholische Kirche z...<\/td>\n",
       "      <td>Sehr schwach negativ<\/td>\n",
       "      <td>296<\/td>\n",
       "      <td>1<\/td>\n",
       "    <\/tr>\n",
       "    <tr>\n",
       "      <th>125868<\/th>\n",
       "      <td>1.0 (2020-11-25)<\/td>\n",
       "      <td>doi:10.11587\/EOPCOB<\/td>\n",
       "      <td>1500981225<\/td>\n",
       "      <td>625296882<\/td>\n",
       "      <td>SPÖ-Tierschutzsprecherin Parfuss zum Bundestie...<\/td>\n",
       "      <td>Sehr schwach negativ<\/td>\n",
       "      <td>296<\/td>\n",
       "      <td>1<\/td>\n",
       "    <\/tr>\n",
       "    <tr>\n",
       "      <th>125869<\/th>\n",
       "      <td>1.0 (2020-11-25)<\/td>\n",
       "      <td>doi:10.11587\/EOPCOB<\/td>\n",
       "      <td>1500981728<\/td>\n",
       "      <td>625296852<\/td>\n",
       "      <td>Grüne: Wieso schweigt die katholische Kirche z...<\/td>\n",
       "      <td>Nicht negativ<\/td>\n",
       "      <td>261<\/td>\n",
       "      <td>0<\/td>\n",
       "    <\/tr>\n",
       "    <tr>\n",
       "      <th>125870<\/th>\n",
       "      <td>1.0 (2020-11-25)<\/td>\n",
       "      <td>doi:10.11587\/EOPCOB<\/td>\n",
       "      <td>1500981733<\/td>\n",
       "      <td>625296882<\/td>\n",
       "      <td>SPÖ-Tierschutzsprecherin Parfuss zum Bundestie...<\/td>\n",
       "      <td>Schwach negativ<\/td>\n",
       "      <td>261<\/td>\n",
       "      <td>2<\/td>\n",
       "    <\/tr>\n",
       "  <\/tbody>\n",
       "<\/table>\n",
       "<p>125871 rows × 8 columns<\/p>\n",
       "<\/div>"
      ]
     },
     "metadata":{
      
     },
     "output_type":"display_data"
    }
   ],
   "metadata":{
    "datalore":{
     "node_id":"SL7LellYHhLdPLY3FP7JX2",
     "type":"CODE",
     "hide_input_from_viewers":false,
     "hide_output_from_viewers":false,
     "report_properties":{
      "rowId":"i6AmVli0uJzRm7pS1nat0P"
     }
    }
   }
  },
  {
   "cell_type":"code",
   "source":[
    "df[\"v4_conv\"].value_counts()"
   ],
   "execution_count":32,
   "outputs":[
    {
     "data":{
      "text\/html":[
       "<pre>3     46759\n",
       "2     32136\n",
       "0     24991\n",
       "1     10244\n",
       "4     10020\n",
       "99     1721\n",
       "Name: v4_conv, dtype: int64<\/pre>"
      ]
     },
     "metadata":{
      
     },
     "output_type":"display_data"
    }
   ],
   "metadata":{
    "datalore":{
     "node_id":"B8uuzGpb4P4H52ArW958Au",
     "type":"CODE",
     "hide_input_from_viewers":false,
     "hide_output_from_viewers":false,
     "report_properties":{
      "rowId":"upaRTMhK4Y7YcurrIA5Daw"
     }
    }
   }
  },
  {
   "cell_type":"code",
   "source":[
    "df2 = df[df.v4_conv != 99]\n",
    "df2[\"v4_conv\"].value_counts()"
   ],
   "execution_count":33,
   "outputs":[
    {
     "data":{
      "text\/html":[
       "<pre>3     46759\n",
       "2     32136\n",
       "0     24991\n",
       "1     10244\n",
       "4     10020\n",
       "99        0\n",
       "Name: v4_conv, dtype: int64<\/pre>"
      ]
     },
     "metadata":{
      
     },
     "output_type":"display_data"
    }
   ],
   "metadata":{
    "datalore":{
     "node_id":"dUK5trFsMLhEzhyAiRvQVu",
     "type":"CODE",
     "hide_input_from_viewers":false,
     "hide_output_from_viewers":false,
     "report_properties":{
      "rowId":"96xinSE9OCbOrV6mi1dAp3"
     }
    }
   }
  },
  {
   "cell_type":"code",
   "source":[
    "df2[\"v4_conv\"]=pd.to_numeric(df2[\"v4_conv\"])\n",
    "df3=df2.groupby(['v3'])['v4_conv'].mean().round(0)\n",
    "df3=df3.to_frame()\n",
    "df3 = df3.reset_index()"
   ],
   "execution_count":34,
   "outputs":[
    {
     "name":"stderr",
     "text":[
      "<ipython-input-34-5f65daebdf1e>:1: SettingWithCopyWarning: \n",
      "A value is trying to be set on a copy of a slice from a DataFrame.\n",
      "Try using .loc[row_indexer,col_indexer] = value instead\n",
      "\n",
      "See the caveats in the documentation: https:\/\/pandas.pydata.org\/pandas-docs\/stable\/user_guide\/indexing.html#returning-a-view-versus-a-copy\n",
      "  df2[\"v4_conv\"]=pd.to_numeric(df2[\"v4_conv\"])\n"
     ],
     "output_type":"stream"
    }
   ],
   "metadata":{
    "datalore":{
     "node_id":"SEcfnu6d9AKegKMU6gW179",
     "type":"CODE",
     "hide_input_from_viewers":false,
     "hide_output_from_viewers":false,
     "report_properties":{
      "rowId":"3Hbv5KV5XKKBdgCw8bqk9R"
     }
    }
   }
  },
  {
   "cell_type":"code",
   "source":[
    "df3"
   ],
   "execution_count":35,
   "outputs":[
    {
     "data":{
      "text\/html":[
       "<div>\n",
       "<style scoped>\n",
       "    .dataframe tbody tr th:only-of-type {\n",
       "        vertical-align: middle;\n",
       "    }\n",
       "\n",
       "    .dataframe tbody tr th {\n",
       "        vertical-align: top;\n",
       "    }\n",
       "\n",
       "    .dataframe thead th {\n",
       "        text-align: right;\n",
       "    }\n",
       "<\/style>\n",
       "<table border=\"1\" class=\"dataframe\">\n",
       "  <thead>\n",
       "    <tr style=\"text-align: right;\">\n",
       "      <th><\/th>\n",
       "      <th>v3<\/th>\n",
       "      <th>v4_conv<\/th>\n",
       "    <\/tr>\n",
       "  <\/thead>\n",
       "  <tbody>\n",
       "    <tr>\n",
       "      <th>0<\/th>\n",
       "      <td>\"Das Chaos fährt Bahn\" ist der treffende Tite...<\/td>\n",
       "      <td>2.0<\/td>\n",
       "    <\/tr>\n",
       "    <tr>\n",
       "      <th>1<\/th>\n",
       "      <td>\"Die vorgeschriebenen Vergabearten wurden nic...<\/td>\n",
       "      <td>3.0<\/td>\n",
       "    <\/tr>\n",
       "    <tr>\n",
       "      <th>2<\/th>\n",
       "      <td>\"Diese Liquidation verletzte keine bestehende...<\/td>\n",
       "      <td>1.0<\/td>\n",
       "    <\/tr>\n",
       "    <tr>\n",
       "      <th>3<\/th>\n",
       "      <td>\"Nur ein Vollidiot kann das annehmen.<\/td>\n",
       "      <td>3.0<\/td>\n",
       "    <\/tr>\n",
       "    <tr>\n",
       "      <th>4<\/th>\n",
       "      <td>\"Pensionisten in eine Negativentwicklung gera...<\/td>\n",
       "      <td>2.0<\/td>\n",
       "    <\/tr>\n",
       "    <tr>\n",
       "      <th>...<\/th>\n",
       "      <td>...<\/td>\n",
       "      <td>...<\/td>\n",
       "    <\/tr>\n",
       "    <tr>\n",
       "      <th>12523<\/th>\n",
       "      <td>Überlassen wir unser Land nicht dieser Gusenba...<\/td>\n",
       "      <td>2.0<\/td>\n",
       "    <\/tr>\n",
       "    <tr>\n",
       "      <th>12524<\/th>\n",
       "      <td>Überlassen wir unser Österreich nicht dieser G...<\/td>\n",
       "      <td>3.0<\/td>\n",
       "    <\/tr>\n",
       "    <tr>\n",
       "      <th>12525<\/th>\n",
       "      <td>Überraschende Übereinstimmungen mit Ausnahme d...<\/td>\n",
       "      <td>1.0<\/td>\n",
       "    <\/tr>\n",
       "    <tr>\n",
       "      <th>12526<\/th>\n",
       "      <td>Überzogenes Wahlkampfgetöse von SPÖ und Grüne ...<\/td>\n",
       "      <td>3.0<\/td>\n",
       "    <\/tr>\n",
       "    <tr>\n",
       "      <th>12527<\/th>\n",
       "      <td>Übrigens: Die EU-Spielregeln innerhalb der Abs...<\/td>\n",
       "      <td>2.0<\/td>\n",
       "    <\/tr>\n",
       "  <\/tbody>\n",
       "<\/table>\n",
       "<p>12528 rows × 2 columns<\/p>\n",
       "<\/div>"
      ]
     },
     "metadata":{
      
     },
     "output_type":"display_data"
    }
   ],
   "metadata":{
    "datalore":{
     "node_id":"Qw5Y6ql6ejrtzVgjxi5lwQ",
     "type":"CODE",
     "hide_input_from_viewers":false,
     "hide_output_from_viewers":false,
     "report_properties":{
      "rowId":"ImamoKzwL3YDasKbhj8ooF"
     }
    }
   }
  },
  {
   "cell_type":"code",
   "source":[
    "df3.columns = ['Review', 'Sentiment']"
   ],
   "execution_count":36,
   "outputs":[
    
   ],
   "metadata":{
    "datalore":{
     "node_id":"wLdQI7FmbZGPiA9PKyKeLL",
     "type":"CODE",
     "hide_input_from_viewers":false,
     "hide_output_from_viewers":false,
     "report_properties":{
      "rowId":"B4N1AL8LvGVyeLMVGnfGrH"
     }
    }
   }
  },
  {
   "cell_type":"code",
   "source":[
    "print(df3[\"Sentiment\"].min())\n",
    "print(df3[\"Sentiment\"].max())"
   ],
   "execution_count":37,
   "outputs":[
    {
     "name":"stdout",
     "text":[
      "0.0\n",
      "4.0\n"
     ],
     "output_type":"stream"
    }
   ],
   "metadata":{
    "datalore":{
     "node_id":"M5f7srkD3A4WYSZqzw12Rs",
     "type":"CODE",
     "hide_input_from_viewers":false,
     "hide_output_from_viewers":false,
     "report_properties":{
      "rowId":"XNzritfskdVggXmljcS0cW"
     }
    }
   }
  },
  {
   "cell_type":"code",
   "source":[
    "df3['Sentiment'].value_counts()"
   ],
   "execution_count":38,
   "outputs":[
    {
     "data":{
      "text\/html":[
       "<pre>2.0    5032\n",
       "3.0    4358\n",
       "1.0    1804\n",
       "0.0    1220\n",
       "4.0     114\n",
       "Name: Sentiment, dtype: int64<\/pre>"
      ]
     },
     "metadata":{
      
     },
     "output_type":"display_data"
    }
   ],
   "metadata":{
    "datalore":{
     "node_id":"3tcC6QO7cJu5bPRsHVlr2g",
     "type":"CODE",
     "hide_input_from_viewers":false,
     "hide_output_from_viewers":false,
     "report_properties":{
      "rowId":"Mo7iGsZGDqmZIrBgWRrRzr"
     }
    }
   }
  },
  {
   "cell_type":"code",
   "source":[
    "# check for null values\n",
    "df3.isnull().sum()\n",
    "\n",
    "# no null values in the data"
   ],
   "execution_count":39,
   "outputs":[
    {
     "data":{
      "text\/html":[
       "<pre>Review       0\n",
       "Sentiment    0\n",
       "dtype: int64<\/pre>"
      ]
     },
     "metadata":{
      
     },
     "output_type":"display_data"
    }
   ],
   "metadata":{
    "datalore":{
     "node_id":"jUeSLpRlBmc4VSGbBYe2oS",
     "type":"CODE",
     "hide_input_from_viewers":false,
     "hide_output_from_viewers":false,
     "report_properties":{
      "rowId":"zCVJFLR9wqi5phHjVkqhrW"
     }
    }
   }
  },
  {
   "cell_type":"code",
   "source":[
    "df3=df3.replace({'Sentiment' : {0:'Nicht negativ',1: 'Sehr schwach negativ',2: 'Schwach negativ',3: 'Stark negativ',4: 'Sehr stark negativ'}})\n",
    "df3"
   ],
   "execution_count":40,
   "outputs":[
    {
     "data":{
      "text\/html":[
       "<div>\n",
       "<style scoped>\n",
       "    .dataframe tbody tr th:only-of-type {\n",
       "        vertical-align: middle;\n",
       "    }\n",
       "\n",
       "    .dataframe tbody tr th {\n",
       "        vertical-align: top;\n",
       "    }\n",
       "\n",
       "    .dataframe thead th {\n",
       "        text-align: right;\n",
       "    }\n",
       "<\/style>\n",
       "<table border=\"1\" class=\"dataframe\">\n",
       "  <thead>\n",
       "    <tr style=\"text-align: right;\">\n",
       "      <th><\/th>\n",
       "      <th>Review<\/th>\n",
       "      <th>Sentiment<\/th>\n",
       "    <\/tr>\n",
       "  <\/thead>\n",
       "  <tbody>\n",
       "    <tr>\n",
       "      <th>0<\/th>\n",
       "      <td>\"Das Chaos fährt Bahn\" ist der treffende Tite...<\/td>\n",
       "      <td>Schwach negativ<\/td>\n",
       "    <\/tr>\n",
       "    <tr>\n",
       "      <th>1<\/th>\n",
       "      <td>\"Die vorgeschriebenen Vergabearten wurden nic...<\/td>\n",
       "      <td>Stark negativ<\/td>\n",
       "    <\/tr>\n",
       "    <tr>\n",
       "      <th>2<\/th>\n",
       "      <td>\"Diese Liquidation verletzte keine bestehende...<\/td>\n",
       "      <td>Sehr schwach negativ<\/td>\n",
       "    <\/tr>\n",
       "    <tr>\n",
       "      <th>3<\/th>\n",
       "      <td>\"Nur ein Vollidiot kann das annehmen.<\/td>\n",
       "      <td>Stark negativ<\/td>\n",
       "    <\/tr>\n",
       "    <tr>\n",
       "      <th>4<\/th>\n",
       "      <td>\"Pensionisten in eine Negativentwicklung gera...<\/td>\n",
       "      <td>Schwach negativ<\/td>\n",
       "    <\/tr>\n",
       "    <tr>\n",
       "      <th>...<\/th>\n",
       "      <td>...<\/td>\n",
       "      <td>...<\/td>\n",
       "    <\/tr>\n",
       "    <tr>\n",
       "      <th>12523<\/th>\n",
       "      <td>Überlassen wir unser Land nicht dieser Gusenba...<\/td>\n",
       "      <td>Schwach negativ<\/td>\n",
       "    <\/tr>\n",
       "    <tr>\n",
       "      <th>12524<\/th>\n",
       "      <td>Überlassen wir unser Österreich nicht dieser G...<\/td>\n",
       "      <td>Stark negativ<\/td>\n",
       "    <\/tr>\n",
       "    <tr>\n",
       "      <th>12525<\/th>\n",
       "      <td>Überraschende Übereinstimmungen mit Ausnahme d...<\/td>\n",
       "      <td>Sehr schwach negativ<\/td>\n",
       "    <\/tr>\n",
       "    <tr>\n",
       "      <th>12526<\/th>\n",
       "      <td>Überzogenes Wahlkampfgetöse von SPÖ und Grüne ...<\/td>\n",
       "      <td>Stark negativ<\/td>\n",
       "    <\/tr>\n",
       "    <tr>\n",
       "      <th>12527<\/th>\n",
       "      <td>Übrigens: Die EU-Spielregeln innerhalb der Abs...<\/td>\n",
       "      <td>Schwach negativ<\/td>\n",
       "    <\/tr>\n",
       "  <\/tbody>\n",
       "<\/table>\n",
       "<p>12528 rows × 2 columns<\/p>\n",
       "<\/div>"
      ]
     },
     "metadata":{
      
     },
     "output_type":"display_data"
    }
   ],
   "metadata":{
    "datalore":{
     "node_id":"UpSuF5nhAOOpQieVQmGbwD",
     "type":"CODE",
     "hide_input_from_viewers":false,
     "hide_output_from_viewers":false,
     "report_properties":{
      "rowId":"ulgC82i1j3RfjyKRGlhg5s"
     }
    }
   }
  },
  {
   "cell_type":"code",
   "source":[
    "x = df3['Review']\n",
    "y = df3['Sentiment']\n",
    "print(x)\n",
    "print(y)"
   ],
   "execution_count":41,
   "outputs":[
    {
     "name":"stdout",
     "text":[
      "0         \"Das Chaos fährt Bahn\" ist der treffende Tite...\n",
      "1         \"Die vorgeschriebenen Vergabearten wurden nic...\n",
      "2         \"Diese Liquidation verletzte keine bestehende...\n",
      "3                    \"Nur ein Vollidiot kann das annehmen.\n",
      "4         \"Pensionisten in eine Negativentwicklung gera...\n",
      "                               ...                        \n",
      "12523    Überlassen wir unser Land nicht dieser Gusenba...\n",
      "12524    Überlassen wir unser Österreich nicht dieser G...\n",
      "12525    Überraschende Übereinstimmungen mit Ausnahme d...\n",
      "12526    Überzogenes Wahlkampfgetöse von SPÖ und Grüne ...\n",
      "12527    Übrigens: Die EU-Spielregeln innerhalb der Abs...\n",
      "Name: Review, Length: 12528, dtype: object\n",
      "0             Schwach negativ\n",
      "1               Stark negativ\n",
      "2        Sehr schwach negativ\n",
      "3               Stark negativ\n",
      "4             Schwach negativ\n",
      "                 ...         \n",
      "12523         Schwach negativ\n",
      "12524           Stark negativ\n",
      "12525    Sehr schwach negativ\n",
      "12526           Stark negativ\n",
      "12527         Schwach negativ\n",
      "Name: Sentiment, Length: 12528, dtype: object\n"
     ],
     "output_type":"stream"
    }
   ],
   "metadata":{
    "datalore":{
     "node_id":"ZkZ6UMIiAqam8gKwFW0qno",
     "type":"CODE",
     "hide_input_from_viewers":false,
     "hide_output_from_viewers":false,
     "report_properties":{
      "rowId":"GWSTnYzWqxI9VuuN9a5bxO"
     }
    }
   }
  },
  {
   "cell_type":"code",
   "source":[
    "!python3 -m spacy download de_core_news_md"
   ],
   "execution_count":42,
   "outputs":[
    {
     "name":"stdout",
     "text":[
      "Collecting de-core-news-md==3.7.0\r\n",
      "  Downloading https:\/\/github.com\/explosion\/spacy-models\/releases\/download\/de_core_news_md-3.7.0\/de_core_news_md-3.7.0-py3-none-any.whl (44.4 MB)\r\n",
      "\u001b[?25l     \u001b[90m━━━━━━━━━━━━━━━━━━━━━━━━━━━━━━━━━━━━━━━━\u001b[0m \u001b[32m0.0\/44.4 MB\u001b[0m \u001b[31m?\u001b[0m eta \u001b[36m-:--:--\u001b[0m\r\u001b[2K     \u001b[90m━━━━━━━━━━━━━━━━━━━━━━━━━━━━━━━━━━━━━━━━\u001b[0m \u001b[32m0.1\/44.4 MB\u001b[0m \u001b[31m1.6 MB\/s\u001b[0m eta \u001b[36m0:00:28\u001b[0m\r\u001b[2K     \u001b[91m━\u001b[0m\u001b[90m╺\u001b[0m\u001b[90m━━━━━━━━━━━━━━━━━━━━━━━━━━━━━━━━━━━━━━\u001b[0m \u001b[32m1.2\/44.4 MB\u001b[0m \u001b[31m16.6 MB\/s\u001b[0m eta \u001b[36m0:00:03\u001b[0m\r\u001b[2K     \u001b[91m━━\u001b[0m\u001b[91m╸\u001b[0m\u001b[90m━━━━━━━━━━━━━━━━━━━━━━━━━━━━━━━━━━━━━\u001b[0m \u001b[32m3.0\/44.4 MB\u001b[0m \u001b[31m28.0 MB\/s\u001b[0m eta \u001b[36m0:00:02\u001b[0m\r\u001b[2K     \u001b[91m━━━━━\u001b[0m\u001b[91m╸\u001b[0m\u001b[90m━━━━━━━━━━━━━━━━━━━━━━━━━━━━━━━━━━\u001b[0m \u001b[32m6.2\/44.4 MB\u001b[0m \u001b[31m43.3 MB\/s\u001b[0m eta \u001b[36m0:00:01\u001b[0m\r\u001b[2K     \u001b[91m━━━━━━━━\u001b[0m\u001b[91m╸\u001b[0m\u001b[90m━━━━━━━━━━━━━━━━━━━━━━━━━━━━━━━\u001b[0m \u001b[32m9.7\/44.4 MB\u001b[0m \u001b[31m53.4 MB\/s\u001b[0m eta \u001b[36m0:00:01\u001b[0m\r\u001b[2K     \u001b[91m━━━━━━━━━━━\u001b[0m\u001b[91m╸\u001b[0m\u001b[90m━━━━━━━━━━━━━━━━━━━━━━━━━━━━\u001b[0m \u001b[32m12.8\/44.4 MB\u001b[0m \u001b[31m84.0 MB\/s\u001b[0m eta \u001b[36m0:00:01\u001b[0m\r\u001b[2K     \u001b[91m━━━━━━━━━━━━━━\u001b[0m\u001b[91m╸\u001b[0m\u001b[90m━━━━━━━━━━━━━━━━━━━━━━━━━\u001b[0m \u001b[32m16.4\/44.4 MB\u001b[0m \u001b[31m88.4 MB\/s\u001b[0m eta \u001b[36m0:00:01\u001b[0m\r\u001b[2K     \u001b[91m━━━━━━━━━━━━━━━━━\u001b[0m\u001b[91m╸\u001b[0m\u001b[90m━━━━━━━━━━━━━━━━━━━━━━\u001b[0m \u001b[32m19.8\/44.4 MB\u001b[0m \u001b[31m89.1 MB\/s\u001b[0m eta \u001b[36m0:00:01\u001b[0m\r\u001b[2K     \u001b[91m━━━━━━━━━━━━━━━━━━━━\u001b[0m\u001b[91m╸\u001b[0m\u001b[90m━━━━━━━━━━━━━━━━━━━\u001b[0m \u001b[32m23.1\/44.4 MB\u001b[0m \u001b[31m94.0 MB\/s\u001b[0m eta \u001b[36m0:00:01\u001b[0m\r\u001b[2K     \u001b[91m━━━━━━━━━━━━━━━━━━━━━━━\u001b[0m\u001b[90m╺\u001b[0m\u001b[90m━━━━━━━━━━━━━━━━\u001b[0m \u001b[32m25.8\/44.4 MB\u001b[0m \u001b[31m84.1 MB\/s\u001b[0m eta \u001b[36m0:00:01\u001b[0m\r\u001b[2K     \u001b[91m━━━━━━━━━━━━━━━━━━━━━━━━━\u001b[0m\u001b[91m╸\u001b[0m\u001b[90m━━━━━━━━━━━━━━\u001b[0m \u001b[32m28.5\/44.4 MB\u001b[0m \u001b[31m81.7 MB\/s\u001b[0m eta \u001b[36m0:00:01\u001b[0m\r\u001b[2K     \u001b[91m━━━━━━━━━━━━━━━━━━━━━━━━━━━━\u001b[0m\u001b[90m╺\u001b[0m\u001b[90m━━━━━━━━━━━\u001b[0m \u001b[32m31.3\/44.4 MB\u001b[0m \u001b[31m78.0 MB\/s\u001b[0m eta \u001b[36m0:00:01\u001b[0m\r\u001b[2K     \u001b[91m━━━━━━━━━━━━━━━━━━━━━━━━━━━━━━\u001b[0m\u001b[90m╺\u001b[0m\u001b[90m━━━━━━━━━\u001b[0m \u001b[32m33.8\/44.4 MB\u001b[0m \u001b[31m75.1 MB\/s\u001b[0m eta \u001b[36m0:00:01\u001b[0m\r\u001b[2K     \u001b[91m━━━━━━━━━━━━━━━━━━━━━━━━━━━━━━━━\u001b[0m\u001b[91m╸\u001b[0m\u001b[90m━━━━━━━\u001b[0m \u001b[32m36.5\/44.4 MB\u001b[0m \u001b[31m75.7 MB\/s\u001b[0m eta \u001b[36m0:00:01\u001b[0m\r\u001b[2K     \u001b[91m━━━━━━━━━━━━━━━━━━━━━━━━━━━━━━━━━━\u001b[0m\u001b[91m╸\u001b[0m\u001b[90m━━━━━\u001b[0m \u001b[32m38.8\/44.4 MB\u001b[0m \u001b[31m72.4 MB\/s\u001b[0m eta \u001b[36m0:00:01\u001b[0m\r\u001b[2K     \u001b[91m━━━━━━━━━━━━━━━━━━━━━━━━━━━━━━━━━━━━━━\u001b[0m\u001b[90m╺\u001b[0m\u001b[90m━\u001b[0m \u001b[32m42.7\/44.4 MB\u001b[0m \u001b[31m80.6 MB\/s\u001b[0m eta \u001b[36m0:00:01\u001b[0m\r\u001b[2K     \u001b[91m━━━━━━━━━━━━━━━━━━━━━━━━━━━━━━━━━━━━━━━\u001b[0m\u001b[91m╸\u001b[0m \u001b[32m44.4\/44.4 MB\u001b[0m \u001b[31m87.2 MB\/s\u001b[0m eta \u001b[36m0:00:01\u001b[0m\r\u001b[2K     \u001b[91m━━━━━━━━━━━━━━━━━━━━━━━━━━━━━━━━━━━━━━━\u001b[0m\u001b[91m╸\u001b[0m \u001b[32m44.4\/44.4 MB\u001b[0m \u001b[31m87.2 MB\/s\u001b[0m eta \u001b[36m0:00:01\u001b[0m\r\u001b[2K     \u001b[91m━━━━━━━━━━━━━━━━━━━━━━━━━━━━━━━━━━━━━━━\u001b[0m\u001b[91m╸\u001b[0m \u001b[32m44.4\/44.4 MB\u001b[0m \u001b[31m87.2 MB\/s\u001b[0m eta \u001b[36m0:00:01\u001b[0m\r\u001b[2K     \u001b[91m━━━━━━━━━━━━━━━━━━━━━━━━━━━━━━━━━━━━━━━\u001b[0m\u001b[91m╸\u001b[0m \u001b[32m44.4\/44.4 MB\u001b[0m \u001b[31m87.2 MB\/s\u001b[0m eta \u001b[36m0:00:01\u001b[0m\r\u001b[2K     \u001b[91m━━━━━━━━━━━━━━━━━━━━━━━━━━━━━━━━━━━━━━━\u001b[0m\u001b[91m╸\u001b[0m \u001b[32m44.4\/44.4 MB\u001b[0m \u001b[31m87.2 MB\/s\u001b[0m eta \u001b[36m0:00:01\u001b[0m\r\u001b[2K     \u001b[91m━━━━━━━━━━━━━━━━━━━━━━━━━━━━━━━━━━━━━━━\u001b[0m\u001b[91m╸\u001b[0m \u001b[32m44.4\/44.4 MB\u001b[0m \u001b[31m87.2 MB\/s\u001b[0m eta \u001b[36m0:00:01\u001b[0m\r\u001b[2K     \u001b[91m━━━━━━━━━━━━━━━━━━━━━━━━━━━━━━━━━━━━━━━\u001b[0m\u001b[91m╸\u001b[0m \u001b[32m44.4\/44.4 MB\u001b[0m \u001b[31m87.2 MB\/s\u001b[0m eta \u001b[36m0:00:01\u001b[0m\r\u001b[2K     \u001b[91m━━━━━━━━━━━━━━━━━━━━━━━━━━━━━━━━━━━━━━━\u001b[0m\u001b[91m╸\u001b[0m \u001b[32m44.4\/44.4 MB\u001b[0m \u001b[31m87.2 MB\/s\u001b[0m eta \u001b[36m0:00:01\u001b[0m\r\u001b[2K     \u001b[90m━━━━━━━━━━━━━━━━━━━━━━━━━━━━━━━━━━━━━━━━\u001b[0m \u001b[32m44.4\/44.4 MB\u001b[0m \u001b[31m22.3 MB\/s\u001b[0m eta \u001b[36m0:00:00\u001b[0m\r\n",
      "\u001b[?25hRequirement already satisfied: spacy<3.8.0,>=3.7.0 in \/opt\/python\/envs\/default\/lib\/python3.8\/site-packages (from de-core-news-md==3.7.0) (3.7.1)\r\n",
      "Requirement already satisfied: spacy-legacy<3.1.0,>=3.0.11 in \/opt\/python\/envs\/default\/lib\/python3.8\/site-packages (from spacy<3.8.0,>=3.7.0->de-core-news-md==3.7.0) (3.0.12)\r\n",
      "Requirement already satisfied: spacy-loggers<2.0.0,>=1.0.0 in \/opt\/python\/envs\/default\/lib\/python3.8\/site-packages (from spacy<3.8.0,>=3.7.0->de-core-news-md==3.7.0) (1.0.5)\r\n",
      "Requirement already satisfied: murmurhash<1.1.0,>=0.28.0 in \/opt\/python\/envs\/default\/lib\/python3.8\/site-packages (from spacy<3.8.0,>=3.7.0->de-core-news-md==3.7.0) (1.0.10)\r\n",
      "Requirement already satisfied: cymem<2.1.0,>=2.0.2 in \/opt\/python\/envs\/default\/lib\/python3.8\/site-packages (from spacy<3.8.0,>=3.7.0->de-core-news-md==3.7.0) (2.0.8)\r\n",
      "Requirement already satisfied: preshed<3.1.0,>=3.0.2 in \/opt\/python\/envs\/default\/lib\/python3.8\/site-packages (from spacy<3.8.0,>=3.7.0->de-core-news-md==3.7.0) (3.0.9)\r\n",
      "Requirement already satisfied: thinc<8.3.0,>=8.1.8 in \/opt\/python\/envs\/default\/lib\/python3.8\/site-packages (from spacy<3.8.0,>=3.7.0->de-core-news-md==3.7.0) (8.2.1)\r\n",
      "Requirement already satisfied: wasabi<1.2.0,>=0.9.1 in \/opt\/python\/envs\/default\/lib\/python3.8\/site-packages (from spacy<3.8.0,>=3.7.0->de-core-news-md==3.7.0) (1.1.2)\r\n",
      "Requirement already satisfied: srsly<3.0.0,>=2.4.3 in \/opt\/python\/envs\/default\/lib\/python3.8\/site-packages (from spacy<3.8.0,>=3.7.0->de-core-news-md==3.7.0) (2.4.8)\r\n",
      "Requirement already satisfied: catalogue<2.1.0,>=2.0.6 in \/opt\/python\/envs\/default\/lib\/python3.8\/site-packages (from spacy<3.8.0,>=3.7.0->de-core-news-md==3.7.0) (2.0.10)\r\n",
      "Requirement already satisfied: weasel<0.4.0,>=0.1.0 in \/opt\/python\/envs\/default\/lib\/python3.8\/site-packages (from spacy<3.8.0,>=3.7.0->de-core-news-md==3.7.0) (0.3.2)\r\n",
      "Requirement already satisfied: typer<0.10.0,>=0.3.0 in \/opt\/python\/envs\/default\/lib\/python3.8\/site-packages (from spacy<3.8.0,>=3.7.0->de-core-news-md==3.7.0) (0.9.0)\r\n",
      "Requirement already satisfied: pathy>=0.10.0 in \/opt\/python\/envs\/default\/lib\/python3.8\/site-packages (from spacy<3.8.0,>=3.7.0->de-core-news-md==3.7.0) (0.10.2)\r\n",
      "Requirement already satisfied: smart-open<7.0.0,>=5.2.1 in \/opt\/python\/envs\/default\/lib\/python3.8\/site-packages (from spacy<3.8.0,>=3.7.0->de-core-news-md==3.7.0) (6.4.0)\r\n",
      "Requirement already satisfied: tqdm<5.0.0,>=4.38.0 in \/opt\/python\/envs\/default\/lib\/python3.8\/site-packages (from spacy<3.8.0,>=3.7.0->de-core-news-md==3.7.0) (4.66.1)\r\n",
      "Requirement already satisfied: requests<3.0.0,>=2.13.0 in \/opt\/python\/envs\/default\/lib\/python3.8\/site-packages (from spacy<3.8.0,>=3.7.0->de-core-news-md==3.7.0) (2.30.0)\r\n",
      "Requirement already satisfied: pydantic!=1.8,!=1.8.1,<3.0.0,>=1.7.4 in \/opt\/python\/envs\/default\/lib\/python3.8\/site-packages (from spacy<3.8.0,>=3.7.0->de-core-news-md==3.7.0) (2.4.2)\r\n",
      "Requirement already satisfied: jinja2 in \/opt\/python\/envs\/default\/lib\/python3.8\/site-packages (from spacy<3.8.0,>=3.7.0->de-core-news-md==3.7.0) (3.1.2)\r\n",
      "Requirement already satisfied: setuptools in \/opt\/python\/envs\/default\/lib\/python3.8\/site-packages (from spacy<3.8.0,>=3.7.0->de-core-news-md==3.7.0) (68.2.2)\r\n",
      "Requirement already satisfied: packaging>=20.0 in \/opt\/python\/envs\/default\/lib\/python3.8\/site-packages (from spacy<3.8.0,>=3.7.0->de-core-news-md==3.7.0) (23.2)\r\n",
      "Requirement already satisfied: langcodes<4.0.0,>=3.2.0 in \/opt\/python\/envs\/default\/lib\/python3.8\/site-packages (from spacy<3.8.0,>=3.7.0->de-core-news-md==3.7.0) (3.3.0)\r\n",
      "Requirement already satisfied: numpy>=1.15.0 in \/opt\/python\/envs\/default\/lib\/python3.8\/site-packages (from spacy<3.8.0,>=3.7.0->de-core-news-md==3.7.0) (1.24.3)\r\n",
      "Requirement already satisfied: annotated-types>=0.4.0 in \/opt\/python\/envs\/default\/lib\/python3.8\/site-packages (from pydantic!=1.8,!=1.8.1,<3.0.0,>=1.7.4->spacy<3.8.0,>=3.7.0->de-core-news-md==3.7.0) (0.6.0)\r\n",
      "Requirement already satisfied: pydantic-core==2.10.1 in \/opt\/python\/envs\/default\/lib\/python3.8\/site-packages (from pydantic!=1.8,!=1.8.1,<3.0.0,>=1.7.4->spacy<3.8.0,>=3.7.0->de-core-news-md==3.7.0) (2.10.1)\r\n",
      "Requirement already satisfied: typing-extensions>=4.6.1 in \/opt\/python\/envs\/default\/lib\/python3.8\/site-packages (from pydantic!=1.8,!=1.8.1,<3.0.0,>=1.7.4->spacy<3.8.0,>=3.7.0->de-core-news-md==3.7.0) (4.8.0)\r\n",
      "Requirement already satisfied: charset-normalizer<4,>=2 in \/opt\/python\/envs\/default\/lib\/python3.8\/site-packages (from requests<3.0.0,>=2.13.0->spacy<3.8.0,>=3.7.0->de-core-news-md==3.7.0) (3.3.0)\r\n",
      "Requirement already satisfied: idna<4,>=2.5 in \/opt\/python\/envs\/default\/lib\/python3.8\/site-packages (from requests<3.0.0,>=2.13.0->spacy<3.8.0,>=3.7.0->de-core-news-md==3.7.0) (3.4)\r\n",
      "Requirement already satisfied: urllib3<3,>=1.21.1 in \/opt\/python\/envs\/default\/lib\/python3.8\/site-packages (from requests<3.0.0,>=2.13.0->spacy<3.8.0,>=3.7.0->de-core-news-md==3.7.0) (1.26.17)\r\n",
      "Requirement already satisfied: certifi>=2017.4.17 in \/opt\/python\/envs\/default\/lib\/python3.8\/site-packages (from requests<3.0.0,>=2.13.0->spacy<3.8.0,>=3.7.0->de-core-news-md==3.7.0) (2023.7.22)\r\n",
      "Requirement already satisfied: blis<0.8.0,>=0.7.8 in \/opt\/python\/envs\/default\/lib\/python3.8\/site-packages (from thinc<8.3.0,>=8.1.8->spacy<3.8.0,>=3.7.0->de-core-news-md==3.7.0) (0.7.11)\r\n",
      "Requirement already satisfied: confection<1.0.0,>=0.0.1 in \/opt\/python\/envs\/default\/lib\/python3.8\/site-packages (from thinc<8.3.0,>=8.1.8->spacy<3.8.0,>=3.7.0->de-core-news-md==3.7.0) (0.1.3)\r\n",
      "Requirement already satisfied: click<9.0.0,>=7.1.1 in \/opt\/python\/envs\/default\/lib\/python3.8\/site-packages (from typer<0.10.0,>=0.3.0->spacy<3.8.0,>=3.7.0->de-core-news-md==3.7.0) (8.1.7)\r\n",
      "Requirement already satisfied: cloudpathlib<0.16.0,>=0.7.0 in \/opt\/python\/envs\/default\/lib\/python3.8\/site-packages (from weasel<0.4.0,>=0.1.0->spacy<3.8.0,>=3.7.0->de-core-news-md==3.7.0) (0.15.1)\r\n",
      "Requirement already satisfied: MarkupSafe>=2.0 in \/opt\/python\/envs\/default\/lib\/python3.8\/site-packages (from jinja2->spacy<3.8.0,>=3.7.0->de-core-news-md==3.7.0) (2.1.3)\r\n",
      "Installing collected packages: de-core-news-md\r\n",
      "Successfully installed de-core-news-md-3.7.0\r\n",
      "\r\n",
      "\u001b[1m[\u001b[0m\u001b[34;49mnotice\u001b[0m\u001b[1;39;49m]\u001b[0m\u001b[39;49m A new release of pip is available: \u001b[0m\u001b[31;49m23.1.2\u001b[0m\u001b[39;49m -> \u001b[0m\u001b[32;49m23.3.1\u001b[0m\r\n",
      "\u001b[1m[\u001b[0m\u001b[34;49mnotice\u001b[0m\u001b[1;39;49m]\u001b[0m\u001b[39;49m To update, run: \u001b[0m\u001b[32;49mpip install --upgrade pip\u001b[0m\r\n",
      "\u001b[38;5;2m✔ Download and installation successful\u001b[0m\r\n",
      "You can now load the package via spacy.load('de_core_news_md')\r\n"
     ],
     "output_type":"stream"
    }
   ],
   "metadata":{
    "datalore":{
     "node_id":"7pNTJ5BnLcdob98Ps9ZTts",
     "type":"CODE",
     "hide_input_from_viewers":false,
     "hide_output_from_viewers":false,
     "report_properties":{
      "rowId":"k8dO7oJz220n48whs1tzXK"
     }
    }
   }
  },
  {
   "cell_type":"code",
   "source":[
    "import spacy\n",
    "nlp = spacy.load('de_core_news_md')\n",
    "import string\n",
    "punct = string.punctuation\n",
    "\n",
    "from spacy.lang.de.stop_words import STOP_WORDS\n",
    "stopwords = list(STOP_WORDS)\n",
    "def text_data_cleaning(sentence):\n",
    "    doc = nlp(sentence)                         # spaCy tokenize text \n",
    "\n",
    "    tokens = [] # list of tokens\n",
    "    for token in doc:\n",
    "        if token.lemma_ != \"-PRON-\":\n",
    "            temp = token.lemma_.lower().strip()\n",
    "        else:\n",
    "            temp = token.lower_\n",
    "        tokens.append(temp)\n",
    "\n",
    "    cleaned_tokens = []\n",
    "    for token in tokens:\n",
    "        if token not in stopwords and token not in punct:\n",
    "            cleaned_tokens.append(token)\n",
    "    return cleaned_tokens"
   ],
   "execution_count":14,
   "outputs":[
    
   ],
   "metadata":{
    "datalore":{
     "node_id":"uPH65e4BhL0ovch1MlNdrc",
     "type":"CODE",
     "hide_input_from_viewers":false,
     "hide_output_from_viewers":false,
     "report_properties":{
      "rowId":"h0q0rnYTFNH129Hk1TNdIB"
     }
    }
   }
  },
  {
   "cell_type":"code",
   "source":[
    "from sklearn.feature_extraction.text import TfidfVectorizer"
   ],
   "execution_count":15,
   "outputs":[
    
   ],
   "metadata":{
    "datalore":{
     "node_id":"PCrnEWbml3ILbOlR6oSNcD",
     "type":"CODE",
     "hide_input_from_viewers":false,
     "hide_output_from_viewers":false,
     "report_properties":{
      "rowId":"JyvqfknCkbFnd4DWy7KKod"
     }
    }
   }
  },
  {
   "cell_type":"code",
   "source":[
    "tfidf = TfidfVectorizer(tokenizer=text_data_cleaning)"
   ],
   "execution_count":16,
   "outputs":[
    
   ],
   "metadata":{
    "datalore":{
     "node_id":"QF5llXuPR8PzNOUAjQsnma",
     "type":"CODE",
     "hide_input_from_viewers":false,
     "hide_output_from_viewers":false,
     "report_properties":{
      "rowId":"mIowbWgZx6jnhXNixUepkj"
     }
    }
   }
  },
  {
   "cell_type":"code",
   "source":[
    "from sklearn.model_selection import train_test_split\n",
    "x_train, x_test, y_train, y_test = train_test_split(x, y, test_size = 0.2, stratify = df3.Sentiment, random_state = 42)"
   ],
   "execution_count":17,
   "outputs":[
    
   ],
   "metadata":{
    "datalore":{
     "node_id":"aQdQFVrSZXmskSGu2ohdgZ",
     "type":"CODE",
     "hide_input_from_viewers":false,
     "hide_output_from_viewers":false,
     "report_properties":{
      "rowId":"wjNQRXMsm0dOYHgQQQixLz"
     }
    }
   }
  },
  {
   "cell_type":"code",
   "source":[
    "x_train.shape, x_test.shape"
   ],
   "execution_count":18,
   "outputs":[
    {
     "data":{
      "text\/plain":[
       "((10022,), (2506,))"
      ]
     },
     "metadata":{
      
     },
     "output_type":"display_data"
    }
   ],
   "metadata":{
    "datalore":{
     "node_id":"iQBbHlgYzVjKz66rIJGnT9",
     "type":"CODE",
     "hide_input_from_viewers":false,
     "hide_output_from_viewers":false,
     "report_properties":{
      "rowId":"OlFaQMxV07w2fVWDphZXzR"
     }
    }
   }
  },
  {
   "cell_type":"code",
   "source":[
    "###2.Fit x_train and y_train\n",
    "from sklearn.svm import LinearSVC\n",
    "\n",
    "classifier = LinearSVC()\n",
    "#or you can use LogisticRegression classifier\n",
    "from sklearn.linear_model import LogisticRegression\n",
    "\n",
    "classifier2 = LogisticRegression()\n",
    "#or nearest neighbors\n",
    "from sklearn.neighbors import KNeighborsClassifier\n",
    "\n",
    "classifier3 = KNeighborsClassifier()\n",
    "#https:\/\/scikit-learn.org\/stable\/auto_examples\/classification\/plot_classifier_comparison.html\n",
    "#or DecisionTreeClassifier\n",
    "from sklearn.tree import DecisionTreeClassifier\n",
    "\n",
    "classifier4 = DecisionTreeClassifier()\n",
    "from sklearn.pipeline import Pipeline\n",
    "\n",
    "from sklearn.ensemble import RandomForestClassifier\n",
    "classifier5=RandomForestClassifier()\n",
    "\n",
    "pipeline = Pipeline([('tfidf', tfidf), ('clf', classifier4)])\n",
    "# it will first do vectorization and then it will do classification"
   ],
   "execution_count":19,
   "outputs":[
    
   ],
   "metadata":{
    "datalore":{
     "node_id":"fVGsm8pJziPhoHPzgdnd8P",
     "type":"CODE",
     "hide_input_from_viewers":false,
     "hide_output_from_viewers":false,
     "report_properties":{
      "rowId":"yJj75FRZz1DXBc3AlDU9C9"
     }
    }
   }
  },
  {
   "cell_type":"code",
   "source":[
    "pipeline.fit(x_train, y_train)"
   ],
   "execution_count":20,
   "outputs":[
    {
     "name":"stderr",
     "text":[
      "\/opt\/python\/envs\/default\/lib\/python3.8\/site-packages\/sklearn\/feature_extraction\/text.py:528: UserWarning: The parameter 'token_pattern' will not be used since 'tokenizer' is not None'\n",
      "  warnings.warn(\n"
     ],
     "output_type":"stream"
    }
   ],
   "metadata":{
    "datalore":{
     "node_id":"WR5jaSRrlA3csblfLUt2bi",
     "type":"CODE",
     "hide_input_from_viewers":false,
     "hide_output_from_viewers":false,
     "report_properties":{
      "rowId":"dLr617hXkHEviRHl6xd8nx"
     }
    }
   }
  },
  {
   "cell_type":"code",
   "source":[
    "y_pred = pipeline.predict(x_test)\n",
    "print(y_pred)"
   ],
   "execution_count":21,
   "outputs":[
    {
     "name":"stdout",
     "text":[
      "['Stark negativ' 'Stark negativ' 'Sehr schwach negativ' ...\n",
      " 'Schwach negativ' 'Schwach negativ' 'Stark negativ']\n"
     ],
     "output_type":"stream"
    }
   ],
   "metadata":{
    "datalore":{
     "node_id":"W8oSYURgp4xwRZSvNpHCAS",
     "type":"CODE",
     "hide_input_from_viewers":false,
     "hide_output_from_viewers":false,
     "report_properties":{
      "rowId":"TqltLUJ0REBR1RqzHcquE8"
     }
    }
   }
  },
  {
   "cell_type":"code",
   "source":[
    "from sklearn.metrics import accuracy_score, classification_report, confusion_matrix, ConfusionMatrixDisplay\n",
    "\n",
    "# confusion_matrix\n",
    "cm = confusion_matrix(y_test, y_pred, labels=pipeline.classes_)\n",
    "print(cm)"
   ],
   "execution_count":22,
   "outputs":[
    {
     "name":"stdout",
     "text":[
      "[[ 30 102  42   0  70]\n",
      " [ 41 507 115   6 337]\n",
      " [ 22 183  60   1  95]\n",
      " [  0   6   3   0  14]\n",
      " [ 42 399  71   5 355]]\n"
     ],
     "output_type":"stream"
    }
   ],
   "metadata":{
    "datalore":{
     "node_id":"hJ6H5mLlRoW5Py5Bn4VE1h",
     "type":"CODE",
     "hide_input_from_viewers":false,
     "hide_output_from_viewers":false,
     "report_properties":{
      "rowId":"4PbcRGMbpXGd7d9ufLcjkE"
     }
    }
   }
  },
  {
   "cell_type":"code",
   "source":[
    "import matplotlib.pyplot as plt\n",
    "disp=ConfusionMatrixDisplay(confusion_matrix=cm, display_labels=pipeline.classes_)\n",
    "disp.plot()\n",
    "plt.show()"
   ],
   "execution_count":23,
   "outputs":[
    {
     "data":{
      "image\/png":"[encoded data removed]"
     },
     "metadata":{
      "image\/png":{
       
      }
     },
     "output_type":"display_data"
    }
   ],
   "metadata":{
    "datalore":{
     "node_id":"EE4zmVuauARruBdRLRalvt",
     "type":"CODE",
     "hide_input_from_viewers":false,
     "hide_output_from_viewers":false,
     "report_properties":{
      "rowId":"eK3dyvrJ26um1mnuTP9y6A"
     }
    }
   }
  },
  {
   "cell_type":"code",
   "source":[
    "print(classification_report(y_test, y_pred))"
   ],
   "execution_count":24,
   "outputs":[
    {
     "name":"stdout",
     "text":[
      "                      precision    recall  f1-score   support\n",
      "\n",
      "       Nicht negativ       0.22      0.12      0.16       244\n",
      "     Schwach negativ       0.42      0.50      0.46      1006\n",
      "Sehr schwach negativ       0.21      0.17      0.18       361\n",
      "  Sehr stark negativ       0.00      0.00      0.00        23\n",
      "       Stark negativ       0.41      0.41      0.41       872\n",
      "\n",
      "            accuracy                           0.38      2506\n",
      "           macro avg       0.25      0.24      0.24      2506\n",
      "        weighted avg       0.36      0.38      0.37      2506\n",
      "\n"
     ],
     "output_type":"stream"
    }
   ],
   "metadata":{
    "datalore":{
     "node_id":"KGGUfKGhfJNev4RoAYNVHc",
     "type":"CODE",
     "hide_input_from_viewers":false,
     "hide_output_from_viewers":false,
     "report_properties":{
      "rowId":"H6sWfWELLHo9jng5aNA62s"
     }
    }
   }
  },
  {
   "cell_type":"code",
   "source":[
    "prediction = pipeline.predict([\"Wenn berhaupt jemand Postenschacher bis zum Exzess betrieben hat, dann sind Sie wirklich Rekord-inhaber seit 1945!\"])\n",
    "print(prediction)"
   ],
   "execution_count":25,
   "outputs":[
    {
     "name":"stdout",
     "text":[
      "['Stark negativ']\n"
     ],
     "output_type":"stream"
    }
   ],
   "metadata":{
    "datalore":{
     "node_id":"GKxjf48oLAeKg5NQgmEjhw",
     "type":"CODE",
     "hide_input_from_viewers":false,
     "hide_output_from_viewers":false,
     "report_properties":{
      "rowId":"WhaS18sURhyS2vs0hbPd5k"
     }
    }
   }
  },
  {
   "cell_type":"code",
   "source":[
    
   ],
   "execution_count":0,
   "outputs":[
    
   ],
   "metadata":{
    "datalore":{
     "node_id":"qeG7tDOO0fAvBqYss6fxFE",
     "type":"CODE",
     "hide_input_from_viewers":true,
     "hide_output_from_viewers":true
    }
   }
  }
 ],
 "metadata":{
  "kernelspec":{
   "display_name":"Python",
   "language":"python",
   "name":"python"
  },
  "datalore":{
   "computation_mode":"JUPYTER",
   "package_manager":"pip",
   "base_environment":"default",
   "packages":[
    
   ],
   "report_row_ids":[
    "hm2Fqap8PymvowXnHECO4z",
    "i6AmVli0uJzRm7pS1nat0P",
    "upaRTMhK4Y7YcurrIA5Daw",
    "96xinSE9OCbOrV6mi1dAp3",
    "3Hbv5KV5XKKBdgCw8bqk9R",
    "ImamoKzwL3YDasKbhj8ooF",
    "B4N1AL8LvGVyeLMVGnfGrH",
    "XNzritfskdVggXmljcS0cW",
    "Mo7iGsZGDqmZIrBgWRrRzr",
    "zCVJFLR9wqi5phHjVkqhrW",
    "ulgC82i1j3RfjyKRGlhg5s",
    "GWSTnYzWqxI9VuuN9a5bxO",
    "k8dO7oJz220n48whs1tzXK",
    "h0q0rnYTFNH129Hk1TNdIB",
    "JyvqfknCkbFnd4DWy7KKod",
    "mIowbWgZx6jnhXNixUepkj",
    "wjNQRXMsm0dOYHgQQQixLz",
    "OlFaQMxV07w2fVWDphZXzR",
    "yJj75FRZz1DXBc3AlDU9C9",
    "dLr617hXkHEviRHl6xd8nx",
    "TqltLUJ0REBR1RqzHcquE8",
    "4PbcRGMbpXGd7d9ufLcjkE",
    "eK3dyvrJ26um1mnuTP9y6A",
    "H6sWfWELLHo9jng5aNA62s",
    "WhaS18sURhyS2vs0hbPd5k"
   ],
   "version":3
  }
 },
 "nbformat":4,
 "nbformat_minor":4
}