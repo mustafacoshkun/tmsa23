{
 "cells":[
  {
   "cell_type":"code",
   "source":[
    "!pip install transformers"
   ],
   "execution_count":1,
   "outputs":[
    {
     "name":"stdout",
     "text":[
      "Requirement already satisfied: transformers in \/opt\/python\/envs\/default\/lib\/python3.8\/site-packages (4.29.1)\r\n",
      "Requirement already satisfied: filelock in \/opt\/python\/envs\/default\/lib\/python3.8\/site-packages (from transformers) (3.13.1)\r\n",
      "Requirement already satisfied: huggingface-hub<1.0,>=0.14.1 in \/opt\/python\/envs\/default\/lib\/python3.8\/site-packages (from transformers) (0.19.3)\r\n",
      "Requirement already satisfied: numpy>=1.17 in \/opt\/python\/envs\/default\/lib\/python3.8\/site-packages (from transformers) (1.24.3)\r\n",
      "Requirement already satisfied: packaging>=20.0 in \/opt\/python\/envs\/default\/lib\/python3.8\/site-packages (from transformers) (23.2)\r\n",
      "Requirement already satisfied: pyyaml>=5.1 in \/opt\/python\/envs\/default\/lib\/python3.8\/site-packages (from transformers) (6.0.1)\r\n",
      "Requirement already satisfied: regex!=2019.12.17 in \/opt\/python\/envs\/default\/lib\/python3.8\/site-packages (from transformers) (2023.10.3)\r\n",
      "Requirement already satisfied: requests in \/opt\/python\/envs\/default\/lib\/python3.8\/site-packages (from transformers) (2.30.0)\r\n",
      "Requirement already satisfied: tokenizers!=0.11.3,<0.14,>=0.11.1 in \/opt\/python\/envs\/default\/lib\/python3.8\/site-packages (from transformers) (0.13.3)\r\n",
      "Requirement already satisfied: tqdm>=4.27 in \/opt\/python\/envs\/default\/lib\/python3.8\/site-packages (from transformers) (4.66.1)\r\n",
      "Requirement already satisfied: fsspec>=2023.5.0 in \/opt\/python\/envs\/default\/lib\/python3.8\/site-packages (from huggingface-hub<1.0,>=0.14.1->transformers) (2023.10.0)\r\n",
      "Requirement already satisfied: typing-extensions>=3.7.4.3 in \/opt\/python\/envs\/default\/lib\/python3.8\/site-packages (from huggingface-hub<1.0,>=0.14.1->transformers) (4.8.0)\r\n",
      "Requirement already satisfied: charset-normalizer<4,>=2 in \/opt\/python\/envs\/default\/lib\/python3.8\/site-packages (from requests->transformers) (3.3.2)\r\n",
      "Requirement already satisfied: idna<4,>=2.5 in \/opt\/python\/envs\/default\/lib\/python3.8\/site-packages (from requests->transformers) (3.4)\r\n",
      "Requirement already satisfied: urllib3<3,>=1.21.1 in \/opt\/python\/envs\/default\/lib\/python3.8\/site-packages (from requests->transformers) (1.26.18)\r\n",
      "Requirement already satisfied: certifi>=2017.4.17 in \/opt\/python\/envs\/default\/lib\/python3.8\/site-packages (from requests->transformers) (2023.7.22)\r\n",
      "\r\n",
      "\u001b[1m[\u001b[0m\u001b[34;49mnotice\u001b[0m\u001b[1;39;49m]\u001b[0m\u001b[39;49m A new release of pip is available: \u001b[0m\u001b[31;49m23.1.2\u001b[0m\u001b[39;49m -> \u001b[0m\u001b[32;49m23.3.1\u001b[0m\r\n",
      "\u001b[1m[\u001b[0m\u001b[34;49mnotice\u001b[0m\u001b[1;39;49m]\u001b[0m\u001b[39;49m To update, run: \u001b[0m\u001b[32;49mpip install --upgrade pip\u001b[0m\r\n"
     ],
     "output_type":"stream"
    }
   ],
   "metadata":{
    "datalore":{
     "node_id":"FmHxMKIOhvM1FRTWVp7NaN",
     "type":"CODE",
     "hide_input_from_viewers":true,
     "hide_output_from_viewers":true
    }
   }
  },
  {
   "cell_type":"code",
   "source":[
    "from transformers import pipeline\n",
    "quention_aswerer= pipeline(\"question-answering\",model=\"huggingface-course\/bert-finetuned-squad\")\n",
    "context = \"\"\"\n",
    "The Department of Political Science (IPZ) at the University of Zurich was founded in 1971 (history of the department). The IPZ currently (2023) has around 130 employees working in teaching and research at the 16 professorships and research areas.\n",
    "The IPZ is part of the Faculty of Arts of the University of Zurich. In collaboration with the ETH it forms the Center for Comparative and International Studies (CIS)\n",
    "\"\"\"\n",
    "question=\"When was IPZ founded?\"\n",
    "quention_aswerer(question=question,context=context)"
   ],
   "execution_count":2,
   "outputs":[
    {
     "data":{
      "application\/vnd.jupyter.widget-view+json":{
       "version_major":2,
       "version_minor":0,
       "model_id":"8e8efba5ef2d42a4a34faab3aa422214"
      }
     },
     "metadata":{
      "application\/vnd.jupyter.widget-view+json":{
       "datalore":{
        "widget_id":"OlEfVZlBxuYR7xpAatoY0n"
       }
      }
     },
     "output_type":"display_data"
    },
    {
     "data":{
      "application\/vnd.jupyter.widget-view+json":{
       "version_major":2,
       "version_minor":0,
       "model_id":"389e525003eb4d1093458a430e6ae9d3"
      }
     },
     "metadata":{
      "application\/vnd.jupyter.widget-view+json":{
       "datalore":{
        "widget_id":"EyDQ02GzEv6aSzX9q3ZZz8"
       }
      }
     },
     "output_type":"display_data"
    },
    {
     "data":{
      "application\/vnd.jupyter.widget-view+json":{
       "version_major":2,
       "version_minor":0,
       "model_id":"34ed5d259a914a9db45e6d4106d1989c"
      }
     },
     "metadata":{
      "application\/vnd.jupyter.widget-view+json":{
       "datalore":{
        "widget_id":"MWBhysVhRg7V24yXgiQYlc"
       }
      }
     },
     "output_type":"display_data"
    },
    {
     "data":{
      "application\/vnd.jupyter.widget-view+json":{
       "version_major":2,
       "version_minor":0,
       "model_id":"c4443e330850406ebc34086f9db2bd78"
      }
     },
     "metadata":{
      "application\/vnd.jupyter.widget-view+json":{
       "datalore":{
        "widget_id":"BqtwkNf9VhjmtKq6vL767O"
       }
      }
     },
     "output_type":"display_data"
    },
    {
     "data":{
      "application\/vnd.jupyter.widget-view+json":{
       "version_major":2,
       "version_minor":0,
       "model_id":"29440c7ff93e4c3d8c0a53167f864f6f"
      }
     },
     "metadata":{
      "application\/vnd.jupyter.widget-view+json":{
       "datalore":{
        "widget_id":"UquVsLTpyefYWYjh9dRXKx"
       }
      }
     },
     "output_type":"display_data"
    },
    {
     "data":{
      "application\/vnd.jupyter.widget-view+json":{
       "version_major":2,
       "version_minor":0,
       "model_id":"ce67011ee36142059f916e0dac3b61d2"
      }
     },
     "metadata":{
      "application\/vnd.jupyter.widget-view+json":{
       "datalore":{
        "widget_id":"2XPPagQoQKX677fXr0Ljpo"
       }
      }
     },
     "output_type":"display_data"
    },
    {
     "data":{
      "text\/plain":[
       "{'score': 0.9962685108184814, 'start': 86, 'end': 90, 'answer': '1971'}"
      ]
     },
     "metadata":{
      
     },
     "output_type":"display_data"
    }
   ],
   "metadata":{
    "datalore":{
     "node_id":"f0D5jARN6Hkbql2obmj03J",
     "type":"CODE",
     "hide_input_from_viewers":true,
     "hide_output_from_viewers":true
    }
   }
  },
  {
   "cell_type":"code",
   "source":[
    "from transformers import pipeline\n",
    "\n",
    "#classifier = pipeline('sentiment-analysis')\n",
    "#classifier = pipeline(model=\"distilbert-base-uncased-finetuned-sst-2-english\")\n",
    "classifier = pipeline(model=\"nlptown\/bert-base-multilingual-uncased-sentiment\")\n",
    "classifier('We are very happy to have TMSA course.')"
   ],
   "execution_count":3,
   "outputs":[
    {
     "name":"stderr",
     "text":[
      "Xformers is not installed correctly. If you want to use memorry_efficient_attention to accelerate training use the following command to install Xformers\n",
      "pip install xformers.\n"
     ],
     "output_type":"stream"
    },
    {
     "data":{
      "application\/vnd.jupyter.widget-view+json":{
       "version_major":2,
       "version_minor":0,
       "model_id":"cd0e37a7d63a403981b7b156a9853065"
      }
     },
     "metadata":{
      "application\/vnd.jupyter.widget-view+json":{
       "datalore":{
        "widget_id":"vF7n8OkVRPfuUty5msRyC9"
       }
      }
     },
     "output_type":"display_data"
    },
    {
     "data":{
      "application\/vnd.jupyter.widget-view+json":{
       "version_major":2,
       "version_minor":0,
       "model_id":"bf6cf53e1775478b801ed1648be60202"
      }
     },
     "metadata":{
      "application\/vnd.jupyter.widget-view+json":{
       "datalore":{
        "widget_id":"RXDy6uuWG2woiLKxwwUwbq"
       }
      }
     },
     "output_type":"display_data"
    },
    {
     "data":{
      "application\/vnd.jupyter.widget-view+json":{
       "version_major":2,
       "version_minor":0,
       "model_id":"e1c6e7b412524329bec4c56e525b3e12"
      }
     },
     "metadata":{
      "application\/vnd.jupyter.widget-view+json":{
       "datalore":{
        "widget_id":"nRoBjaytYLW3oDwzXyttEC"
       }
      }
     },
     "output_type":"display_data"
    },
    {
     "data":{
      "application\/vnd.jupyter.widget-view+json":{
       "version_major":2,
       "version_minor":0,
       "model_id":"c06a675979e64375a054c18f2f6a5e0b"
      }
     },
     "metadata":{
      "application\/vnd.jupyter.widget-view+json":{
       "datalore":{
        "widget_id":"hVMlXtxnCMlYURQetrEI4T"
       }
      }
     },
     "output_type":"display_data"
    },
    {
     "data":{
      "application\/vnd.jupyter.widget-view+json":{
       "version_major":2,
       "version_minor":0,
       "model_id":"0eb5278ce00a4edc85c1d531938ad85b"
      }
     },
     "metadata":{
      "application\/vnd.jupyter.widget-view+json":{
       "datalore":{
        "widget_id":"Wk5Xed3MmrunW5XJOqGlzY"
       }
      }
     },
     "output_type":"display_data"
    },
    {
     "data":{
      "text\/plain":[
       "[{'label': '5 stars', 'score': 0.7332627773284912}]"
      ]
     },
     "metadata":{
      
     },
     "output_type":"display_data"
    }
   ],
   "metadata":{
    "datalore":{
     "node_id":"XtbZ1NFw4mForC3PxxILNu",
     "type":"CODE",
     "hide_input_from_viewers":true,
     "hide_output_from_viewers":true
    }
   }
  },
  {
   "cell_type":"code",
   "source":[
    "from transformers import pipeline\n",
    "generator=pipeline(model=\"gpt2\")\n",
    "generator(\"I can't believe you did such a \")"
   ],
   "execution_count":4,
   "outputs":[
    {
     "name":"stderr",
     "text":[
      "Setting `pad_token_id` to `eos_token_id`:50256 for open-end generation.\n",
      "\/opt\/python\/envs\/default\/lib\/python3.8\/site-packages\/transformers\/generation\/utils.py:1346: UserWarning: Using `max_length`'s default (50) to control the generation length. This behaviour is deprecated and will be removed from the config in v5 of Transformers -- we recommend using `max_new_tokens` to control the maximum length of the generation.\n",
      "  warnings.warn(\n"
     ],
     "output_type":"stream"
    },
    {
     "data":{
      "application\/vnd.jupyter.widget-view+json":{
       "version_major":2,
       "version_minor":0,
       "model_id":"202362b8802c4f66adea5986aafea00a"
      }
     },
     "metadata":{
      "application\/vnd.jupyter.widget-view+json":{
       "datalore":{
        "widget_id":"03vxxRMHeR075YuFvOM5Du"
       }
      }
     },
     "output_type":"display_data"
    },
    {
     "data":{
      "application\/vnd.jupyter.widget-view+json":{
       "version_major":2,
       "version_minor":0,
       "model_id":"f7d71b3ace2848529aa7d8e4a9b02edf"
      }
     },
     "metadata":{
      "application\/vnd.jupyter.widget-view+json":{
       "datalore":{
        "widget_id":"67W8igrjeP0Hx6Bl2rQohu"
       }
      }
     },
     "output_type":"display_data"
    },
    {
     "data":{
      "application\/vnd.jupyter.widget-view+json":{
       "version_major":2,
       "version_minor":0,
       "model_id":"f50ccff3c8e04b71b76e8be77a222c31"
      }
     },
     "metadata":{
      "application\/vnd.jupyter.widget-view+json":{
       "datalore":{
        "widget_id":"DVgE4dgsQz7Ej1S6a5Acvh"
       }
      }
     },
     "output_type":"display_data"
    },
    {
     "data":{
      "application\/vnd.jupyter.widget-view+json":{
       "version_major":2,
       "version_minor":0,
       "model_id":"6fdc368078d5460aab11a1b19807c4ed"
      }
     },
     "metadata":{
      "application\/vnd.jupyter.widget-view+json":{
       "datalore":{
        "widget_id":"gFrUZv2jA9fVfJkM0fWBxQ"
       }
      }
     },
     "output_type":"display_data"
    },
    {
     "data":{
      "application\/vnd.jupyter.widget-view+json":{
       "version_major":2,
       "version_minor":0,
       "model_id":"7688c98631704ffaafa1a4ab2ffb80bb"
      }
     },
     "metadata":{
      "application\/vnd.jupyter.widget-view+json":{
       "datalore":{
        "widget_id":"th4AOM8e3KS3KbbgN1HAma"
       }
      }
     },
     "output_type":"display_data"
    },
    {
     "data":{
      "application\/vnd.jupyter.widget-view+json":{
       "version_major":2,
       "version_minor":0,
       "model_id":"74b7b90d57c84f809fb8cdaff0287bb1"
      }
     },
     "metadata":{
      "application\/vnd.jupyter.widget-view+json":{
       "datalore":{
        "widget_id":"XX9bpXjRaH1zsFHpU9ysNc"
       }
      }
     },
     "output_type":"display_data"
    },
    {
     "data":{
      "text\/plain":[
       "[{'generated_text': 'I can\\'t believe you did such a icky shit and didn\\'t do it any good. I\\'m sick of you trying to sell me this, you can\\'t sell me that.\"\\n\\n\"I\\'ve worked in the office for 30 years too'}]"
      ]
     },
     "metadata":{
      
     },
     "output_type":"display_data"
    }
   ],
   "metadata":{
    "datalore":{
     "node_id":"TOS7QMojxLSLNdxtO4O0Ik",
     "type":"CODE",
     "hide_input_from_viewers":true,
     "hide_output_from_viewers":true
    }
   }
  },
  {
   "cell_type":"code",
   "source":[
    "outputlist=generator(\"My tart needs some\", num_return_sequences=4)\n",
    "outputlist"
   ],
   "execution_count":6,
   "outputs":[
    {
     "name":"stderr",
     "text":[
      "Setting `pad_token_id` to `eos_token_id`:50256 for open-end generation.\n"
     ],
     "output_type":"stream"
    },
    {
     "data":{
      "text\/plain":[
       "[{'generated_text': 'My tart needs some attention though...'},\n",
       " {'generated_text': 'My tart needs some attention, as you will see here.\\n\\n5. Tins, Tins, Tins and a Basting Spoon, as seen here.\\n\\n6. A spoon, as seen here.\\n\\nAs we said'},\n",
       " {'generated_text': 'My tart needs some use!\" The woman, a fellow professor, decided to check it out. It is usually just tart, but it was nice to see that she didn\\'t mind, because it was such a different style.\\n\\n\"Why do'},\n",
       " {'generated_text': \"My tart needs some water and some sugar. The problem is, the dough won't start beating but then that doesn't mean you need to do anything special. Most sourdough breads have been around for a long time and if you're looking\"}]"
      ]
     },
     "metadata":{
      
     },
     "output_type":"display_data"
    }
   ],
   "metadata":{
    "datalore":{
     "node_id":"w6EuK5ueVlryYzRfKZADUK",
     "type":"CODE",
     "hide_input_from_viewers":true,
     "hide_output_from_viewers":true
    }
   }
  },
  {
   "cell_type":"code",
   "source":[
    "from transformers import pipeline\n",
    "en_fr_translator = pipeline(\"translation_en_to_de\")\n",
    "en_fr_translator(\"How old are you?\")"
   ],
   "execution_count":null,
   "outputs":[
    {
     "name":"stderr",
     "text":[
      "No model was supplied, defaulted to t5-base and revision 686f1db (https:\/\/huggingface.co\/t5-base).\n",
      "Using a pipeline without specifying a model name and revision in production is not recommended.\n"
     ],
     "output_type":"stream"
    },
    {
     "data":{
      "application\/vnd.jupyter.widget-view+json":{
       "version_major":2,
       "version_minor":0,
       "model_id":"cba6aea7726f4e97b93ca238332c8e05"
      }
     },
     "metadata":{
      "application\/vnd.jupyter.widget-view+json":{
       "datalore":{
        "widget_id":"R5s4yD9CHN2Z5VfKgBg0Mv"
       }
      }
     },
     "output_type":"display_data"
    },
    {
     "data":{
      "application\/vnd.jupyter.widget-view+json":{
       "version_major":2,
       "version_minor":0,
       "model_id":"88dc51602ca641ac99e400a8d86ff818"
      }
     },
     "metadata":{
      "application\/vnd.jupyter.widget-view+json":{
       "datalore":{
        "widget_id":"J1LbyNYjUjmptRghd2rg5B"
       }
      }
     },
     "output_type":"display_data"
    }
   ],
   "metadata":{
    "datalore":{
     "node_id":"SEgpkGVxA0DQ6cQag8Igcd",
     "type":"CODE",
     "hide_input_from_viewers":true,
     "hide_output_from_viewers":true
    }
   }
  },
  {
   "cell_type":"code",
   "source":[
    "from transformers import pipeline, Conversation\n",
    "converse = pipeline(\"conversational\")\n",
    "\n",
    "conversation_1 = Conversation(\"Going to the movies tonight - any suggestions?\")\n",
    "conversation_2 = Conversation(\"What's the last book you have read?\")\n",
    "converse([conversation_1, conversation_2])"
   ],
   "execution_count":null,
   "outputs":[
    
   ],
   "metadata":{
    "datalore":{
     "node_id":"CmB8oAeGxDDjBt6DbxSiNb",
     "type":"CODE",
     "hide_input_from_viewers":true,
     "hide_output_from_viewers":true
    }
   }
  },
  {
   "cell_type":"code",
   "source":[
    "from transformers import pipeline\n",
    "\n",
    "classifier = pipeline(\"fill-mask\")\n",
    "classifier(\"Paris is the <mask> of France.\")"
   ],
   "execution_count":null,
   "outputs":[
    
   ],
   "metadata":{
    "datalore":{
     "node_id":"jcDBKIzQhg1Uj6R7Cw15qD",
     "type":"CODE",
     "hide_input_from_viewers":true,
     "hide_output_from_viewers":true
    }
   }
  }
 ],
 "metadata":{
  "kernelspec":{
   "display_name":"Python",
   "language":"python",
   "name":"python"
  },
  "datalore":{
   "computation_mode":"JUPYTER",
   "package_manager":"pip",
   "base_environment":"default",
   "packages":[
    
   ],
   "report_row_ids":[
    
   ],
   "version":3
  }
 },
 "nbformat":4,
 "nbformat_minor":4
}