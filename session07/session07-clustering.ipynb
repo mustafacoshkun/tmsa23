{
 "cells":[
  {
   "cell_type":"code",
   "source":[
    "import pandas as pd\n",
    "df = pd.read_json(\"presidential-speeches.json\")"
   ],
   "execution_count":1,
   "outputs":[
    
   ],
   "metadata":{
    "datalore":{
     "node_id":"sla8AmAgo0iYDqV2vGLUdq",
     "type":"CODE",
     "hide_input_from_viewers":true,
     "hide_output_from_viewers":true
    }
   }
  },
  {
   "cell_type":"code",
   "source":[
    "df"
   ],
   "execution_count":2,
   "outputs":[
    {
     "data":{
      "text\/html":[
       "<div>\n",
       "<style scoped>\n",
       "    .dataframe tbody tr th:only-of-type {\n",
       "        vertical-align: middle;\n",
       "    }\n",
       "\n",
       "    .dataframe tbody tr th {\n",
       "        vertical-align: top;\n",
       "    }\n",
       "\n",
       "    .dataframe thead th {\n",
       "        text-align: right;\n",
       "    }\n",
       "<\/style>\n",
       "<table border=\"1\" class=\"dataframe\">\n",
       "  <thead>\n",
       "    <tr style=\"text-align: right;\">\n",
       "      <th><\/th>\n",
       "      <th>title<\/th>\n",
       "      <th>date<\/th>\n",
       "      <th>url<\/th>\n",
       "      <th>president<\/th>\n",
       "      <th>transcript<\/th>\n",
       "    <\/tr>\n",
       "  <\/thead>\n",
       "  <tbody>\n",
       "    <tr>\n",
       "      <th>0<\/th>\n",
       "      <td>April 4, 1917: The Republic Must Awaken<\/td>\n",
       "      <td>1917-04-04<\/td>\n",
       "      <td>\/the-presidency\/presidential-speeches\/april-4-...<\/td>\n",
       "      <td>Warren G. Harding<\/td>\n",
       "      <td>My countrymen, the surpassing war of all times...<\/td>\n",
       "    <\/tr>\n",
       "    <tr>\n",
       "      <th>1<\/th>\n",
       "      <td>March 7, 1964: Press Conference at the White H...<\/td>\n",
       "      <td>1964-03-07<\/td>\n",
       "      <td>\/the-presidency\/presidential-speeches\/march-7-...<\/td>\n",
       "      <td>Lyndon B. Johnson<\/td>\n",
       "      <td>THE PRESIDENT. Good afternoon, ladies and gent...<\/td>\n",
       "    <\/tr>\n",
       "    <tr>\n",
       "      <th>2<\/th>\n",
       "      <td>April 16, 1964: Press Conference at the State ...<\/td>\n",
       "      <td>1964-04-16<\/td>\n",
       "      <td>\/the-presidency\/presidential-speeches\/april-16...<\/td>\n",
       "      <td>Lyndon B. Johnson<\/td>\n",
       "      <td>THE PRESIDENT. Ladies and gentlemen, I have co...<\/td>\n",
       "    <\/tr>\n",
       "    <tr>\n",
       "      <th>3<\/th>\n",
       "      <td>February 29, 1964: Press Conference at the Sta...<\/td>\n",
       "      <td>1964-02-29<\/td>\n",
       "      <td>\/the-presidency\/presidential-speeches\/february...<\/td>\n",
       "      <td>Lyndon B. Johnson<\/td>\n",
       "      <td>THE PRESIDENT. I take pleasure this morning in...<\/td>\n",
       "    <\/tr>\n",
       "    <tr>\n",
       "      <th>4<\/th>\n",
       "      <td>February 1, 1964: Press Conference<\/td>\n",
       "      <td>1964-02-01<\/td>\n",
       "      <td>\/the-presidency\/presidential-speeches\/february...<\/td>\n",
       "      <td>Lyndon B. Johnson<\/td>\n",
       "      <td>THE PRESIDENT: This past week the United State...<\/td>\n",
       "    <\/tr>\n",
       "    <tr>\n",
       "      <th>...<\/th>\n",
       "      <td>...<\/td>\n",
       "      <td>...<\/td>\n",
       "      <td>...<\/td>\n",
       "      <td>...<\/td>\n",
       "      <td>...<\/td>\n",
       "    <\/tr>\n",
       "    <tr>\n",
       "      <th>1045<\/th>\n",
       "      <td>January 5, 1956: State of the Union Address<\/td>\n",
       "      <td>1956-01-05<\/td>\n",
       "      <td>\/the-presidency\/presidential-speeches\/january-...<\/td>\n",
       "      <td>Dwight D. Eisenhower<\/td>\n",
       "      <td>[Read before a joint session by a clerk of the...<\/td>\n",
       "    <\/tr>\n",
       "    <tr>\n",
       "      <th>1046<\/th>\n",
       "      <td>January 10, 1957: State of the Union Address<\/td>\n",
       "      <td>1957-01-10<\/td>\n",
       "      <td>\/the-presidency\/presidential-speeches\/january-...<\/td>\n",
       "      <td>Dwight D. Eisenhower<\/td>\n",
       "      <td>I appear before the Congress today to report o...<\/td>\n",
       "    <\/tr>\n",
       "    <tr>\n",
       "      <th>1047<\/th>\n",
       "      <td>January 9, 1958: State of the Union Address<\/td>\n",
       "      <td>1958-01-09<\/td>\n",
       "      <td>\/the-presidency\/presidential-speeches\/january-...<\/td>\n",
       "      <td>Dwight D. Eisenhower<\/td>\n",
       "      <td>Mr. President, Mr. Speaker, Members of the 85t...<\/td>\n",
       "    <\/tr>\n",
       "    <tr>\n",
       "      <th>1048<\/th>\n",
       "      <td>January 9, 1959: State of the Union Address<\/td>\n",
       "      <td>1959-01-09<\/td>\n",
       "      <td>\/the-presidency\/presidential-speeches\/january-...<\/td>\n",
       "      <td>Dwight D. Eisenhower<\/td>\n",
       "      <td>Mr. President, Mr. Speaker, Members of the 86t...<\/td>\n",
       "    <\/tr>\n",
       "    <tr>\n",
       "      <th>1049<\/th>\n",
       "      <td>January 7, 1960: State of the Union Address<\/td>\n",
       "      <td>1960-01-07<\/td>\n",
       "      <td>\/the-presidency\/presidential-speeches\/january-...<\/td>\n",
       "      <td>Dwight D. Eisenhower<\/td>\n",
       "      <td>Mr. President, Mr. Speaker, Members of the 86t...<\/td>\n",
       "    <\/tr>\n",
       "  <\/tbody>\n",
       "<\/table>\n",
       "<p>1050 rows × 5 columns<\/p>\n",
       "<\/div>"
      ]
     },
     "metadata":{
      
     },
     "output_type":"display_data"
    }
   ],
   "metadata":{
    "datalore":{
     "node_id":"7X0FI02ROJq9Cchq9QSdja",
     "type":"CODE",
     "hide_input_from_viewers":true,
     "hide_output_from_viewers":true
    }
   }
  },
  {
   "cell_type":"code",
   "source":[
    "df[\"iddf\"]=range(len(df))\n",
    "df"
   ],
   "execution_count":3,
   "outputs":[
    {
     "data":{
      "text\/html":[
       "<div>\n",
       "<style scoped>\n",
       "    .dataframe tbody tr th:only-of-type {\n",
       "        vertical-align: middle;\n",
       "    }\n",
       "\n",
       "    .dataframe tbody tr th {\n",
       "        vertical-align: top;\n",
       "    }\n",
       "\n",
       "    .dataframe thead th {\n",
       "        text-align: right;\n",
       "    }\n",
       "<\/style>\n",
       "<table border=\"1\" class=\"dataframe\">\n",
       "  <thead>\n",
       "    <tr style=\"text-align: right;\">\n",
       "      <th><\/th>\n",
       "      <th>title<\/th>\n",
       "      <th>date<\/th>\n",
       "      <th>url<\/th>\n",
       "      <th>president<\/th>\n",
       "      <th>transcript<\/th>\n",
       "      <th>iddf<\/th>\n",
       "    <\/tr>\n",
       "  <\/thead>\n",
       "  <tbody>\n",
       "    <tr>\n",
       "      <th>0<\/th>\n",
       "      <td>April 4, 1917: The Republic Must Awaken<\/td>\n",
       "      <td>1917-04-04<\/td>\n",
       "      <td>\/the-presidency\/presidential-speeches\/april-4-...<\/td>\n",
       "      <td>Warren G. Harding<\/td>\n",
       "      <td>My countrymen, the surpassing war of all times...<\/td>\n",
       "      <td>0<\/td>\n",
       "    <\/tr>\n",
       "    <tr>\n",
       "      <th>1<\/th>\n",
       "      <td>March 7, 1964: Press Conference at the White H...<\/td>\n",
       "      <td>1964-03-07<\/td>\n",
       "      <td>\/the-presidency\/presidential-speeches\/march-7-...<\/td>\n",
       "      <td>Lyndon B. Johnson<\/td>\n",
       "      <td>THE PRESIDENT. Good afternoon, ladies and gent...<\/td>\n",
       "      <td>1<\/td>\n",
       "    <\/tr>\n",
       "    <tr>\n",
       "      <th>2<\/th>\n",
       "      <td>April 16, 1964: Press Conference at the State ...<\/td>\n",
       "      <td>1964-04-16<\/td>\n",
       "      <td>\/the-presidency\/presidential-speeches\/april-16...<\/td>\n",
       "      <td>Lyndon B. Johnson<\/td>\n",
       "      <td>THE PRESIDENT. Ladies and gentlemen, I have co...<\/td>\n",
       "      <td>2<\/td>\n",
       "    <\/tr>\n",
       "    <tr>\n",
       "      <th>3<\/th>\n",
       "      <td>February 29, 1964: Press Conference at the Sta...<\/td>\n",
       "      <td>1964-02-29<\/td>\n",
       "      <td>\/the-presidency\/presidential-speeches\/february...<\/td>\n",
       "      <td>Lyndon B. Johnson<\/td>\n",
       "      <td>THE PRESIDENT. I take pleasure this morning in...<\/td>\n",
       "      <td>3<\/td>\n",
       "    <\/tr>\n",
       "    <tr>\n",
       "      <th>4<\/th>\n",
       "      <td>February 1, 1964: Press Conference<\/td>\n",
       "      <td>1964-02-01<\/td>\n",
       "      <td>\/the-presidency\/presidential-speeches\/february...<\/td>\n",
       "      <td>Lyndon B. Johnson<\/td>\n",
       "      <td>THE PRESIDENT: This past week the United State...<\/td>\n",
       "      <td>4<\/td>\n",
       "    <\/tr>\n",
       "    <tr>\n",
       "      <th>...<\/th>\n",
       "      <td>...<\/td>\n",
       "      <td>...<\/td>\n",
       "      <td>...<\/td>\n",
       "      <td>...<\/td>\n",
       "      <td>...<\/td>\n",
       "      <td>...<\/td>\n",
       "    <\/tr>\n",
       "    <tr>\n",
       "      <th>1045<\/th>\n",
       "      <td>January 5, 1956: State of the Union Address<\/td>\n",
       "      <td>1956-01-05<\/td>\n",
       "      <td>\/the-presidency\/presidential-speeches\/january-...<\/td>\n",
       "      <td>Dwight D. Eisenhower<\/td>\n",
       "      <td>[Read before a joint session by a clerk of the...<\/td>\n",
       "      <td>1045<\/td>\n",
       "    <\/tr>\n",
       "    <tr>\n",
       "      <th>1046<\/th>\n",
       "      <td>January 10, 1957: State of the Union Address<\/td>\n",
       "      <td>1957-01-10<\/td>\n",
       "      <td>\/the-presidency\/presidential-speeches\/january-...<\/td>\n",
       "      <td>Dwight D. Eisenhower<\/td>\n",
       "      <td>I appear before the Congress today to report o...<\/td>\n",
       "      <td>1046<\/td>\n",
       "    <\/tr>\n",
       "    <tr>\n",
       "      <th>1047<\/th>\n",
       "      <td>January 9, 1958: State of the Union Address<\/td>\n",
       "      <td>1958-01-09<\/td>\n",
       "      <td>\/the-presidency\/presidential-speeches\/january-...<\/td>\n",
       "      <td>Dwight D. Eisenhower<\/td>\n",
       "      <td>Mr. President, Mr. Speaker, Members of the 85t...<\/td>\n",
       "      <td>1047<\/td>\n",
       "    <\/tr>\n",
       "    <tr>\n",
       "      <th>1048<\/th>\n",
       "      <td>January 9, 1959: State of the Union Address<\/td>\n",
       "      <td>1959-01-09<\/td>\n",
       "      <td>\/the-presidency\/presidential-speeches\/january-...<\/td>\n",
       "      <td>Dwight D. Eisenhower<\/td>\n",
       "      <td>Mr. President, Mr. Speaker, Members of the 86t...<\/td>\n",
       "      <td>1048<\/td>\n",
       "    <\/tr>\n",
       "    <tr>\n",
       "      <th>1049<\/th>\n",
       "      <td>January 7, 1960: State of the Union Address<\/td>\n",
       "      <td>1960-01-07<\/td>\n",
       "      <td>\/the-presidency\/presidential-speeches\/january-...<\/td>\n",
       "      <td>Dwight D. Eisenhower<\/td>\n",
       "      <td>Mr. President, Mr. Speaker, Members of the 86t...<\/td>\n",
       "      <td>1049<\/td>\n",
       "    <\/tr>\n",
       "  <\/tbody>\n",
       "<\/table>\n",
       "<p>1050 rows × 6 columns<\/p>\n",
       "<\/div>"
      ]
     },
     "metadata":{
      
     },
     "output_type":"display_data"
    }
   ],
   "metadata":{
    "datalore":{
     "node_id":"q656UkU6CYXcIKquIJUFNO",
     "type":"CODE",
     "hide_input_from_viewers":true,
     "hide_output_from_viewers":true
    }
   }
  },
  {
   "cell_type":"code",
   "source":[
    "df2=df[[\"iddf\",\"transcript\"]]\n",
    "df2"
   ],
   "execution_count":4,
   "outputs":[
    {
     "data":{
      "text\/html":[
       "<div>\n",
       "<style scoped>\n",
       "    .dataframe tbody tr th:only-of-type {\n",
       "        vertical-align: middle;\n",
       "    }\n",
       "\n",
       "    .dataframe tbody tr th {\n",
       "        vertical-align: top;\n",
       "    }\n",
       "\n",
       "    .dataframe thead th {\n",
       "        text-align: right;\n",
       "    }\n",
       "<\/style>\n",
       "<table border=\"1\" class=\"dataframe\">\n",
       "  <thead>\n",
       "    <tr style=\"text-align: right;\">\n",
       "      <th><\/th>\n",
       "      <th>iddf<\/th>\n",
       "      <th>transcript<\/th>\n",
       "    <\/tr>\n",
       "  <\/thead>\n",
       "  <tbody>\n",
       "    <tr>\n",
       "      <th>0<\/th>\n",
       "      <td>0<\/td>\n",
       "      <td>My countrymen, the surpassing war of all times...<\/td>\n",
       "    <\/tr>\n",
       "    <tr>\n",
       "      <th>1<\/th>\n",
       "      <td>1<\/td>\n",
       "      <td>THE PRESIDENT. Good afternoon, ladies and gent...<\/td>\n",
       "    <\/tr>\n",
       "    <tr>\n",
       "      <th>2<\/th>\n",
       "      <td>2<\/td>\n",
       "      <td>THE PRESIDENT. Ladies and gentlemen, I have co...<\/td>\n",
       "    <\/tr>\n",
       "    <tr>\n",
       "      <th>3<\/th>\n",
       "      <td>3<\/td>\n",
       "      <td>THE PRESIDENT. I take pleasure this morning in...<\/td>\n",
       "    <\/tr>\n",
       "    <tr>\n",
       "      <th>4<\/th>\n",
       "      <td>4<\/td>\n",
       "      <td>THE PRESIDENT: This past week the United State...<\/td>\n",
       "    <\/tr>\n",
       "    <tr>\n",
       "      <th>...<\/th>\n",
       "      <td>...<\/td>\n",
       "      <td>...<\/td>\n",
       "    <\/tr>\n",
       "    <tr>\n",
       "      <th>1045<\/th>\n",
       "      <td>1045<\/td>\n",
       "      <td>[Read before a joint session by a clerk of the...<\/td>\n",
       "    <\/tr>\n",
       "    <tr>\n",
       "      <th>1046<\/th>\n",
       "      <td>1046<\/td>\n",
       "      <td>I appear before the Congress today to report o...<\/td>\n",
       "    <\/tr>\n",
       "    <tr>\n",
       "      <th>1047<\/th>\n",
       "      <td>1047<\/td>\n",
       "      <td>Mr. President, Mr. Speaker, Members of the 85t...<\/td>\n",
       "    <\/tr>\n",
       "    <tr>\n",
       "      <th>1048<\/th>\n",
       "      <td>1048<\/td>\n",
       "      <td>Mr. President, Mr. Speaker, Members of the 86t...<\/td>\n",
       "    <\/tr>\n",
       "    <tr>\n",
       "      <th>1049<\/th>\n",
       "      <td>1049<\/td>\n",
       "      <td>Mr. President, Mr. Speaker, Members of the 86t...<\/td>\n",
       "    <\/tr>\n",
       "  <\/tbody>\n",
       "<\/table>\n",
       "<p>1050 rows × 2 columns<\/p>\n",
       "<\/div>"
      ]
     },
     "metadata":{
      
     },
     "output_type":"display_data"
    }
   ],
   "metadata":{
    "datalore":{
     "node_id":"TodDluvJsvDfSExANWMhjJ",
     "type":"CODE",
     "hide_input_from_viewers":true,
     "hide_output_from_viewers":true
    }
   }
  },
  {
   "cell_type":"code",
   "source":[
    "df2[\"transcript\"][0]"
   ],
   "execution_count":5,
   "outputs":[
    {
     "data":{
      "text\/plain":[
       "\"My countrymen, the surpassing war of all times has involved us, and found us utterly unprepared in either a mental or military sense. The Republic must awaken. The people must understand. Our safety lies in full realization the fate of the nation and the safety of the world will be decided on the western battlefront of Europe.\\r\\n\\r\\nPrimarily the American Republic has entered the war in defense of its national rights. If we did not defend we could not hope to endure. Other big issues are involved but the maintained rights and defended honor of a righteous nation includes them all. Cherishing the national rights the fathers fought to establish, and loving freedom and civilization, we should have violated every tradition and sacrificed every inheritance if we had longer held aloof from the armed conflict which is to make the world safe for civilization. More, we are committed to sacrifice in battle in order to make America safe for Americans and establish their security on every lawful mission on the high seas or under the shining sun.\\r\\n\\r\\nWe are testing popular government's capacity for self-defense. We are resolved to liberate the soul of American life and prove ourselves an American people in fact, spirit, and purpose, and consecrate ourselves anew and everlastingly to human freedom and humanity's justice. Realizing our new relationship with the world, we want to make it fit to live in, and with might and fright and ruthlessness and barbarity crushed by the conscience of a real civilization. Ours is a small concern about the kind of government any people may choose, but we do mean to outlaw the nation which violates the sacred compacts of international relationships.\\r\\n\\r\\nThe decision is to be final. If the Russian failure should become the tragic impotency of nations--if Italy should yield to the pressure of military might--if heroic France should be martyred on her flaming altars of liberty and justice and only the soul of heroism remain--if England should starve and her sacrifices and resolute warfare should prove in vain--if all these improbable disasters should attend, even then we should fight on and on, making the world's cause our cause.\\r\\n\\r\\nA republic worth living in is worth fighting for, and sacrificing for, and dying for. In the fires of this conflict we shall wipe out the disloyalty of those who wear American garb without the faith, and establish a new concord of citizenship and a new devotion, so that we should have made a safe America the home and hope of a people who are truly American in heart and soul.\\r\\n\""
      ]
     },
     "metadata":{
      
     },
     "output_type":"display_data"
    }
   ],
   "metadata":{
    "datalore":{
     "node_id":"k2W2g0p2QvbizP94xORQPR",
     "type":"CODE",
     "hide_input_from_viewers":true,
     "hide_output_from_viewers":true
    }
   }
  },
  {
   "cell_type":"code",
   "source":[
    "len(df2)"
   ],
   "execution_count":6,
   "outputs":[
    {
     "data":{
      "text\/plain":[
       "1050"
      ]
     },
     "metadata":{
      
     },
     "output_type":"display_data"
    }
   ],
   "metadata":{
    "datalore":{
     "node_id":"7GvaioXGRpLfMiwa9VTle6",
     "type":"CODE",
     "hide_input_from_viewers":true,
     "hide_output_from_viewers":true
    }
   }
  },
  {
   "cell_type":"code",
   "source":[
    "from sklearn.feature_extraction.text import CountVectorizer"
   ],
   "execution_count":7,
   "outputs":[
    
   ],
   "metadata":{
    "datalore":{
     "node_id":"SdDwJ5RLZTcaasXqwRMS23",
     "type":"CODE",
     "hide_input_from_viewers":true,
     "hide_output_from_viewers":true
    }
   }
  },
  {
   "cell_type":"code",
   "source":[
    "!pip install nltk\n",
    "import nltk\n",
    "nltk.download(\"punkt\")\n",
    "nltk.download(\"wordnet\")"
   ],
   "execution_count":8,
   "outputs":[
    {
     "name":"stdout",
     "text":[
      "Collecting nltk\r\n",
      "  Downloading nltk-3.8.1-py3-none-any.whl (1.5 MB)\r\n",
      "\u001b[?25l     \u001b[90m━━━━━━━━━━━━━━━━━━━━━━━━━━━━━━━━━━━━━━━━\u001b[0m \u001b[32m0.0\/1.5 MB\u001b[0m \u001b[31m?\u001b[0m eta \u001b[36m-:--:--\u001b[0m\r\u001b[2K     \u001b[90m━━━━━━━━━━━━━━━━━━━━━━━━━━━━━━━━━━━━━━━━\u001b[0m \u001b[32m1.5\/1.5 MB\u001b[0m \u001b[31m53.2 MB\/s\u001b[0m eta \u001b[36m0:00:00\u001b[0m\r\n",
      "\u001b[?25hRequirement already satisfied: click in \/opt\/python\/envs\/default\/lib\/python3.8\/site-packages (from nltk) (8.1.7)\r\n",
      "Requirement already satisfied: joblib in \/opt\/python\/envs\/default\/lib\/python3.8\/site-packages (from nltk) (1.3.2)\r\n",
      "Requirement already satisfied: regex>=2021.8.3 in \/opt\/python\/envs\/default\/lib\/python3.8\/site-packages (from nltk) (2023.10.3)\r\n",
      "Requirement already satisfied: tqdm in \/opt\/python\/envs\/default\/lib\/python3.8\/site-packages (from nltk) (4.66.1)\r\n",
      "Installing collected packages: nltk\r\n",
      "Successfully installed nltk-3.8.1\r\n",
      "\r\n",
      "\u001b[1m[\u001b[0m\u001b[34;49mnotice\u001b[0m\u001b[1;39;49m]\u001b[0m\u001b[39;49m A new release of pip is available: \u001b[0m\u001b[31;49m23.1.2\u001b[0m\u001b[39;49m -> \u001b[0m\u001b[32;49m23.3.1\u001b[0m\r\n",
      "\u001b[1m[\u001b[0m\u001b[34;49mnotice\u001b[0m\u001b[1;39;49m]\u001b[0m\u001b[39;49m To update, run: \u001b[0m\u001b[32;49mpip install --upgrade pip\u001b[0m\r\n"
     ],
     "output_type":"stream"
    },
    {
     "name":"stderr",
     "text":[
      "[nltk_data] Downloading package punkt to \/home\/datalore\/nltk_data...\n",
      "[nltk_data]   Unzipping tokenizers\/punkt.zip.\n",
      "[nltk_data] Downloading package wordnet to \/home\/datalore\/nltk_data...\n"
     ],
     "output_type":"stream"
    },
    {
     "data":{
      "text\/plain":[
       "True"
      ]
     },
     "metadata":{
      
     },
     "output_type":"display_data"
    }
   ],
   "metadata":{
    "datalore":{
     "node_id":"kGUNd8sFb42tB2FmO3XDzj",
     "type":"CODE",
     "hide_input_from_viewers":true,
     "hide_output_from_viewers":true
    }
   }
  },
  {
   "cell_type":"code",
   "source":[
    "from nltk.stem import WordNetLemmatizer\n",
    "import string\n",
    "def tokenizer(text):\n",
    "    text=\"\".join([ch for ch in text if ch not in string.punctuation])\n",
    "    tokens=nltk.word_tokenize(text)\n",
    "    lemmatizer=WordNetLemmatizer()\n",
    "    return [lemmatizer.lemmatize(token) for token in tokens if len(token)>1]"
   ],
   "execution_count":9,
   "outputs":[
    
   ],
   "metadata":{
    "datalore":{
     "node_id":"K1ngCE6xJjNt8XdrOifgCm",
     "type":"CODE",
     "hide_input_from_viewers":true,
     "hide_output_from_viewers":true
    }
   }
  },
  {
   "cell_type":"code",
   "source":[
    "#max_df stands for \"maximum document frequency\" and represents the upper bound on the document frequency of terms. \n",
    "#If a term appears in a higher percentage of documents than the specified threshold, it will be ignored.\n",
    "\n",
    "#min_df stands for \"minimum document frequency\" and represents the lower bound on the document frequency of terms. \n",
    "#Terms that appear in fewer documents than the specified threshold will be ignored.\n",
    "#if we give 0 -> 1 value it is percentage and if we give integer it means number of  \n",
    "cv=CountVectorizer(tokenizer=tokenizer,max_df=0.9,min_df=0.1,stop_words=\"english\")"
   ],
   "execution_count":10,
   "outputs":[
    
   ],
   "metadata":{
    "datalore":{
     "node_id":"adnjYVYFBOiG2m7eGTllgV",
     "type":"CODE",
     "hide_input_from_viewers":true,
     "hide_output_from_viewers":true
    }
   }
  },
  {
   "cell_type":"code",
   "source":[
    "#dtm-> document term matrix\n",
    "dtm=cv.fit_transform(df2[\"transcript\"])"
   ],
   "execution_count":11,
   "outputs":[
    {
     "name":"stderr",
     "text":[
      "\/opt\/python\/envs\/default\/lib\/python3.8\/site-packages\/sklearn\/feature_extraction\/text.py:528: UserWarning: The parameter 'token_pattern' will not be used since 'tokenizer' is not None'\n",
      "  warnings.warn(\n",
      "\/opt\/python\/envs\/default\/lib\/python3.8\/site-packages\/sklearn\/feature_extraction\/text.py:409: UserWarning: Your stop_words may be inconsistent with your preprocessing. Tokenizing the stop words generated tokens ['ha', 'le', 'u', 'wa'] not in stop_words.\n",
      "  warnings.warn(\n"
     ],
     "output_type":"stream"
    }
   ],
   "metadata":{
    "datalore":{
     "node_id":"qjznmbaGHxjCK5XYLz2Mml",
     "type":"CODE",
     "hide_input_from_viewers":true,
     "hide_output_from_viewers":true
    }
   }
  },
  {
   "cell_type":"code",
   "source":[
    "dtm"
   ],
   "execution_count":12,
   "outputs":[
    {
     "data":{
      "text\/plain":[
       "<1050x1980 sparse matrix of type '<class 'numpy.int64'>'\n",
       "\twith 472888 stored elements in Compressed Sparse Row format>"
      ]
     },
     "metadata":{
      
     },
     "output_type":"display_data"
    }
   ],
   "metadata":{
    "datalore":{
     "node_id":"ue1iXAtr02pqKPutcEsUvQ",
     "type":"CODE",
     "hide_input_from_viewers":true,
     "hide_output_from_viewers":true
    }
   }
  },
  {
   "cell_type":"code",
   "source":[
    "#LDA\n",
    "from sklearn.decomposition import LatentDirichletAllocation"
   ],
   "execution_count":13,
   "outputs":[
    
   ],
   "metadata":{
    "datalore":{
     "node_id":"amffCjXjovB0m2GXF4882B",
     "type":"CODE",
     "hide_input_from_viewers":true,
     "hide_output_from_viewers":true
    }
   }
  },
  {
   "cell_type":"code",
   "source":[
    "LDA=LatentDirichletAllocation(n_components=3,random_state=42)"
   ],
   "execution_count":14,
   "outputs":[
    
   ],
   "metadata":{
    "datalore":{
     "node_id":"0y4FflQFwd73IZ6KfLPpyq",
     "type":"CODE",
     "hide_input_from_viewers":true,
     "hide_output_from_viewers":true
    }
   }
  },
  {
   "cell_type":"code",
   "source":[
    "LDA.fit(dtm)"
   ],
   "execution_count":15,
   "outputs":[
    {
     "data":{
      "text\/html":[
       "<style>#sk-container-id-1 {color: black;background-color: white;}#sk-container-id-1 pre{padding: 0;}#sk-container-id-1 div.sk-toggleable {background-color: white;}#sk-container-id-1 label.sk-toggleable__label {cursor: pointer;display: block;width: 100%;margin-bottom: 0;padding: 0.3em;box-sizing: border-box;text-align: center;}#sk-container-id-1 label.sk-toggleable__label-arrow:before {content: \"▸\";float: left;margin-right: 0.25em;color: #696969;}#sk-container-id-1 label.sk-toggleable__label-arrow:hover:before {color: black;}#sk-container-id-1 div.sk-estimator:hover label.sk-toggleable__label-arrow:before {color: black;}#sk-container-id-1 div.sk-toggleable__content {max-height: 0;max-width: 0;overflow: hidden;text-align: left;background-color: #f0f8ff;}#sk-container-id-1 div.sk-toggleable__content pre {margin: 0.2em;color: black;border-radius: 0.25em;background-color: #f0f8ff;}#sk-container-id-1 input.sk-toggleable__control:checked~div.sk-toggleable__content {max-height: 200px;max-width: 100%;overflow: auto;}#sk-container-id-1 input.sk-toggleable__control:checked~label.sk-toggleable__label-arrow:before {content: \"▾\";}#sk-container-id-1 div.sk-estimator input.sk-toggleable__control:checked~label.sk-toggleable__label {background-color: #d4ebff;}#sk-container-id-1 div.sk-label input.sk-toggleable__control:checked~label.sk-toggleable__label {background-color: #d4ebff;}#sk-container-id-1 input.sk-hidden--visually {border: 0;clip: rect(1px 1px 1px 1px);clip: rect(1px, 1px, 1px, 1px);height: 1px;margin: -1px;overflow: hidden;padding: 0;position: absolute;width: 1px;}#sk-container-id-1 div.sk-estimator {font-family: monospace;background-color: #f0f8ff;border: 1px dotted black;border-radius: 0.25em;box-sizing: border-box;margin-bottom: 0.5em;}#sk-container-id-1 div.sk-estimator:hover {background-color: #d4ebff;}#sk-container-id-1 div.sk-parallel-item::after {content: \"\";width: 100%;border-bottom: 1px solid gray;flex-grow: 1;}#sk-container-id-1 div.sk-label:hover label.sk-toggleable__label {background-color: #d4ebff;}#sk-container-id-1 div.sk-serial::before {content: \"\";position: absolute;border-left: 1px solid gray;box-sizing: border-box;top: 0;bottom: 0;left: 50%;z-index: 0;}#sk-container-id-1 div.sk-serial {display: flex;flex-direction: column;align-items: center;background-color: white;padding-right: 0.2em;padding-left: 0.2em;position: relative;}#sk-container-id-1 div.sk-item {position: relative;z-index: 1;}#sk-container-id-1 div.sk-parallel {display: flex;align-items: stretch;justify-content: center;background-color: white;position: relative;}#sk-container-id-1 div.sk-item::before, #sk-container-id-1 div.sk-parallel-item::before {content: \"\";position: absolute;border-left: 1px solid gray;box-sizing: border-box;top: 0;bottom: 0;left: 50%;z-index: -1;}#sk-container-id-1 div.sk-parallel-item {display: flex;flex-direction: column;z-index: 1;position: relative;background-color: white;}#sk-container-id-1 div.sk-parallel-item:first-child::after {align-self: flex-end;width: 50%;}#sk-container-id-1 div.sk-parallel-item:last-child::after {align-self: flex-start;width: 50%;}#sk-container-id-1 div.sk-parallel-item:only-child::after {width: 0;}#sk-container-id-1 div.sk-dashed-wrapped {border: 1px dashed gray;margin: 0 0.4em 0.5em 0.4em;box-sizing: border-box;padding-bottom: 0.4em;background-color: white;}#sk-container-id-1 div.sk-label label {font-family: monospace;font-weight: bold;display: inline-block;line-height: 1.2em;}#sk-container-id-1 div.sk-label-container {text-align: center;}#sk-container-id-1 div.sk-container {\/* jupyter's `normalize.less` sets `[hidden] { display: none; }` but bootstrap.min.css set `[hidden] { display: none !important; }` so we also need the `!important` here to be able to override the default hidden behavior on the sphinx rendered scikit-learn.org. See: https:\/\/github.com\/scikit-learn\/scikit-learn\/issues\/21755 *\/display: inline-block !important;position: relative;}#sk-container-id-1 div.sk-text-repr-fallback {display: none;}<\/style><div id=\"sk-container-id-1\" class=\"sk-top-container\"><div class=\"sk-text-repr-fallback\"><pre>LatentDirichletAllocation(n_components=3, random_state=42)<\/pre><b>In a Jupyter environment, please rerun this cell to show the HTML representation or trust the notebook. <br \/>On GitHub, the HTML representation is unable to render, please try loading this page with nbviewer.org.<\/b><\/div><div class=\"sk-container\" hidden><div class=\"sk-item\"><div class=\"sk-estimator sk-toggleable\"><input class=\"sk-toggleable__control sk-hidden--visually\" id=\"sk-estimator-id-1\" type=\"checkbox\" checked><label for=\"sk-estimator-id-1\" class=\"sk-toggleable__label sk-toggleable__label-arrow\">LatentDirichletAllocation<\/label><div class=\"sk-toggleable__content\"><pre>LatentDirichletAllocation(n_components=3, random_state=42)<\/pre><\/div><\/div><\/div><\/div><\/div>"
      ]
     },
     "metadata":{
      
     },
     "output_type":"display_data"
    }
   ],
   "metadata":{
    "datalore":{
     "node_id":"pklACTlrszoMzh9hyyoyFW",
     "type":"CODE",
     "hide_input_from_viewers":true,
     "hide_output_from_viewers":true
    }
   }
  },
  {
   "cell_type":"code",
   "source":[
    "#lets start analysis we created our clusters\n",
    "#1. grab the vocabulary of words"
   ],
   "execution_count":16,
   "outputs":[
    
   ],
   "metadata":{
    "datalore":{
     "node_id":"AgCP5aMMblVQKbc1sR1oGZ",
     "type":"CODE",
     "hide_input_from_viewers":true,
     "hide_output_from_viewers":true
    }
   }
  },
  {
   "cell_type":"code",
   "source":[
    "len(cv.get_feature_names_out())"
   ],
   "execution_count":17,
   "outputs":[
    {
     "data":{
      "text\/plain":[
       "1980"
      ]
     },
     "metadata":{
      
     },
     "output_type":"display_data"
    }
   ],
   "metadata":{
    "datalore":{
     "node_id":"3g9Ary8I98h6RDrZK9ldTt",
     "type":"CODE",
     "hide_input_from_viewers":true,
     "hide_output_from_viewers":true
    }
   }
  },
  {
   "cell_type":"code",
   "source":[
    "cv.get_feature_names_out()"
   ],
   "execution_count":18,
   "outputs":[
    {
     "data":{
      "text\/html":[
       "<pre>array(['10', '100', '11', ..., 'yield', 'york', 'young'], dtype=object)<\/pre>"
      ]
     },
     "metadata":{
      
     },
     "output_type":"display_data"
    }
   ],
   "metadata":{
    "datalore":{
     "node_id":"uvsccEICGAhYUUwo0TCfKQ",
     "type":"CODE",
     "hide_input_from_viewers":true,
     "hide_output_from_viewers":true
    }
   }
  },
  {
   "cell_type":"code",
   "source":[
    "print(\"test\")"
   ],
   "execution_count":null,
   "outputs":[
    
   ],
   "metadata":{
    "datalore":{
     "node_id":"GX1sFGM1XJFuIUg6WFXNPi",
     "type":"CODE",
     "hide_input_from_viewers":true,
     "hide_output_from_viewers":true
    }
   }
  },
  {
   "cell_type":"code",
   "source":[
    "#2. grab topics"
   ],
   "execution_count":20,
   "outputs":[
    
   ],
   "metadata":{
    "datalore":{
     "node_id":"WpuMvo14LxSgmIAUl78VBb",
     "type":"CODE",
     "hide_input_from_viewers":true,
     "hide_output_from_viewers":true
    }
   }
  },
  {
   "cell_type":"code",
   "source":[
    "len(LDA.components_)"
   ],
   "execution_count":21,
   "outputs":[
    {
     "data":{
      "text\/plain":[
       "3"
      ]
     },
     "metadata":{
      
     },
     "output_type":"display_data"
    }
   ],
   "metadata":{
    "datalore":{
     "node_id":"1sE4LHBDYQnzRTslmPJ5P1",
     "type":"CODE",
     "hide_input_from_viewers":true,
     "hide_output_from_viewers":true
    }
   }
  },
  {
   "cell_type":"code",
   "source":[
    "#this is a kind of big array, please do not execute it if your have lots of terms inside of your matrix\n",
    "LDA.components_"
   ],
   "execution_count":22,
   "outputs":[
    {
     "data":{
      "text\/html":[
       "<pre>array([[226.01018102, 105.21108285,  84.05317123, ...,  50.26817374,\n",
       "         44.12482665, 629.12302687],\n",
       "       [107.25545659,  47.2976521 ,  71.00353258, ..., 150.43394256,\n",
       "        220.05634177,  45.18095916],\n",
       "       [180.73436239, 135.49126505,  39.94329619, ...,   1.2978837 ,\n",
       "        172.81883157, 297.69601397]])<\/pre>"
      ]
     },
     "metadata":{
      
     },
     "output_type":"display_data"
    }
   ],
   "metadata":{
    "datalore":{
     "node_id":"ZUVlUVpgyGLF2vHeCfIEkN",
     "type":"CODE",
     "hide_input_from_viewers":true,
     "hide_output_from_viewers":true
    }
   }
  },
  {
   "cell_type":"code",
   "source":[
    "#lets give an example for argsort function of numpy\n",
    "#argsort sorts an array and gives the indexes of the terms in that sorted array\n",
    "import numpy as np\n",
    "arr=np.array([10,200,1])\n",
    "arr.argsort()"
   ],
   "execution_count":28,
   "outputs":[
    {
     "data":{
      "text\/html":[
       "<pre>array([2, 0, 1])<\/pre>"
      ]
     },
     "metadata":{
      
     },
     "output_type":"display_data"
    }
   ],
   "metadata":{
    "datalore":{
     "node_id":"nQTn0XJednEzYuzRU6uLLa",
     "type":"CODE",
     "hide_input_from_viewers":true,
     "hide_output_from_viewers":true
    }
   }
  },
  {
   "cell_type":"code",
   "source":[
    "#I have three clusters and [0] is my first cluster\n",
    "single_topic=LDA.components_[0]"
   ],
   "execution_count":29,
   "outputs":[
    
   ],
   "metadata":{
    "datalore":{
     "node_id":"7TTD24kOiT1BQAkx6C9Pf4",
     "type":"CODE",
     "hide_input_from_viewers":true,
     "hide_output_from_viewers":true
    }
   }
  },
  {
   "cell_type":"code",
   "source":[
    "single_topic"
   ],
   "execution_count":30,
   "outputs":[
    {
     "data":{
      "text\/html":[
       "<pre>array([226.01018102, 105.21108285,  84.05317123, ...,  50.26817374,\n",
       "        44.12482665, 629.12302687])<\/pre>"
      ]
     },
     "metadata":{
      
     },
     "output_type":"display_data"
    }
   ],
   "metadata":{
    "datalore":{
     "node_id":"BQknvwdzoDhsVYGvg2h2Q3",
     "type":"CODE",
     "hide_input_from_viewers":true,
     "hide_output_from_viewers":true
    }
   }
  },
  {
   "cell_type":"code",
   "source":[
    "single_topic.argsort()"
   ],
   "execution_count":31,
   "outputs":[
    {
     "data":{
      "text\/html":[
       "<pre>array([1395,  406,  955, ..., 1275, 1160,   98])<\/pre>"
      ]
     },
     "metadata":{
      
     },
     "output_type":"display_data"
    }
   ],
   "metadata":{
    "datalore":{
     "node_id":"jwJVOVwigwO1NOOOiZ1YRA",
     "type":"CODE",
     "hide_input_from_viewers":true,
     "hide_output_from_viewers":true
    }
   }
  },
  {
   "cell_type":"code",
   "source":[
    "#now lets see the most weighted terms of cluster one (single_topic)\n",
    "index_of_tep_ten_words=single_topic.argsort()[-10:]\n",
    "index_of_tep_ten_words"
   ],
   "execution_count":33,
   "outputs":[
    {
     "data":{
      "text\/html":[
       "<pre>array([1926, 1269, 1181,   97, 1974, 1863, 1967, 1275, 1160,   98])<\/pre>"
      ]
     },
     "metadata":{
      
     },
     "output_type":"display_data"
    }
   ],
   "metadata":{
    "datalore":{
     "node_id":"9shSWuoEgmcHvAz1K5lJVy",
     "type":"CODE",
     "hide_input_from_viewers":true,
     "hide_output_from_viewers":true
    }
   }
  },
  {
   "cell_type":"code",
   "source":[
    "for index in index_of_tep_ten_words:\n",
    "    print(cv.get_feature_names_out()[index])"
   ],
   "execution_count":34,
   "outputs":[
    {
     "name":"stdout",
     "text":[
      "war\n",
      "peace\n",
      "new\n",
      "america\n",
      "year\n",
      "u\n",
      "world\n",
      "people\n",
      "nation\n",
      "american\n"
     ],
     "output_type":"stream"
    }
   ],
   "metadata":{
    "datalore":{
     "node_id":"T6kisMbZNrMWxCv9ySJ0x9",
     "type":"CODE",
     "hide_input_from_viewers":true,
     "hide_output_from_viewers":true
    }
   }
  },
  {
   "cell_type":"code",
   "source":[
    "# 3. grab the highest probability words per topic"
   ],
   "execution_count":null,
   "outputs":[
    
   ],
   "metadata":{
    "datalore":{
     "node_id":"XYZKp0zbzxrsBZRMMU4cry",
     "type":"CODE",
     "hide_input_from_viewers":true,
     "hide_output_from_viewers":true
    }
   }
  },
  {
   "cell_type":"code",
   "source":[
    "#enumerate: find out the number of\n",
    "for index,topic in enumerate(LDA.components_):\n",
    "    print(f\"TOP 25 WORDS FOR {index}\")\n",
    "    print([cv.get_feature_names_out()[index] for index in topic.argsort()[-25:]])\n",
    "    print(\"\\n\\n\")"
   ],
   "execution_count":35,
   "outputs":[
    {
     "name":"stdout",
     "text":[
      "TOP 25 WORDS FOR 0\n",
      "['men', 'help', 'force', 'wa', 'great', 'today', 'need', 'freedom', 'work', 'make', 'government', 'life', 'united', 'time', 'country', 'war', 'peace', 'new', 'america', 'year', 'u', 'world', 'people', 'nation', 'american']\n",
      "\n",
      "\n",
      "\n",
      "TOP 25 WORDS FOR 1\n",
      "['service', 'department', 'constitution', 'nation', 'citizen', 'general', 'right', 'subject', 'war', 'present', 'act', 'duty', 'time', 'people', 'great', 'shall', 'power', 'public', 'year', 'country', 'law', 'congress', 'united', 'wa', 'government']\n",
      "\n",
      "\n",
      "\n",
      "TOP 25 WORDS FOR 2\n",
      "['good', 'thank', 'way', 'did', 'question', 'make', 'like', 'american', 'right', 'thing', 'u', 'year', 'said', 'time', 'just', 'country', 'say', 'want', 'know', 'going', 'think', 'mr', 'people', 'wa', 'president']\n",
      "\n",
      "\n",
      "\n"
     ],
     "output_type":"stream"
    }
   ],
   "metadata":{
    "datalore":{
     "node_id":"bgsM83pGUGCv4F9oe1PLje",
     "type":"CODE",
     "hide_input_from_viewers":true,
     "hide_output_from_viewers":true
    }
   }
  },
  {
   "cell_type":"code",
   "source":[
    "topic_results=LDA.transform(dtm)"
   ],
   "execution_count":36,
   "outputs":[
    
   ],
   "metadata":{
    "datalore":{
     "node_id":"mKnUqFS3O4sxlxMjVT9thC",
     "type":"CODE",
     "hide_input_from_viewers":true,
     "hide_output_from_viewers":true
    }
   }
  },
  {
   "cell_type":"code",
   "source":[
    "topic_results"
   ],
   "execution_count":37,
   "outputs":[
    {
     "data":{
      "text\/html":[
       "<pre>array([[9.94460036e-01, 2.98032709e-03, 2.55963667e-03],\n",
       "       [2.66869559e-04, 2.13309127e-01, 7.86424004e-01],\n",
       "       [5.80019544e-02, 2.72022543e-01, 6.69975502e-01],\n",
       "       ...,\n",
       "       [8.11346033e-01, 1.88411042e-01, 2.42925364e-04],\n",
       "       [7.40251391e-01, 2.59523359e-01, 2.25250276e-04],\n",
       "       [7.28890974e-01, 2.70901056e-01, 2.07969239e-04]])<\/pre>"
      ]
     },
     "metadata":{
      
     },
     "output_type":"display_data"
    }
   ],
   "metadata":{
    "datalore":{
     "node_id":"KDBmFz2c2zOqKjHyePBFHn",
     "type":"CODE",
     "hide_input_from_viewers":true,
     "hide_output_from_viewers":true
    }
   }
  },
  {
   "cell_type":"code",
   "source":[
    "df2"
   ],
   "execution_count":38,
   "outputs":[
    {
     "data":{
      "text\/html":[
       "<div>\n",
       "<style scoped>\n",
       "    .dataframe tbody tr th:only-of-type {\n",
       "        vertical-align: middle;\n",
       "    }\n",
       "\n",
       "    .dataframe tbody tr th {\n",
       "        vertical-align: top;\n",
       "    }\n",
       "\n",
       "    .dataframe thead th {\n",
       "        text-align: right;\n",
       "    }\n",
       "<\/style>\n",
       "<table border=\"1\" class=\"dataframe\">\n",
       "  <thead>\n",
       "    <tr style=\"text-align: right;\">\n",
       "      <th><\/th>\n",
       "      <th>iddf<\/th>\n",
       "      <th>transcript<\/th>\n",
       "    <\/tr>\n",
       "  <\/thead>\n",
       "  <tbody>\n",
       "    <tr>\n",
       "      <th>0<\/th>\n",
       "      <td>0<\/td>\n",
       "      <td>My countrymen, the surpassing war of all times...<\/td>\n",
       "    <\/tr>\n",
       "    <tr>\n",
       "      <th>1<\/th>\n",
       "      <td>1<\/td>\n",
       "      <td>THE PRESIDENT. Good afternoon, ladies and gent...<\/td>\n",
       "    <\/tr>\n",
       "    <tr>\n",
       "      <th>2<\/th>\n",
       "      <td>2<\/td>\n",
       "      <td>THE PRESIDENT. Ladies and gentlemen, I have co...<\/td>\n",
       "    <\/tr>\n",
       "    <tr>\n",
       "      <th>3<\/th>\n",
       "      <td>3<\/td>\n",
       "      <td>THE PRESIDENT. I take pleasure this morning in...<\/td>\n",
       "    <\/tr>\n",
       "    <tr>\n",
       "      <th>4<\/th>\n",
       "      <td>4<\/td>\n",
       "      <td>THE PRESIDENT: This past week the United State...<\/td>\n",
       "    <\/tr>\n",
       "    <tr>\n",
       "      <th>...<\/th>\n",
       "      <td>...<\/td>\n",
       "      <td>...<\/td>\n",
       "    <\/tr>\n",
       "    <tr>\n",
       "      <th>1045<\/th>\n",
       "      <td>1045<\/td>\n",
       "      <td>[Read before a joint session by a clerk of the...<\/td>\n",
       "    <\/tr>\n",
       "    <tr>\n",
       "      <th>1046<\/th>\n",
       "      <td>1046<\/td>\n",
       "      <td>I appear before the Congress today to report o...<\/td>\n",
       "    <\/tr>\n",
       "    <tr>\n",
       "      <th>1047<\/th>\n",
       "      <td>1047<\/td>\n",
       "      <td>Mr. President, Mr. Speaker, Members of the 85t...<\/td>\n",
       "    <\/tr>\n",
       "    <tr>\n",
       "      <th>1048<\/th>\n",
       "      <td>1048<\/td>\n",
       "      <td>Mr. President, Mr. Speaker, Members of the 86t...<\/td>\n",
       "    <\/tr>\n",
       "    <tr>\n",
       "      <th>1049<\/th>\n",
       "      <td>1049<\/td>\n",
       "      <td>Mr. President, Mr. Speaker, Members of the 86t...<\/td>\n",
       "    <\/tr>\n",
       "  <\/tbody>\n",
       "<\/table>\n",
       "<p>1050 rows × 2 columns<\/p>\n",
       "<\/div>"
      ]
     },
     "metadata":{
      
     },
     "output_type":"display_data"
    }
   ],
   "metadata":{
    "datalore":{
     "node_id":"obFsg5II8uHBMlUFxd4iBB",
     "type":"CODE",
     "hide_input_from_viewers":true,
     "hide_output_from_viewers":true
    }
   }
  },
  {
   "cell_type":"code",
   "source":[
    "df2.loc[:,\"topic\"]=topic_results.argmax(axis=1).copy()\n",
    "df2"
   ],
   "execution_count":39,
   "outputs":[
    {
     "name":"stderr",
     "text":[
      "<ipython-input-39-0771f6f52818>:1: SettingWithCopyWarning: \n",
      "A value is trying to be set on a copy of a slice from a DataFrame.\n",
      "Try using .loc[row_indexer,col_indexer] = value instead\n",
      "\n",
      "See the caveats in the documentation: https:\/\/pandas.pydata.org\/pandas-docs\/stable\/user_guide\/indexing.html#returning-a-view-versus-a-copy\n",
      "  df2.loc[:,\"topic\"]=topic_results.argmax(axis=1).copy()\n"
     ],
     "output_type":"stream"
    },
    {
     "data":{
      "text\/html":[
       "<div>\n",
       "<style scoped>\n",
       "    .dataframe tbody tr th:only-of-type {\n",
       "        vertical-align: middle;\n",
       "    }\n",
       "\n",
       "    .dataframe tbody tr th {\n",
       "        vertical-align: top;\n",
       "    }\n",
       "\n",
       "    .dataframe thead th {\n",
       "        text-align: right;\n",
       "    }\n",
       "<\/style>\n",
       "<table border=\"1\" class=\"dataframe\">\n",
       "  <thead>\n",
       "    <tr style=\"text-align: right;\">\n",
       "      <th><\/th>\n",
       "      <th>iddf<\/th>\n",
       "      <th>transcript<\/th>\n",
       "      <th>topic<\/th>\n",
       "    <\/tr>\n",
       "  <\/thead>\n",
       "  <tbody>\n",
       "    <tr>\n",
       "      <th>0<\/th>\n",
       "      <td>0<\/td>\n",
       "      <td>My countrymen, the surpassing war of all times...<\/td>\n",
       "      <td>0<\/td>\n",
       "    <\/tr>\n",
       "    <tr>\n",
       "      <th>1<\/th>\n",
       "      <td>1<\/td>\n",
       "      <td>THE PRESIDENT. Good afternoon, ladies and gent...<\/td>\n",
       "      <td>2<\/td>\n",
       "    <\/tr>\n",
       "    <tr>\n",
       "      <th>2<\/th>\n",
       "      <td>2<\/td>\n",
       "      <td>THE PRESIDENT. Ladies and gentlemen, I have co...<\/td>\n",
       "      <td>2<\/td>\n",
       "    <\/tr>\n",
       "    <tr>\n",
       "      <th>3<\/th>\n",
       "      <td>3<\/td>\n",
       "      <td>THE PRESIDENT. I take pleasure this morning in...<\/td>\n",
       "      <td>2<\/td>\n",
       "    <\/tr>\n",
       "    <tr>\n",
       "      <th>4<\/th>\n",
       "      <td>4<\/td>\n",
       "      <td>THE PRESIDENT: This past week the United State...<\/td>\n",
       "      <td>2<\/td>\n",
       "    <\/tr>\n",
       "    <tr>\n",
       "      <th>...<\/th>\n",
       "      <td>...<\/td>\n",
       "      <td>...<\/td>\n",
       "      <td>...<\/td>\n",
       "    <\/tr>\n",
       "    <tr>\n",
       "      <th>1045<\/th>\n",
       "      <td>1045<\/td>\n",
       "      <td>[Read before a joint session by a clerk of the...<\/td>\n",
       "      <td>0<\/td>\n",
       "    <\/tr>\n",
       "    <tr>\n",
       "      <th>1046<\/th>\n",
       "      <td>1046<\/td>\n",
       "      <td>I appear before the Congress today to report o...<\/td>\n",
       "      <td>0<\/td>\n",
       "    <\/tr>\n",
       "    <tr>\n",
       "      <th>1047<\/th>\n",
       "      <td>1047<\/td>\n",
       "      <td>Mr. President, Mr. Speaker, Members of the 85t...<\/td>\n",
       "      <td>0<\/td>\n",
       "    <\/tr>\n",
       "    <tr>\n",
       "      <th>1048<\/th>\n",
       "      <td>1048<\/td>\n",
       "      <td>Mr. President, Mr. Speaker, Members of the 86t...<\/td>\n",
       "      <td>0<\/td>\n",
       "    <\/tr>\n",
       "    <tr>\n",
       "      <th>1049<\/th>\n",
       "      <td>1049<\/td>\n",
       "      <td>Mr. President, Mr. Speaker, Members of the 86t...<\/td>\n",
       "      <td>0<\/td>\n",
       "    <\/tr>\n",
       "  <\/tbody>\n",
       "<\/table>\n",
       "<p>1050 rows × 3 columns<\/p>\n",
       "<\/div>"
      ]
     },
     "metadata":{
      
     },
     "output_type":"display_data"
    }
   ],
   "metadata":{
    "datalore":{
     "node_id":"yKAufjd1tvo4KHrflFnzww",
     "type":"CODE",
     "hide_input_from_viewers":true,
     "hide_output_from_viewers":true
    }
   }
  },
  {
   "cell_type":"code",
   "source":[
    "df2[\"topic\"].value_counts()"
   ],
   "execution_count":40,
   "outputs":[
    {
     "data":{
      "text\/html":[
       "<pre>1    473\n",
       "0    463\n",
       "2    114\n",
       "Name: topic, dtype: int64<\/pre>"
      ]
     },
     "metadata":{
      
     },
     "output_type":"display_data"
    }
   ],
   "metadata":{
    "datalore":{
     "node_id":"KNYnmdy7DZCgSEU6E4W7uM",
     "type":"CODE",
     "hide_input_from_viewers":true,
     "hide_output_from_viewers":true
    }
   }
  },
  {
   "cell_type":"code",
   "source":[
    "df"
   ],
   "execution_count":41,
   "outputs":[
    {
     "data":{
      "text\/html":[
       "<div>\n",
       "<style scoped>\n",
       "    .dataframe tbody tr th:only-of-type {\n",
       "        vertical-align: middle;\n",
       "    }\n",
       "\n",
       "    .dataframe tbody tr th {\n",
       "        vertical-align: top;\n",
       "    }\n",
       "\n",
       "    .dataframe thead th {\n",
       "        text-align: right;\n",
       "    }\n",
       "<\/style>\n",
       "<table border=\"1\" class=\"dataframe\">\n",
       "  <thead>\n",
       "    <tr style=\"text-align: right;\">\n",
       "      <th><\/th>\n",
       "      <th>title<\/th>\n",
       "      <th>date<\/th>\n",
       "      <th>url<\/th>\n",
       "      <th>president<\/th>\n",
       "      <th>transcript<\/th>\n",
       "      <th>iddf<\/th>\n",
       "    <\/tr>\n",
       "  <\/thead>\n",
       "  <tbody>\n",
       "    <tr>\n",
       "      <th>0<\/th>\n",
       "      <td>April 4, 1917: The Republic Must Awaken<\/td>\n",
       "      <td>1917-04-04<\/td>\n",
       "      <td>\/the-presidency\/presidential-speeches\/april-4-...<\/td>\n",
       "      <td>Warren G. Harding<\/td>\n",
       "      <td>My countrymen, the surpassing war of all times...<\/td>\n",
       "      <td>0<\/td>\n",
       "    <\/tr>\n",
       "    <tr>\n",
       "      <th>1<\/th>\n",
       "      <td>March 7, 1964: Press Conference at the White H...<\/td>\n",
       "      <td>1964-03-07<\/td>\n",
       "      <td>\/the-presidency\/presidential-speeches\/march-7-...<\/td>\n",
       "      <td>Lyndon B. Johnson<\/td>\n",
       "      <td>THE PRESIDENT. Good afternoon, ladies and gent...<\/td>\n",
       "      <td>1<\/td>\n",
       "    <\/tr>\n",
       "    <tr>\n",
       "      <th>2<\/th>\n",
       "      <td>April 16, 1964: Press Conference at the State ...<\/td>\n",
       "      <td>1964-04-16<\/td>\n",
       "      <td>\/the-presidency\/presidential-speeches\/april-16...<\/td>\n",
       "      <td>Lyndon B. Johnson<\/td>\n",
       "      <td>THE PRESIDENT. Ladies and gentlemen, I have co...<\/td>\n",
       "      <td>2<\/td>\n",
       "    <\/tr>\n",
       "    <tr>\n",
       "      <th>3<\/th>\n",
       "      <td>February 29, 1964: Press Conference at the Sta...<\/td>\n",
       "      <td>1964-02-29<\/td>\n",
       "      <td>\/the-presidency\/presidential-speeches\/february...<\/td>\n",
       "      <td>Lyndon B. Johnson<\/td>\n",
       "      <td>THE PRESIDENT. I take pleasure this morning in...<\/td>\n",
       "      <td>3<\/td>\n",
       "    <\/tr>\n",
       "    <tr>\n",
       "      <th>4<\/th>\n",
       "      <td>February 1, 1964: Press Conference<\/td>\n",
       "      <td>1964-02-01<\/td>\n",
       "      <td>\/the-presidency\/presidential-speeches\/february...<\/td>\n",
       "      <td>Lyndon B. Johnson<\/td>\n",
       "      <td>THE PRESIDENT: This past week the United State...<\/td>\n",
       "      <td>4<\/td>\n",
       "    <\/tr>\n",
       "    <tr>\n",
       "      <th>...<\/th>\n",
       "      <td>...<\/td>\n",
       "      <td>...<\/td>\n",
       "      <td>...<\/td>\n",
       "      <td>...<\/td>\n",
       "      <td>...<\/td>\n",
       "      <td>...<\/td>\n",
       "    <\/tr>\n",
       "    <tr>\n",
       "      <th>1045<\/th>\n",
       "      <td>January 5, 1956: State of the Union Address<\/td>\n",
       "      <td>1956-01-05<\/td>\n",
       "      <td>\/the-presidency\/presidential-speeches\/january-...<\/td>\n",
       "      <td>Dwight D. Eisenhower<\/td>\n",
       "      <td>[Read before a joint session by a clerk of the...<\/td>\n",
       "      <td>1045<\/td>\n",
       "    <\/tr>\n",
       "    <tr>\n",
       "      <th>1046<\/th>\n",
       "      <td>January 10, 1957: State of the Union Address<\/td>\n",
       "      <td>1957-01-10<\/td>\n",
       "      <td>\/the-presidency\/presidential-speeches\/january-...<\/td>\n",
       "      <td>Dwight D. Eisenhower<\/td>\n",
       "      <td>I appear before the Congress today to report o...<\/td>\n",
       "      <td>1046<\/td>\n",
       "    <\/tr>\n",
       "    <tr>\n",
       "      <th>1047<\/th>\n",
       "      <td>January 9, 1958: State of the Union Address<\/td>\n",
       "      <td>1958-01-09<\/td>\n",
       "      <td>\/the-presidency\/presidential-speeches\/january-...<\/td>\n",
       "      <td>Dwight D. Eisenhower<\/td>\n",
       "      <td>Mr. President, Mr. Speaker, Members of the 85t...<\/td>\n",
       "      <td>1047<\/td>\n",
       "    <\/tr>\n",
       "    <tr>\n",
       "      <th>1048<\/th>\n",
       "      <td>January 9, 1959: State of the Union Address<\/td>\n",
       "      <td>1959-01-09<\/td>\n",
       "      <td>\/the-presidency\/presidential-speeches\/january-...<\/td>\n",
       "      <td>Dwight D. Eisenhower<\/td>\n",
       "      <td>Mr. President, Mr. Speaker, Members of the 86t...<\/td>\n",
       "      <td>1048<\/td>\n",
       "    <\/tr>\n",
       "    <tr>\n",
       "      <th>1049<\/th>\n",
       "      <td>January 7, 1960: State of the Union Address<\/td>\n",
       "      <td>1960-01-07<\/td>\n",
       "      <td>\/the-presidency\/presidential-speeches\/january-...<\/td>\n",
       "      <td>Dwight D. Eisenhower<\/td>\n",
       "      <td>Mr. President, Mr. Speaker, Members of the 86t...<\/td>\n",
       "      <td>1049<\/td>\n",
       "    <\/tr>\n",
       "  <\/tbody>\n",
       "<\/table>\n",
       "<p>1050 rows × 6 columns<\/p>\n",
       "<\/div>"
      ]
     },
     "metadata":{
      
     },
     "output_type":"display_data"
    }
   ],
   "metadata":{
    "datalore":{
     "node_id":"nXnSBc5GSGdc3q9a0V8C2P",
     "type":"CODE",
     "hide_input_from_viewers":true,
     "hide_output_from_viewers":true
    }
   }
  },
  {
   "cell_type":"code",
   "source":[
    "df['topic']=df.iddf.map(df2.topic)\n",
    "df"
   ],
   "execution_count":42,
   "outputs":[
    {
     "data":{
      "text\/html":[
       "<div>\n",
       "<style scoped>\n",
       "    .dataframe tbody tr th:only-of-type {\n",
       "        vertical-align: middle;\n",
       "    }\n",
       "\n",
       "    .dataframe tbody tr th {\n",
       "        vertical-align: top;\n",
       "    }\n",
       "\n",
       "    .dataframe thead th {\n",
       "        text-align: right;\n",
       "    }\n",
       "<\/style>\n",
       "<table border=\"1\" class=\"dataframe\">\n",
       "  <thead>\n",
       "    <tr style=\"text-align: right;\">\n",
       "      <th><\/th>\n",
       "      <th>title<\/th>\n",
       "      <th>date<\/th>\n",
       "      <th>url<\/th>\n",
       "      <th>president<\/th>\n",
       "      <th>transcript<\/th>\n",
       "      <th>iddf<\/th>\n",
       "      <th>topic<\/th>\n",
       "    <\/tr>\n",
       "  <\/thead>\n",
       "  <tbody>\n",
       "    <tr>\n",
       "      <th>0<\/th>\n",
       "      <td>April 4, 1917: The Republic Must Awaken<\/td>\n",
       "      <td>1917-04-04<\/td>\n",
       "      <td>\/the-presidency\/presidential-speeches\/april-4-...<\/td>\n",
       "      <td>Warren G. Harding<\/td>\n",
       "      <td>My countrymen, the surpassing war of all times...<\/td>\n",
       "      <td>0<\/td>\n",
       "      <td>0<\/td>\n",
       "    <\/tr>\n",
       "    <tr>\n",
       "      <th>1<\/th>\n",
       "      <td>March 7, 1964: Press Conference at the White H...<\/td>\n",
       "      <td>1964-03-07<\/td>\n",
       "      <td>\/the-presidency\/presidential-speeches\/march-7-...<\/td>\n",
       "      <td>Lyndon B. Johnson<\/td>\n",
       "      <td>THE PRESIDENT. Good afternoon, ladies and gent...<\/td>\n",
       "      <td>1<\/td>\n",
       "      <td>2<\/td>\n",
       "    <\/tr>\n",
       "    <tr>\n",
       "      <th>2<\/th>\n",
       "      <td>April 16, 1964: Press Conference at the State ...<\/td>\n",
       "      <td>1964-04-16<\/td>\n",
       "      <td>\/the-presidency\/presidential-speeches\/april-16...<\/td>\n",
       "      <td>Lyndon B. Johnson<\/td>\n",
       "      <td>THE PRESIDENT. Ladies and gentlemen, I have co...<\/td>\n",
       "      <td>2<\/td>\n",
       "      <td>2<\/td>\n",
       "    <\/tr>\n",
       "    <tr>\n",
       "      <th>3<\/th>\n",
       "      <td>February 29, 1964: Press Conference at the Sta...<\/td>\n",
       "      <td>1964-02-29<\/td>\n",
       "      <td>\/the-presidency\/presidential-speeches\/february...<\/td>\n",
       "      <td>Lyndon B. Johnson<\/td>\n",
       "      <td>THE PRESIDENT. I take pleasure this morning in...<\/td>\n",
       "      <td>3<\/td>\n",
       "      <td>2<\/td>\n",
       "    <\/tr>\n",
       "    <tr>\n",
       "      <th>4<\/th>\n",
       "      <td>February 1, 1964: Press Conference<\/td>\n",
       "      <td>1964-02-01<\/td>\n",
       "      <td>\/the-presidency\/presidential-speeches\/february...<\/td>\n",
       "      <td>Lyndon B. Johnson<\/td>\n",
       "      <td>THE PRESIDENT: This past week the United State...<\/td>\n",
       "      <td>4<\/td>\n",
       "      <td>2<\/td>\n",
       "    <\/tr>\n",
       "    <tr>\n",
       "      <th>...<\/th>\n",
       "      <td>...<\/td>\n",
       "      <td>...<\/td>\n",
       "      <td>...<\/td>\n",
       "      <td>...<\/td>\n",
       "      <td>...<\/td>\n",
       "      <td>...<\/td>\n",
       "      <td>...<\/td>\n",
       "    <\/tr>\n",
       "    <tr>\n",
       "      <th>1045<\/th>\n",
       "      <td>January 5, 1956: State of the Union Address<\/td>\n",
       "      <td>1956-01-05<\/td>\n",
       "      <td>\/the-presidency\/presidential-speeches\/january-...<\/td>\n",
       "      <td>Dwight D. Eisenhower<\/td>\n",
       "      <td>[Read before a joint session by a clerk of the...<\/td>\n",
       "      <td>1045<\/td>\n",
       "      <td>0<\/td>\n",
       "    <\/tr>\n",
       "    <tr>\n",
       "      <th>1046<\/th>\n",
       "      <td>January 10, 1957: State of the Union Address<\/td>\n",
       "      <td>1957-01-10<\/td>\n",
       "      <td>\/the-presidency\/presidential-speeches\/january-...<\/td>\n",
       "      <td>Dwight D. Eisenhower<\/td>\n",
       "      <td>I appear before the Congress today to report o...<\/td>\n",
       "      <td>1046<\/td>\n",
       "      <td>0<\/td>\n",
       "    <\/tr>\n",
       "    <tr>\n",
       "      <th>1047<\/th>\n",
       "      <td>January 9, 1958: State of the Union Address<\/td>\n",
       "      <td>1958-01-09<\/td>\n",
       "      <td>\/the-presidency\/presidential-speeches\/january-...<\/td>\n",
       "      <td>Dwight D. Eisenhower<\/td>\n",
       "      <td>Mr. President, Mr. Speaker, Members of the 85t...<\/td>\n",
       "      <td>1047<\/td>\n",
       "      <td>0<\/td>\n",
       "    <\/tr>\n",
       "    <tr>\n",
       "      <th>1048<\/th>\n",
       "      <td>January 9, 1959: State of the Union Address<\/td>\n",
       "      <td>1959-01-09<\/td>\n",
       "      <td>\/the-presidency\/presidential-speeches\/january-...<\/td>\n",
       "      <td>Dwight D. Eisenhower<\/td>\n",
       "      <td>Mr. President, Mr. Speaker, Members of the 86t...<\/td>\n",
       "      <td>1048<\/td>\n",
       "      <td>0<\/td>\n",
       "    <\/tr>\n",
       "    <tr>\n",
       "      <th>1049<\/th>\n",
       "      <td>January 7, 1960: State of the Union Address<\/td>\n",
       "      <td>1960-01-07<\/td>\n",
       "      <td>\/the-presidency\/presidential-speeches\/january-...<\/td>\n",
       "      <td>Dwight D. Eisenhower<\/td>\n",
       "      <td>Mr. President, Mr. Speaker, Members of the 86t...<\/td>\n",
       "      <td>1049<\/td>\n",
       "      <td>0<\/td>\n",
       "    <\/tr>\n",
       "  <\/tbody>\n",
       "<\/table>\n",
       "<p>1050 rows × 7 columns<\/p>\n",
       "<\/div>"
      ]
     },
     "metadata":{
      
     },
     "output_type":"display_data"
    }
   ],
   "metadata":{
    "datalore":{
     "node_id":"We60CKlX3RozXESiegyCqT",
     "type":"CODE",
     "hide_input_from_viewers":true,
     "hide_output_from_viewers":true
    }
   }
  },
  {
   "cell_type":"code",
   "source":[
    "!pip install pyLDAvis"
   ],
   "execution_count":43,
   "outputs":[
    {
     "name":"stdout",
     "text":[
      "Collecting pyLDAvis\r\n",
      "  Downloading pyLDAvis-3.4.0-py3-none-any.whl (2.6 MB)\r\n",
      "\u001b[?25l     \u001b[90m━━━━━━━━━━━━━━━━━━━━━━━━━━━━━━━━━━━━━━━━\u001b[0m \u001b[32m0.0\/2.6 MB\u001b[0m \u001b[31m?\u001b[0m eta \u001b[36m-:--:--\u001b[0m\r\u001b[2K     \u001b[91m━━━━━━━━━━━━━━━━━━━━━━━━━━━━━━━━━━━\u001b[0m\u001b[90m╺\u001b[0m\u001b[90m━━━━\u001b[0m \u001b[32m2.3\/2.6 MB\u001b[0m \u001b[31m68.9 MB\/s\u001b[0m eta \u001b[36m0:00:01\u001b[0m\r\u001b[2K     \u001b[90m━━━━━━━━━━━━━━━━━━━━━━━━━━━━━━━━━━━━━━━━\u001b[0m \u001b[32m2.6\/2.6 MB\u001b[0m \u001b[31m47.5 MB\/s\u001b[0m eta \u001b[36m0:00:00\u001b[0m\r\n",
      "\u001b[?25hRequirement already satisfied: numpy>=1.22.0 in \/opt\/python\/envs\/default\/lib\/python3.8\/site-packages (from pyLDAvis) (1.24.3)\r\n",
      "Requirement already satisfied: scipy in \/opt\/python\/envs\/default\/lib\/python3.8\/site-packages (from pyLDAvis) (1.9.1)\r\n",
      "Requirement already satisfied: pandas>=1.3.4 in \/opt\/python\/envs\/default\/lib\/python3.8\/site-packages (from pyLDAvis) (1.5.3)\r\n",
      "Requirement already satisfied: joblib>=1.2.0 in \/opt\/python\/envs\/default\/lib\/python3.8\/site-packages (from pyLDAvis) (1.3.2)\r\n",
      "Requirement already satisfied: jinja2 in \/opt\/python\/envs\/default\/lib\/python3.8\/site-packages (from pyLDAvis) (3.1.2)\r\n",
      "Collecting numexpr (from pyLDAvis)\r\n",
      "  Downloading numexpr-2.8.6-cp38-cp38-manylinux_2_17_x86_64.manylinux2014_x86_64.whl (384 kB)\r\n",
      "\u001b[?25l     \u001b[90m━━━━━━━━━━━━━━━━━━━━━━━━━━━━━━━━━━━━━━━━\u001b[0m \u001b[32m0.0\/384.3 kB\u001b[0m \u001b[31m?\u001b[0m eta \u001b[36m-:--:--\u001b[0m\r\u001b[2K     \u001b[90m━━━━━━━━━━━━━━━━━━━━━━━━━━━━━━━━━━━━━━\u001b[0m \u001b[32m384.3\/384.3 kB\u001b[0m \u001b[31m43.2 MB\/s\u001b[0m eta \u001b[36m0:00:00\u001b[0m\r\n",
      "\u001b[?25hCollecting funcy (from pyLDAvis)\r\n",
      "  Downloading funcy-2.0-py2.py3-none-any.whl (30 kB)\r\n",
      "Requirement already satisfied: scikit-learn>=1.0.0 in \/opt\/python\/envs\/default\/lib\/python3.8\/site-packages (from pyLDAvis) (1.2.2)\r\n",
      "Requirement already satisfied: gensim in \/opt\/python\/envs\/default\/lib\/python3.8\/site-packages (from pyLDAvis) (4.3.1)\r\n",
      "Requirement already satisfied: setuptools in \/opt\/python\/envs\/default\/lib\/python3.8\/site-packages (from pyLDAvis) (68.2.2)\r\n",
      "Requirement already satisfied: python-dateutil>=2.8.1 in \/opt\/python\/envs\/default\/lib\/python3.8\/site-packages (from pandas>=1.3.4->pyLDAvis) (2.8.2)\r\n",
      "Requirement already satisfied: pytz>=2020.1 in \/opt\/python\/envs\/default\/lib\/python3.8\/site-packages (from pandas>=1.3.4->pyLDAvis) (2023.3.post1)\r\n",
      "Requirement already satisfied: threadpoolctl>=2.0.0 in \/opt\/python\/envs\/default\/lib\/python3.8\/site-packages (from scikit-learn>=1.0.0->pyLDAvis) (3.2.0)\r\n",
      "Requirement already satisfied: smart-open>=1.8.1 in \/opt\/python\/envs\/default\/lib\/python3.8\/site-packages (from gensim->pyLDAvis) (6.4.0)\r\n",
      "Requirement already satisfied: MarkupSafe>=2.0 in \/opt\/python\/envs\/default\/lib\/python3.8\/site-packages (from jinja2->pyLDAvis) (2.1.3)\r\n",
      "Requirement already satisfied: six>=1.5 in \/opt\/python\/envs\/default\/lib\/python3.8\/site-packages (from python-dateutil>=2.8.1->pandas>=1.3.4->pyLDAvis) (1.16.0)\r\n",
      "Installing collected packages: funcy, numexpr, pyLDAvis\r\n",
      "Successfully installed funcy-2.0 numexpr-2.8.6 pyLDAvis-3.4.0\r\n",
      "\r\n",
      "\u001b[1m[\u001b[0m\u001b[34;49mnotice\u001b[0m\u001b[1;39;49m]\u001b[0m\u001b[39;49m A new release of pip is available: \u001b[0m\u001b[31;49m23.1.2\u001b[0m\u001b[39;49m -> \u001b[0m\u001b[32;49m23.3.1\u001b[0m\r\n",
      "\u001b[1m[\u001b[0m\u001b[34;49mnotice\u001b[0m\u001b[1;39;49m]\u001b[0m\u001b[39;49m To update, run: \u001b[0m\u001b[32;49mpip install --upgrade pip\u001b[0m\r\n"
     ],
     "output_type":"stream"
    }
   ],
   "metadata":{
    "datalore":{
     "node_id":"e7n5bvyjl8roAdevNCMFc9",
     "type":"CODE",
     "hide_input_from_viewers":true,
     "hide_output_from_viewers":true
    }
   }
  },
  {
   "cell_type":"code",
   "source":[
    "import pyLDAvis.lda_model\n",
    "pyLDAvis.enable_notebook()\n",
    "\n",
    "\n",
    "dash = pyLDAvis.lda_model.prepare(LDA, dtm, cv, mds='tsne')\n",
    "dash"
   ],
   "execution_count":44,
   "outputs":[
    {
     "name":"stderr",
     "text":[
      "\/opt\/python\/envs\/default\/lib\/python3.8\/site-packages\/pyLDAvis\/_prepare.py:243: FutureWarning: In a future version of pandas all arguments of DataFrame.drop except for the argument 'labels' will be keyword-only.\n",
      "  default_term_info = default_term_info.sort_values(\n"
     ],
     "output_type":"stream"
    },
    {
     "data":{
      "text\/html":[
       "\n",
       "<link rel=\"stylesheet\" type=\"text\/css\" href=\"https:\/\/cdn.jsdelivr.net\/gh\/bmabey\/pyLDAvis@3.4.0\/pyLDAvis\/js\/ldavis.v1.0.0.css\">\n",
       "\n",
       "\n",
       "<div id=\"ldavis_el1251396507658380327957181720\" style=\"background-color:white;\"><\/div>\n",
       "<script type=\"text\/javascript\">\n",
       "\n",
       "var ldavis_el1251396507658380327957181720_data = {\"mdsDat\": {\"x\": [34.495975494384766, 177.3660125732422, 110.79194641113281], \"y\": [-5.512843132019043, -10.668319702148438, 115.55907440185547], \"topics\": [1, 2, 3], \"cluster\": [1, 1, 1], \"Freq\": [49.84086118830766, 32.857429677737684, 17.301709133954663]}, \"tinfo\": {\"Term\": [\"president\", \"mr\", \"wa\", \"think\", \"going\", \"people\", \"know\", \"world\", \"want\", \"american\", \"say\", \"america\", \"u\", \"said\", \"just\", \"nation\", \"thing\", \"like\", \"thank\", \"question\", \"job\", \"did\", \"today\", \"let\", \"dont\", \"way\", \"got\", \"freedom\", \"make\", \"help\", \"receipt\", \"intercourse\", \"vessel\", \"disposition\", \"satisfactory\", \"deemed\", \"heretofore\", \"discharge\", \"earnestly\", \"thereof\", \"practicable\", \"correspondence\", \"gratifying\", \"herewith\", \"fellowcitizens\", \"furnish\", \"relating\", \"continuance\", \"revision\", \"deem\", \"prescribed\", \"mode\", \"propriety\", \"effected\", \"guaranty\", \"peculiar\", \"furnished\", \"vested\", \"probable\", \"arising\", \"indian\", \"consideration\", \"appropriation\", \"commissioner\", \"examination\", \"object\", \"proceeding\", \"spain\", \"article\", \"jurisdiction\", \"provision\", \"gold\", \"treasury\", \"subject\", \"expenditure\", \"territory\", \"naval\", \"statute\", \"proper\", \"commerce\", \"duty\", \"existing\", \"attention\", \"present\", \"revenue\", \"commercial\", \"constitution\", \"officer\", \"shall\", \"public\", \"department\", \"navy\", \"condition\", \"treaty\", \"law\", \"government\", \"authority\", \"relation\", \"united\", \"necessary\", \"power\", \"congress\", \"act\", \"general\", \"wa\", \"service\", \"purpose\", \"country\", \"great\", \"citizen\", \"year\", \"time\", \"foreign\", \"war\", \"people\", \"right\", \"nation\", \"ideal\", \"vision\", \"terror\", \"global\", \"democracy\", \"dream\", \"bless\", \"faced\", \"achieve\", \"era\", \"initiative\", \"challenge\", \"ally\", \"tyranny\", \"objective\", \"generation\", \"reality\", \"decade\", \"aspiration\", \"tonight\", \"unity\", \"goal\", \"courage\", \"freedom\", \"adversary\", \"tradition\", \"role\", \"threat\", \"tragedy\", \"eliminate\", \"economic\", \"ensure\", \"america\", \"world\", \"nuclear\", \"child\", \"weapon\", \"help\", \"human\", \"woman\", \"commitment\", \"build\", \"god\", \"nation\", \"american\", \"today\", \"life\", \"u\", \"peace\", \"seek\", \"security\", \"new\", \"century\", \"soviet\", \"future\", \"program\", \"need\", \"let\", \"people\", \"family\", \"year\", \"war\", \"home\", \"work\", \"men\", \"make\", \"force\", \"come\", \"time\", \"free\", \"country\", \"united\", \"government\", \"great\", \"right\", \"wa\", \"got\", \"dont\", \"talking\", \"lot\", \"talked\", \"everybody\", \"going\", \"mr\", \"democrat\", \"think\", \"laughter\", \"getting\", \"senator\", \"saying\", \"minute\", \"wanted\", \"really\", \"candidate\", \"happened\", \"happens\", \"yes\", \"thats\", \"president\", \"vice\", \"went\", \"im\", \"governor\", \"news\", \"tough\", \"republican\", \"doing\", \"thank\", \"say\", \"want\", \"know\", \"thing\", \"said\", \"did\", \"tell\", \"like\", \"just\", \"wa\", \"people\", \"job\", \"question\", \"way\", \"time\", \"right\", \"country\", \"make\", \"u\", \"year\", \"believe\", \"good\", \"american\", \"great\", \"day\"], \"Freq\": [8070.0, 4018.0, 15059.0, 3829.0, 3125.0, 13377.0, 4333.0, 6840.0, 3599.0, 9556.0, 3118.0, 5386.0, 7876.0, 3181.0, 4385.0, 8616.0, 2647.0, 2763.0, 1838.0, 3487.0, 2285.0, 2116.0, 2759.0, 2865.0, 1075.0, 3541.0, 1043.0, 2430.0, 5378.0, 2339.0, 564.7220956982559, 530.7827313951046, 1112.3010434812209, 410.8977971937917, 524.5546918947451, 377.91585173176736, 365.9306351552169, 364.9033412756909, 369.88148419371606, 319.9882944752999, 293.0172923403126, 272.0252397113274, 269.02838154640153, 242.0651011393628, 231.07978918524768, 225.0707886832111, 220.08590898019455, 213.06855977178614, 244.92625420664794, 203.09986664484538, 199.07391888616536, 274.716592976453, 180.14370323128006, 182.1215680337626, 177.1376083759872, 209.96197379884404, 176.11451088105065, 169.1441432075708, 164.14084684684786, 178.02584085749163, 1227.1042438707323, 1640.464809739406, 1214.6444532717887, 682.8393684799515, 531.6443663071714, 1185.3083995599286, 464.34192038224944, 616.1564635216558, 905.4857657977454, 481.3515170020741, 1801.4337289777345, 709.7001520927618, 1670.4435028475282, 2766.093045162429, 1221.6572702810122, 1920.3898027309365, 767.4708197585769, 487.08875705036803, 1310.8165898243224, 1512.1534954034928, 3425.141592604275, 977.3230087672462, 1526.381828427404, 3164.357250173226, 1494.497687903445, 913.907302234988, 2442.081728946645, 1884.394244170956, 4157.189726797314, 4566.985028689428, 2416.574336929169, 1067.1534612765513, 2214.777394888181, 2358.693965481622, 5682.6433316459725, 10770.323701179748, 1982.9967301293632, 1730.4621557349437, 7936.076562176748, 2359.3495275155265, 4537.013581275871, 5948.215348257201, 3418.763141920127, 2650.416872657075, 8433.905297025103, 2405.663613768415, 2195.157205486682, 5091.51701146505, 3884.6501002479813, 2554.4839899269746, 4727.811895214154, 3537.5482165154413, 2111.3074797387244, 2935.7328664881798, 3609.9903723619827, 2720.9008608133554, 2538.194523972416, 329.98560728229273, 271.1693611957225, 273.1664863154153, 308.1568422763106, 884.5669653606253, 450.92888615237325, 303.37296355928197, 166.6994861222127, 363.80518359156133, 214.10788688436247, 345.09325948582836, 763.6710070090674, 691.2543977552206, 145.97925025274708, 249.99395057702762, 729.465546225007, 218.15533494823765, 519.5136457774258, 134.15256523396246, 1331.9900252311447, 270.86166310971964, 648.0493992662452, 446.3712010267386, 2143.6275057709004, 144.57046707430794, 198.63169921829953, 248.71505016241798, 644.7819881849335, 147.0494274064735, 137.85308018398442, 1670.7007369011765, 251.18765399599155, 4468.185799162676, 5637.925332085469, 785.7471407619869, 1754.9672616951586, 793.0041169034234, 1862.7616805175953, 1127.4955801675012, 1028.9844322643746, 568.1529195448755, 736.0699411772482, 760.6634859060829, 5754.465766490385, 6214.338274023107, 2009.6269369405572, 2455.57255660275, 4882.49407297889, 3163.711018770519, 770.7263129913437, 1754.112553829092, 3761.662655314015, 775.6700734045038, 973.9931800189597, 1698.2752564692898, 1436.1473350142705, 2103.338923385831, 1816.7931238400517, 5692.996009523678, 1327.0434369438988, 4627.218585545482, 2920.564019219418, 1415.6595754586783, 2338.94545187756, 1835.8621299162141, 2372.216712379934, 1878.3437776121386, 1593.1918027030977, 2680.6030955712954, 1597.2040948084848, 2812.222349401151, 2472.9666174719905, 2413.4950032753836, 1991.5729785156495, 1797.714175340734, 1948.8951880404102, 1004.3826858339398, 1027.6533636278195, 391.91328930221476, 908.8799940997401, 228.27899276687478, 336.1104877570165, 2892.5355196941164, 3548.292631969077, 438.97100094896257, 3315.83849273164, 450.8177034506897, 373.7375660428141, 837.1926791827095, 328.7501638286338, 235.24807025216435, 280.3755828059853, 653.5977534918495, 311.22667443470414, 293.90260846639364, 161.16332245274788, 428.9078757014769, 664.073594089516, 6082.92355729989, 433.408732273355, 397.8876445283069, 579.3031002341622, 912.7699555194054, 183.5704787283074, 179.52848385132577, 819.8107575965896, 785.7257857319025, 1261.9412460557037, 2075.8075555749165, 2373.0189736253383, 2554.175670792552, 1653.324989490613, 1933.0375299753584, 1290.8378186348227, 664.8832296496283, 1501.7167977625077, 2041.9593784794156, 4677.064074161868, 4074.9786346218584, 1068.2746006621082, 1345.0950145508366, 1280.6239090887816, 1949.540768232559, 1635.4605702516376, 2065.249194091777, 1451.4236512253703, 1682.2681818185108, 1863.8667578590032, 1072.5838679252045, 1206.3464107197362, 1554.2379350369172, 1126.345135394698, 1010.939502941235], \"Total\": [8070.0, 4018.0, 15059.0, 3829.0, 3125.0, 13377.0, 4333.0, 6840.0, 3599.0, 9556.0, 3118.0, 5386.0, 7876.0, 3181.0, 4385.0, 8616.0, 2647.0, 2763.0, 1838.0, 3487.0, 2285.0, 2116.0, 2759.0, 2865.0, 1075.0, 3541.0, 1043.0, 2430.0, 5378.0, 2339.0, 565.419927918607, 531.4547801662641, 1113.8628146318624, 411.57791148146356, 525.4624683995892, 378.61179097077655, 366.62411710955865, 365.62520541921117, 370.6197097235409, 320.67129532411536, 293.69896804274754, 272.7207172820856, 269.7236405212875, 242.75139528531744, 231.76261709341944, 225.76881308431007, 220.77393461945348, 213.78104460106368, 245.74758733763005, 203.79128439867645, 199.79526427813013, 275.71974819771657, 180.8149671315993, 182.81285708826508, 177.81800294202893, 210.78500102335056, 176.81905489520275, 169.8262483104699, 164.8313325176524, 178.81749162667103, 1232.7488546340448, 1654.3555746618788, 1223.7069532388196, 687.3079885518747, 534.4452924919004, 1201.837655153837, 466.5297857710763, 621.3948643017824, 919.1326552464542, 485.5263751063946, 1845.3396285385254, 720.2524233231786, 1713.3894241856485, 2876.585558890625, 1251.5901375029098, 1995.8525029670434, 783.1205004524577, 492.47521258248383, 1352.8644638802286, 1570.1174251818582, 3652.2440489697383, 1007.9209858206522, 1599.437630942182, 3436.026825016857, 1577.364994498802, 945.219502476816, 2634.707378420472, 2016.6770215375116, 4644.747009502022, 5167.274785349987, 2646.0148984345633, 1114.7309499961261, 2428.340270695684, 2602.798909324899, 6862.318797044346, 13953.705047788799, 2204.5085048218007, 1909.7863311402202, 11234.58841799236, 2775.8821130568963, 5945.811269913296, 8182.530932566658, 4411.610729786568, 3243.0535323511867, 15059.86455922738, 3042.1186364818186, 2794.447139329965, 9968.988554957978, 7002.568214158329, 3747.5294273198006, 11218.89723861864, 8167.692080319295, 2790.064529798877, 6143.664391083461, 13377.96501650752, 6154.075606405727, 8616.756873832855, 335.96656261707057, 279.3451912048966, 284.31242684522937, 322.1759771364659, 933.8235780081008, 478.3742847056296, 326.24998371335613, 180.0473567693789, 394.9359849665524, 232.68875355888872, 375.983511147591, 836.6359117784872, 757.9948418294537, 160.0845125683838, 275.6067515176346, 809.5495326570461, 242.69888152554546, 580.109244657691, 150.15626018009715, 1493.7420361991742, 304.34261704942446, 728.478094466273, 504.3094186572632, 2430.9796517530526, 164.12612314387528, 225.84673237249052, 283.6718442279675, 736.3543752500634, 168.21678226935353, 158.25088998698405, 1939.2359190477193, 288.67184931360345, 5386.553900114358, 6840.391509369433, 930.0161270241155, 2135.8669125873434, 941.9600203024078, 2339.367931451376, 1385.4403935105352, 1268.0003425150262, 670.1039834845116, 895.2565755067114, 930.0431986386966, 8616.756873832855, 9556.201132030594, 2759.1219133864925, 3499.9060297837987, 7876.71577480729, 4797.557262184005, 944.1510237591451, 2498.288357755269, 6580.403615644149, 954.4728254905297, 1266.7587108777216, 2559.5364390274212, 2076.019854670318, 3402.960076137688, 2865.463782078156, 13377.96501650752, 1947.763370015024, 11218.89723861864, 6143.664391083461, 2207.5129442765883, 4675.739606803851, 3379.870022137881, 5378.592364584538, 3692.0956957112708, 2846.023109092587, 8167.692080319295, 2894.6565005716234, 9968.988554957978, 11234.58841799236, 13953.705047788799, 7002.568214158329, 6154.075606405727, 15059.86455922738, 1043.896832780129, 1075.9844784027612, 417.2406810065755, 975.2774864783505, 246.2857409176093, 362.8906550535514, 3125.3381136030644, 4018.944171229171, 506.26864848557545, 3829.598058244748, 530.2657645434224, 439.8905634483268, 991.6852290903594, 389.72908004333925, 286.20798141750254, 342.43041936687416, 811.3507648743972, 388.6667616802723, 370.46560800632096, 203.79021559703597, 544.9056182013002, 847.9231756632023, 8070.3684048364785, 575.8548031045167, 534.80922380975, 779.3050160577883, 1267.0096773892956, 257.7169777159601, 255.6281410979074, 1173.6159633718682, 1130.310923460983, 1838.1493664161894, 3118.869916612639, 3599.3592361553783, 4333.166174226082, 2647.037896271864, 3181.2910890980647, 2116.931438023204, 967.2060780680447, 2763.6820454745493, 4385.949389888803, 15059.86455922738, 13377.96501650752, 2285.994886683722, 3487.1181577968546, 3541.4457512245767, 8167.692080319295, 6154.075606405727, 9968.988554957978, 5378.592364584538, 7876.71577480729, 11218.89723861864, 2675.107069732031, 3962.33823484451, 9556.201132030594, 7002.568214158329, 3778.5858861220454], \"Category\": [\"Default\", \"Default\", \"Default\", \"Default\", \"Default\", \"Default\", \"Default\", \"Default\", \"Default\", \"Default\", \"Default\", \"Default\", \"Default\", \"Default\", \"Default\", \"Default\", \"Default\", \"Default\", \"Default\", \"Default\", \"Default\", \"Default\", \"Default\", \"Default\", \"Default\", \"Default\", \"Default\", \"Default\", \"Default\", \"Default\", \"Topic1\", \"Topic1\", \"Topic1\", \"Topic1\", \"Topic1\", \"Topic1\", \"Topic1\", \"Topic1\", \"Topic1\", \"Topic1\", \"Topic1\", \"Topic1\", \"Topic1\", \"Topic1\", \"Topic1\", \"Topic1\", \"Topic1\", \"Topic1\", \"Topic1\", \"Topic1\", \"Topic1\", \"Topic1\", \"Topic1\", \"Topic1\", \"Topic1\", \"Topic1\", \"Topic1\", \"Topic1\", \"Topic1\", \"Topic1\", \"Topic1\", \"Topic1\", \"Topic1\", \"Topic1\", \"Topic1\", \"Topic1\", \"Topic1\", \"Topic1\", \"Topic1\", \"Topic1\", \"Topic1\", \"Topic1\", \"Topic1\", \"Topic1\", \"Topic1\", \"Topic1\", \"Topic1\", \"Topic1\", \"Topic1\", \"Topic1\", \"Topic1\", \"Topic1\", \"Topic1\", \"Topic1\", \"Topic1\", \"Topic1\", \"Topic1\", \"Topic1\", \"Topic1\", \"Topic1\", \"Topic1\", \"Topic1\", \"Topic1\", \"Topic1\", \"Topic1\", \"Topic1\", \"Topic1\", \"Topic1\", \"Topic1\", \"Topic1\", \"Topic1\", \"Topic1\", \"Topic1\", \"Topic1\", \"Topic1\", \"Topic1\", \"Topic1\", \"Topic1\", \"Topic1\", \"Topic1\", \"Topic1\", \"Topic1\", \"Topic1\", \"Topic1\", \"Topic1\", \"Topic1\", \"Topic1\", \"Topic2\", \"Topic2\", \"Topic2\", \"Topic2\", \"Topic2\", \"Topic2\", \"Topic2\", \"Topic2\", \"Topic2\", \"Topic2\", \"Topic2\", \"Topic2\", \"Topic2\", \"Topic2\", \"Topic2\", \"Topic2\", \"Topic2\", \"Topic2\", \"Topic2\", \"Topic2\", \"Topic2\", \"Topic2\", \"Topic2\", \"Topic2\", \"Topic2\", \"Topic2\", \"Topic2\", \"Topic2\", \"Topic2\", \"Topic2\", \"Topic2\", \"Topic2\", \"Topic2\", \"Topic2\", \"Topic2\", \"Topic2\", \"Topic2\", \"Topic2\", \"Topic2\", \"Topic2\", \"Topic2\", \"Topic2\", \"Topic2\", \"Topic2\", \"Topic2\", \"Topic2\", \"Topic2\", \"Topic2\", \"Topic2\", \"Topic2\", \"Topic2\", \"Topic2\", \"Topic2\", \"Topic2\", \"Topic2\", \"Topic2\", \"Topic2\", \"Topic2\", \"Topic2\", \"Topic2\", \"Topic2\", \"Topic2\", \"Topic2\", \"Topic2\", \"Topic2\", \"Topic2\", \"Topic2\", \"Topic2\", \"Topic2\", \"Topic2\", \"Topic2\", \"Topic2\", \"Topic2\", \"Topic2\", \"Topic2\", \"Topic2\", \"Topic3\", \"Topic3\", \"Topic3\", \"Topic3\", \"Topic3\", \"Topic3\", \"Topic3\", \"Topic3\", \"Topic3\", \"Topic3\", \"Topic3\", \"Topic3\", \"Topic3\", \"Topic3\", \"Topic3\", \"Topic3\", \"Topic3\", \"Topic3\", \"Topic3\", \"Topic3\", \"Topic3\", \"Topic3\", \"Topic3\", \"Topic3\", \"Topic3\", \"Topic3\", \"Topic3\", \"Topic3\", \"Topic3\", \"Topic3\", \"Topic3\", \"Topic3\", \"Topic3\", \"Topic3\", \"Topic3\", \"Topic3\", \"Topic3\", \"Topic3\", \"Topic3\", \"Topic3\", \"Topic3\", \"Topic3\", \"Topic3\", \"Topic3\", \"Topic3\", \"Topic3\", \"Topic3\", \"Topic3\", \"Topic3\", \"Topic3\", \"Topic3\", \"Topic3\", \"Topic3\", \"Topic3\", \"Topic3\", \"Topic3\", \"Topic3\"], \"logprob\": [30.0, 29.0, 28.0, 27.0, 26.0, 25.0, 24.0, 23.0, 22.0, 21.0, 20.0, 19.0, 18.0, 17.0, 16.0, 15.0, 14.0, 13.0, 12.0, 11.0, 10.0, 9.0, 8.0, 7.0, 6.0, 5.0, 4.0, 3.0, 2.0, 1.0, -7.0685, -7.1305, -6.3906, -7.3865, -7.1423, -7.4702, -7.5024, -7.5052, -7.4916, -7.6365, -7.7246, -7.7989, -7.81, -7.9156, -7.9621, -7.9884, -8.0108, -8.0432, -7.9039, -8.0911, -8.1111, -7.7891, -8.2111, -8.2001, -8.2279, -8.0579, -8.2337, -8.2741, -8.3041, -8.2229, -6.2924, -6.0021, -6.3026, -6.8786, -7.1288, -6.3271, -7.2642, -6.9813, -6.5964, -7.2282, -5.9085, -6.84, -5.984, -5.4796, -6.2969, -5.8445, -6.7617, -7.2164, -6.2264, -6.0835, -5.2659, -6.52, -6.0742, -5.3451, -6.0953, -6.5871, -5.6042, -5.8635, -5.0722, -4.9782, -5.6147, -6.4321, -5.7019, -5.639, -4.7597, -4.1203, -5.8125, -5.9487, -4.4256, -5.6387, -4.9848, -4.714, -5.2678, -5.5224, -4.3648, -5.6192, -5.7108, -4.8695, -5.14, -5.5592, -4.9436, -5.2336, -5.7498, -5.4201, -5.2134, -5.4961, -5.5656, -7.1891, -7.3854, -7.3781, -7.2576, -6.2031, -6.8769, -7.2732, -7.872, -7.0915, -7.6217, -7.1444, -6.35, -6.4497, -8.0047, -7.4667, -6.3959, -7.603, -6.7353, -8.0892, -5.7937, -7.3866, -6.5142, -6.887, -5.3179, -8.0144, -7.6967, -7.4719, -6.5193, -7.9974, -8.062, -5.5672, -7.462, -4.5834, -4.3509, -6.3215, -5.518, -6.3123, -5.4584, -5.9604, -6.0518, -6.6458, -6.3868, -6.354, -4.3304, -4.2536, -5.3825, -5.1821, -4.4948, -4.9287, -6.3408, -5.5184, -4.7556, -6.3344, -6.1068, -5.5508, -5.7184, -5.3369, -5.4833, -4.3412, -5.7975, -4.5485, -5.0086, -5.7328, -5.2307, -5.4729, -5.2166, -5.45, -5.6147, -5.0944, -5.6122, -5.0464, -5.175, -5.1993, -5.3915, -5.4939, -5.4131, -5.4347, -5.4118, -6.3758, -5.5346, -6.9162, -6.5294, -4.3769, -4.1726, -6.2624, -4.2403, -6.2357, -6.4232, -5.6167, -6.5515, -6.8862, -6.7107, -5.8643, -6.6063, -6.6635, -7.2644, -6.2856, -5.8484, -3.6336, -6.2751, -6.3606, -5.985, -5.5303, -7.1342, -7.1565, -5.6377, -5.6802, -5.2064, -4.7087, -4.5749, -4.5013, -4.9363, -4.7799, -5.1837, -5.8472, -5.0324, -4.7251, -3.8964, -4.0342, -5.373, -5.1426, -5.1917, -4.7714, -4.9471, -4.7138, -5.0665, -4.9189, -4.8164, -5.369, -5.2514, -4.9981, -5.3201, -5.4282], \"loglift\": [30.0, 29.0, 28.0, 27.0, 26.0, 25.0, 24.0, 23.0, 22.0, 21.0, 20.0, 19.0, 18.0, 17.0, 16.0, 15.0, 14.0, 13.0, 12.0, 11.0, 10.0, 9.0, 8.0, 7.0, 6.0, 5.0, 4.0, 3.0, 2.0, 1.0, 0.6951, 0.6951, 0.6949, 0.6947, 0.6946, 0.6945, 0.6944, 0.6944, 0.6943, 0.6942, 0.694, 0.6938, 0.6938, 0.6935, 0.6934, 0.6932, 0.6932, 0.693, 0.693, 0.6929, 0.6927, 0.6927, 0.6926, 0.6925, 0.6925, 0.6924, 0.6923, 0.6923, 0.6921, 0.6919, 0.6917, 0.6879, 0.6889, 0.6898, 0.6911, 0.6825, 0.6916, 0.6879, 0.6814, 0.6877, 0.6723, 0.6816, 0.671, 0.6572, 0.6721, 0.6578, 0.6761, 0.6853, 0.6648, 0.6587, 0.6321, 0.6655, 0.6496, 0.614, 0.6424, 0.6626, 0.6204, 0.6285, 0.5854, 0.5728, 0.6056, 0.6527, 0.6043, 0.5979, 0.5077, 0.4374, 0.5904, 0.5977, 0.3488, 0.5338, 0.4259, 0.3774, 0.4414, 0.4945, 0.1166, 0.4616, 0.455, 0.0244, 0.1071, 0.3131, -0.1678, -0.1404, 0.4176, -0.0421, -0.6136, -0.1198, -0.5259, 1.095, 1.0833, 1.073, 1.0685, 1.0588, 1.0539, 1.0403, 1.036, 1.0309, 1.0298, 1.0273, 1.0217, 1.0208, 1.0208, 1.0155, 1.0088, 1.0064, 1.0027, 1.0003, 0.9984, 0.9964, 0.996, 0.991, 0.9872, 0.9861, 0.9846, 0.9815, 0.9802, 0.9785, 0.975, 0.9639, 0.9739, 0.9261, 0.9197, 0.9444, 0.9166, 0.9409, 0.8852, 0.907, 0.9041, 0.948, 0.9172, 0.912, 0.7093, 0.6827, 0.796, 0.7586, 0.6347, 0.6966, 0.91, 0.7593, 0.5538, 0.9056, 0.8502, 0.7028, 0.7445, 0.6319, 0.6573, 0.2586, 0.7293, 0.2273, 0.3693, 0.6687, 0.4203, 0.5027, 0.2944, 0.4372, 0.5328, -0.0012, 0.5184, -0.1525, -0.4006, -0.6417, -0.1444, -0.1176, -0.9318, 1.7158, 1.7084, 1.6917, 1.6839, 1.6784, 1.6777, 1.677, 1.6298, 1.6117, 1.6103, 1.592, 1.5914, 1.585, 1.5842, 1.5583, 1.5544, 1.5382, 1.5322, 1.5229, 1.5197, 1.515, 1.51, 1.4717, 1.4702, 1.4586, 1.4578, 1.4264, 1.4151, 1.401, 1.3956, 1.3907, 1.3783, 1.3472, 1.3378, 1.2258, 1.2837, 1.2562, 1.2597, 1.3796, 1.1444, 0.9899, 0.585, 0.5656, 0.9936, 0.8018, 0.7372, 0.3218, 0.4292, 0.1801, 0.4445, 0.2106, -0.0406, 0.8404, 0.5651, -0.0618, -0.0729, 0.4359]}, \"token.table\": {\"Topic\": [2, 3, 1, 2, 3, 1, 2, 3, 1, 2, 3, 1, 2, 3, 1, 2, 3, 1, 2, 3, 1, 1, 2, 3, 1, 2, 1, 2, 3, 1, 2, 3, 1, 2, 3, 1, 2, 3, 1, 2, 3, 1, 2, 3, 1, 2, 3, 1, 2, 3, 1, 2, 3, 1, 2, 3, 1, 2, 3, 1, 2, 3, 1, 2, 3, 1, 2, 3, 2, 3, 1, 2, 3, 1, 2, 3, 1, 2, 3, 1, 2, 3, 1, 1, 1, 2, 3, 1, 2, 3, 1, 2, 3, 1, 2, 3, 1, 1, 2, 3, 2, 3, 1, 2, 3, 1, 2, 3, 1, 1, 1, 2, 3, 2, 3, 2, 3, 1, 2, 3, 1, 1, 2, 3, 1, 1, 2, 3, 2, 3, 1, 2, 3, 2, 3, 1, 2, 3, 1, 2, 3, 1, 2, 3, 2, 3, 1, 2, 3, 1, 1, 2, 3, 1, 2, 3, 1, 2, 3, 1, 2, 3, 1, 1, 1, 2, 3, 1, 2, 3, 1, 2, 3, 1, 2, 3, 2, 3, 2, 3, 1, 2, 3, 1, 2, 3, 1, 2, 3, 1, 2, 3, 2, 3, 1, 2, 3, 1, 2, 3, 1, 1, 2, 3, 1, 1, 2, 3, 1, 2, 3, 1, 2, 3, 1, 1, 1, 2, 3, 1, 2, 3, 1, 2, 3, 2, 3, 1, 2, 3, 1, 2, 3, 1, 2, 3, 1, 3, 1, 2, 3, 1, 2, 3, 2, 3, 1, 2, 3, 1, 2, 3, 1, 2, 3, 1, 2, 3, 1, 2, 3, 1, 2, 3, 1, 2, 3, 1, 2, 3, 1, 3, 1, 2, 3, 1, 2, 3, 1, 2, 1, 2, 3, 1, 2, 3, 1, 2, 3, 1, 2, 3, 1, 2, 3, 2, 3, 1, 2, 3, 2, 3, 1, 2, 3, 1, 2, 3, 1, 1, 2, 3, 1, 2, 3, 1, 1, 1, 2, 3, 1, 2, 3, 1, 1, 2, 3, 2, 3, 1, 2, 3, 1, 1, 2, 3, 1, 2, 3, 1, 2, 3, 1, 2, 3, 1, 2, 3, 1, 2, 3, 1, 1, 1, 2, 3, 1, 2, 3, 1, 2, 3, 1, 1, 2, 3, 2, 3, 1, 2, 3, 1, 3, 1, 2, 3, 1, 2, 3, 1, 2, 3, 1, 2, 3, 1, 2, 3, 1, 2, 3, 1, 2, 3, 2, 3, 1, 3, 1, 2, 3, 1, 2, 3, 2, 3, 2, 3, 1, 2, 3, 1, 2, 3, 1, 2, 3, 2, 3, 2, 3, 1, 1, 2, 3, 1, 2, 3, 1, 2, 3, 1, 2, 3, 1, 2, 3, 2, 3, 2, 3, 1, 2, 3, 2, 3, 1, 2, 3, 1, 2, 3, 1, 2, 1, 2, 3, 1, 2, 3, 1, 2, 3, 1, 3, 1, 1, 2, 3, 1, 2, 3, 1, 2, 3, 1, 2, 3, 1, 2, 3, 1, 2, 3, 1, 2, 3, 1, 2, 3, 1, 2, 3, 1, 2, 3, 1, 2, 3, 1, 2, 3, 1, 2, 3, 2, 3], \"Freq\": [0.9216683560269333, 0.07849373361767839, 0.775000381814152, 0.1833797335149602, 0.04170812233220356, 0.08530025404747667, 0.883466916920294, 0.036557251734632853, 0.025066133635082095, 0.9116157022021961, 0.06332496918336529, 0.06256319091002606, 0.8294728100474671, 0.10804681634906577, 0.1871036382864483, 0.6502583939105088, 0.16261692052412788, 0.992884772603625, 0.006537512906032098, 0.0008171891132540122, 0.9954283464149147, 0.9846239221664204, 0.002175964468876067, 0.013055786813256403, 0.10655566395173686, 0.8924036855957963, 0.9540853425469787, 0.022507911095472632, 0.02313313084812465, 0.8995202312273656, 0.06668153000021318, 0.03356757292527738, 0.1786844367496221, 0.42017009813091055, 0.4011054406534404, 0.006130268505261303, 0.9287356785470874, 0.06436781930524367, 0.024573960808439852, 0.8221106888641696, 0.15302875594346635, 0.12092621400608333, 0.07718694511026596, 0.8001713309764238, 0.12048535791566235, 0.8130142412395999, 0.06705272092697731, 0.014343156719738315, 0.9131809778233394, 0.07291104665866976, 0.039328293118340504, 0.8216804097938998, 0.13905360781127535, 0.6815156623937701, 0.28498775545675276, 0.03335530845701694, 0.1366819541124622, 0.5597284136276408, 0.30358151247600856, 0.9629853001757963, 0.035666122228733194, 0.001273790079597614, 0.9669711613069666, 0.003173865956149781, 0.030680704242781215, 0.9937320842713447, 0.0014549518071322763, 0.004364855421396829, 0.8476296425614793, 0.1522151822909699, 0.9121456439732949, 0.05641713463852885, 0.03129709658779703, 0.7269144533663571, 0.19883823396554523, 0.07418242656243758, 0.9913225579302607, 0.0024178598973908796, 0.006044649743477199, 0.9268581475123807, 0.029604805694498647, 0.04326856216888264, 0.9963465207941088, 0.9973573064442327, 0.510784015041079, 0.2820747545749242, 0.207142378448513, 0.07733347535693166, 0.8843776925433724, 0.03569237324166077, 0.3350459770280074, 0.39723855570224265, 0.2675604129346884, 0.010342879475296865, 0.8963828878590617, 0.0930859152776718, 0.9961171823367654, 0.9983841206603526, 0.9477164861137429, 0.05247243821420724, 0.13234080403837006, 0.8671285518334994, 0.9134491273763979, 0.02796658478521036, 0.05895658414179482, 0.19698323361355324, 0.19320417877204624, 0.6098449750481948, 0.998290037420986, 0.9985958637105101, 0.10970432774401151, 0.19463671051356882, 0.6953838839257503, 0.044610308943539144, 0.9554041165407967, 0.942776429292234, 0.05644116095541091, 0.9377796100362347, 0.05832030859495416, 0.0038332597198561416, 0.998327909424992, 0.004641003145413858, 0.8616795839985064, 0.1335577571846877, 0.9955536109373718, 0.018957239357369468, 0.8720330104389956, 0.11374343614421681, 0.8694994007791941, 0.1281732184415545, 0.06016620823256458, 0.9196834686977727, 0.021487931511630205, 0.07164692625155422, 0.9258987392508545, 0.9954246159031562, 0.003742197804147204, 0.001871098902073602, 0.9693220140708985, 0.02083496652557714, 0.008929271368104489, 0.976357965266532, 0.021572557334039576, 0.0015979672099288576, 0.9275337499895033, 0.0722032260470871, 0.05852867024556513, 0.6812942580339029, 0.25978515038821015, 0.9967094904994448, 0.43119142384344566, 0.5086542047600446, 0.06012845231987748, 0.7566133246933081, 0.1723974463180868, 0.07096610056337045, 0.40592035696393214, 0.5517062213373614, 0.042492088431118, 0.08679628389642897, 0.8819489700186907, 0.03126311647454314, 0.9965946887269015, 0.9953678358043018, 0.2309011862415874, 0.6634013777296369, 0.10587854732905276, 0.8171311307583542, 0.07122916649252069, 0.11131484460519467, 0.07411529199834413, 0.9005007977798811, 0.025940352199420445, 0.006819878054402513, 0.14321743914245275, 0.8502114641155132, 0.9559992732466788, 0.04345451242030358, 0.8895257179624103, 0.1098179898719025, 0.04300875492509161, 0.8182415624498679, 0.13977845350654775, 0.006079342237341399, 0.06847259151531891, 0.9256598469804561, 0.9857655136016413, 0.009718814922833083, 0.005553608527333191, 0.39219266703035055, 0.30335623279953755, 0.3043657377339786, 0.037360013724856644, 0.9617808661475915, 0.7718380145713836, 0.17292898135197296, 0.055182476436394186, 0.24782762563187732, 0.0315703981696659, 0.7205943382226242, 0.9973171038330606, 0.5547964519852886, 0.28446706109515957, 0.16079814798852896, 0.9953997743282742, 0.07558056509127362, 0.13226598890972885, 0.793595933458373, 0.06379109007718758, 0.14230320094141846, 0.7900281155713231, 0.0008549317843983492, 0.7963689571670622, 0.20261883290240876, 0.9982976648822801, 0.9969046716109117, 0.22604623963531253, 0.6414458423318689, 0.13272855353335986, 0.11693032826155153, 0.813459752782522, 0.06929204637721573, 0.011905946737202945, 0.9822406058192429, 0.0059529733686014726, 0.2566389229877218, 0.7429696820494545, 0.995336556499376, 0.001622390475141607, 0.003244780950283214, 0.02659691104399133, 0.9175934310177009, 0.05585351319238179, 0.9991442730722606, 0.5323721444388242, 0.4671926460646378, 0.9906773857436628, 0.008238481378325679, 0.21979277786979667, 0.3146411135480492, 0.46557764772834526, 0.02515481650538541, 0.3853994822384737, 0.5894073518784801, 0.14898189791306213, 0.8505169108707724, 0.8281457285907079, 0.11905596696438647, 0.052751848275529874, 0.03420039737125075, 0.6341032859547205, 0.33153446431314504, 0.17114745221802494, 0.701733126289598, 0.1271462708464459, 0.16210258366500127, 0.2945346051413193, 0.5434778586268569, 0.02665907945223255, 0.04203931759775133, 0.9320424316184379, 0.2891091004105335, 0.44100757953298103, 0.26977318629947533, 0.38137561254046815, 0.5432161556433666, 0.07544668828380091, 0.05939736521603655, 0.1187947304320731, 0.8210812250452111, 0.9973895660270209, 0.003626871149189167, 0.05623367490842233, 0.06096128474585606, 0.8828189317481523, 0.29454237100588654, 0.6677686378124, 0.037601153745432325, 0.9794150447560191, 0.01915414037984392, 0.9571816410082702, 0.03408894316618019, 0.00897077451741584, 0.8498199505317567, 0.12428481684334722, 0.02593770090643768, 0.16309330335427186, 0.6179913818991599, 0.21863318503707796, 0.3095554800251565, 0.5716974550096411, 0.11883769532629965, 0.03880225543782912, 0.24833443480210637, 0.7139615000560559, 0.8451466347310114, 0.15483602468354407, 0.9859900752138759, 0.003328236540806332, 0.01081676875762058, 0.9070895347206465, 0.09070895347206465, 0.9342100791943576, 0.04809892658272436, 0.017355282787580955, 0.3166194621528085, 0.6595022898298131, 0.0237620926171298, 0.9962758212418369, 0.269846721496543, 0.42555052229357876, 0.30460537121839687, 0.7630581924047785, 0.20703650757114442, 0.029937041712155735, 0.9976201208761285, 0.9960196039630695, 0.9208309949630494, 0.056460560373840576, 0.022700637676080233, 0.15563106130908394, 0.09057826896253214, 0.7537450206553803, 0.994956465467126, 0.994577439965821, 0.002143485861995304, 0.004286971723990608, 0.6917082207906164, 0.30828221539414663, 0.9690549460068196, 0.002956689385222943, 0.028088549159617962, 0.9954928115491337, 0.9759721040762336, 0.0032514339947015, 0.02059241529977617, 0.8838314565635531, 0.07392678265979358, 0.042188582774437176, 0.7854863200333442, 0.2025445362819466, 0.011809133740820208, 0.564076096934651, 0.05018470613297606, 0.38570531285058746, 0.057684649850874646, 0.8982324048207624, 0.04120332132205332, 0.07888080318739533, 0.11462366713168386, 0.8060632075711961, 0.9992573167342143, 0.9964944474954097, 0.9058604995707135, 0.06545234823487814, 0.028799033223346385, 0.13121839239264338, 0.17041349661382257, 0.6986953361166726, 0.9471492046612264, 0.031064465213119206, 0.021554935045837817, 0.9969579056879897, 0.44214601412562, 0.29216410635717194, 0.2656775939343582, 0.8777748129274892, 0.12338200181711695, 0.25587095842612095, 0.13673693724246022, 0.6076149418153463, 0.9991198830984109, 0.001903085491616021, 0.10163937851703968, 0.23277662083082273, 0.6656257091526006, 0.048751814973332586, 0.10776716994105098, 0.8441761645382326, 0.19093072203586145, 0.7020806843834402, 0.10687317145403565, 0.16840526144529314, 0.8166066451215157, 0.014828136227887445, 0.10184683308497397, 0.05344437775746159, 0.8440178147734971, 0.7908961771400592, 0.16830375839389458, 0.04076106648602134, 0.8949895422712562, 0.10441903488129882, 0.0006458909374100958, 0.7688914957806979, 0.2305095654701887, 0.991318138253614, 0.008046413459850762, 0.9888822575378516, 0.010152795251928661, 0.0020305590503857324, 0.9615566592313447, 0.0069526873407906335, 0.03128709303355785, 0.07308583896467474, 0.9257539602192135, 0.05991745565098915, 0.9395057046075098, 0.0031017174809244165, 0.31017174809244163, 0.6875473749382456, 0.961994935570499, 0.026054029505034347, 0.012024936694631238, 0.03165531700413262, 0.9602112824586894, 0.007034514889807248, 0.31335864784645767, 0.6865600930247041, 0.21700079120503407, 0.7830898117399056, 0.9979065936555473, 0.1522456480761354, 0.22289065102957786, 0.6244716036472749, 0.07624821079365045, 0.05796953012393973, 0.8658872157251538, 0.04074125313618474, 0.8759369424279719, 0.08419858981478179, 0.4331701005875445, 0.32824449962555313, 0.2387455331107156, 0.0010873024441018116, 0.7284926375482137, 0.27073830858135106, 0.8917202353019892, 0.10778300141412932, 0.29730686016643004, 0.7041478267099659, 0.057561160453537194, 0.881128533096454, 0.06641672360023522, 0.8738723807272653, 0.12483891153246647, 0.974676262399442, 0.0075873002462232015, 0.017509154414361235, 0.9063320226347665, 0.07107733115194227, 0.023052107400629924, 0.08745380658868906, 0.9120182687106145, 0.1665668836491817, 0.6198014679689826, 0.2135407761417101, 0.7063899187699995, 0.22012377383041945, 0.07352294265423634, 0.08543003359854025, 0.8904438117386311, 0.023000393661145452, 0.9983276085641857, 0.0008977766264066417, 0.9951347431937648, 0.029521330565188544, 0.21880515595375039, 0.7519256549839199, 0.014319201210326347, 0.97012588199961, 0.014319201210326347, 0.5600315970194019, 0.12941683454953926, 0.3105605619231376, 0.07779162390555919, 0.26310238513773054, 0.6592840125996141, 0.05548572476455055, 0.1255729560460881, 0.8176843649512713, 0.4778906875611778, 0.4754491479448911, 0.04671479132495165, 0.19737701749583392, 0.4407804353519267, 0.36171668013185015, 0.006369697089770067, 0.8418616320312772, 0.15181111397285327, 0.08040250258528932, 0.1738937846612071, 0.7441906053243057, 0.010252363161207857, 0.8115139763756065, 0.17823339034099814, 0.3015565704189887, 0.5002417150425635, 0.1982574048073777, 0.08318237329261466, 0.8242218288642557, 0.0925385629072497, 0.4214317948937866, 0.4124291275324769, 0.16614823724238967, 0.21288090290371542, 0.7872923047042578], \"Term\": [\"achieve\", \"achieve\", \"act\", \"act\", \"act\", \"adversary\", \"adversary\", \"adversary\", \"ally\", \"ally\", \"ally\", \"america\", \"america\", \"america\", \"american\", \"american\", \"american\", \"appropriation\", \"appropriation\", \"appropriation\", \"arising\", \"article\", \"article\", \"article\", \"aspiration\", \"aspiration\", \"attention\", \"attention\", \"attention\", \"authority\", \"authority\", \"authority\", \"believe\", \"believe\", \"believe\", \"bless\", \"bless\", \"bless\", \"build\", \"build\", \"build\", \"candidate\", \"candidate\", \"candidate\", \"century\", \"century\", \"century\", \"challenge\", \"challenge\", \"challenge\", \"child\", \"child\", \"child\", \"citizen\", \"citizen\", \"citizen\", \"come\", \"come\", \"come\", \"commerce\", \"commerce\", \"commerce\", \"commercial\", \"commercial\", \"commercial\", \"commissioner\", \"commissioner\", \"commissioner\", \"commitment\", \"commitment\", \"condition\", \"condition\", \"condition\", \"congress\", \"congress\", \"congress\", \"consideration\", \"consideration\", \"consideration\", \"constitution\", \"constitution\", \"constitution\", \"continuance\", \"correspondence\", \"country\", \"country\", \"country\", \"courage\", \"courage\", \"courage\", \"day\", \"day\", \"day\", \"decade\", \"decade\", \"decade\", \"deem\", \"deemed\", \"democracy\", \"democracy\", \"democrat\", \"democrat\", \"department\", \"department\", \"department\", \"did\", \"did\", \"did\", \"discharge\", \"disposition\", \"doing\", \"doing\", \"doing\", \"dont\", \"dont\", \"dream\", \"dream\", \"duty\", \"duty\", \"duty\", \"earnestly\", \"economic\", \"economic\", \"economic\", \"effected\", \"eliminate\", \"eliminate\", \"eliminate\", \"ensure\", \"ensure\", \"era\", \"era\", \"era\", \"everybody\", \"everybody\", \"examination\", \"examination\", \"examination\", \"existing\", \"existing\", \"existing\", \"expenditure\", \"expenditure\", \"expenditure\", \"faced\", \"faced\", \"family\", \"family\", \"family\", \"fellowcitizens\", \"force\", \"force\", \"force\", \"foreign\", \"foreign\", \"foreign\", \"free\", \"free\", \"free\", \"freedom\", \"freedom\", \"freedom\", \"furnish\", \"furnished\", \"future\", \"future\", \"future\", \"general\", \"general\", \"general\", \"generation\", \"generation\", \"generation\", \"getting\", \"getting\", \"getting\", \"global\", \"global\", \"goal\", \"goal\", \"god\", \"god\", \"god\", \"going\", \"going\", \"going\", \"gold\", \"gold\", \"gold\", \"good\", \"good\", \"good\", \"got\", \"got\", \"government\", \"government\", \"government\", \"governor\", \"governor\", \"governor\", \"gratifying\", \"great\", \"great\", \"great\", \"guaranty\", \"happened\", \"happened\", \"happened\", \"happens\", \"happens\", \"happens\", \"help\", \"help\", \"help\", \"heretofore\", \"herewith\", \"home\", \"home\", \"home\", \"human\", \"human\", \"human\", \"ideal\", \"ideal\", \"ideal\", \"im\", \"im\", \"indian\", \"indian\", \"indian\", \"initiative\", \"initiative\", \"initiative\", \"intercourse\", \"job\", \"job\", \"jurisdiction\", \"jurisdiction\", \"just\", \"just\", \"just\", \"know\", \"know\", \"know\", \"laughter\", \"laughter\", \"law\", \"law\", \"law\", \"let\", \"let\", \"let\", \"life\", \"life\", \"life\", \"like\", \"like\", \"like\", \"lot\", \"lot\", \"lot\", \"make\", \"make\", \"make\", \"men\", \"men\", \"men\", \"minute\", \"minute\", \"minute\", \"mode\", \"mode\", \"mr\", \"mr\", \"mr\", \"nation\", \"nation\", \"nation\", \"naval\", \"naval\", \"navy\", \"navy\", \"navy\", \"necessary\", \"necessary\", \"necessary\", \"need\", \"need\", \"need\", \"new\", \"new\", \"new\", \"news\", \"news\", \"news\", \"nuclear\", \"nuclear\", \"object\", \"object\", \"object\", \"objective\", \"objective\", \"officer\", \"officer\", \"officer\", \"peace\", \"peace\", \"peace\", \"peculiar\", \"people\", \"people\", \"people\", \"power\", \"power\", \"power\", \"practicable\", \"prescribed\", \"present\", \"present\", \"present\", \"president\", \"president\", \"president\", \"probable\", \"proceeding\", \"proceeding\", \"proceeding\", \"program\", \"program\", \"proper\", \"proper\", \"proper\", \"propriety\", \"provision\", \"provision\", \"provision\", \"public\", \"public\", \"public\", \"purpose\", \"purpose\", \"purpose\", \"question\", \"question\", \"question\", \"reality\", \"reality\", \"reality\", \"really\", \"really\", \"really\", \"receipt\", \"relating\", \"relation\", \"relation\", \"relation\", \"republican\", \"republican\", \"republican\", \"revenue\", \"revenue\", \"revenue\", \"revision\", \"right\", \"right\", \"right\", \"role\", \"role\", \"said\", \"said\", \"said\", \"satisfactory\", \"satisfactory\", \"say\", \"say\", \"say\", \"saying\", \"saying\", \"saying\", \"security\", \"security\", \"security\", \"seek\", \"seek\", \"seek\", \"senator\", \"senator\", \"senator\", \"service\", \"service\", \"service\", \"shall\", \"shall\", \"shall\", \"soviet\", \"soviet\", \"spain\", \"spain\", \"statute\", \"statute\", \"statute\", \"subject\", \"subject\", \"subject\", \"talked\", \"talked\", \"talking\", \"talking\", \"tell\", \"tell\", \"tell\", \"territory\", \"territory\", \"territory\", \"terror\", \"terror\", \"terror\", \"thank\", \"thank\", \"thats\", \"thats\", \"thereof\", \"thing\", \"thing\", \"thing\", \"think\", \"think\", \"think\", \"threat\", \"threat\", \"threat\", \"time\", \"time\", \"time\", \"today\", \"today\", \"today\", \"tonight\", \"tonight\", \"tough\", \"tough\", \"tradition\", \"tradition\", \"tradition\", \"tragedy\", \"tragedy\", \"treasury\", \"treasury\", \"treasury\", \"treaty\", \"treaty\", \"treaty\", \"tyranny\", \"tyranny\", \"u\", \"u\", \"u\", \"united\", \"united\", \"united\", \"unity\", \"unity\", \"unity\", \"vessel\", \"vessel\", \"vested\", \"vice\", \"vice\", \"vice\", \"vision\", \"vision\", \"vision\", \"wa\", \"wa\", \"wa\", \"want\", \"want\", \"want\", \"wanted\", \"wanted\", \"wanted\", \"war\", \"war\", \"war\", \"way\", \"way\", \"way\", \"weapon\", \"weapon\", \"weapon\", \"went\", \"went\", \"went\", \"woman\", \"woman\", \"woman\", \"work\", \"work\", \"work\", \"world\", \"world\", \"world\", \"year\", \"year\", \"year\", \"yes\", \"yes\"]}, \"R\": 30, \"lambda.step\": 0.01, \"plot.opts\": {\"xlab\": \"PC1\", \"ylab\": \"PC2\"}, \"topic.order\": [2, 1, 3]};\n",
       "\n",
       "function LDAvis_load_lib(url, callback){\n",
       "  var s = document.createElement('script');\n",
       "  s.src = url;\n",
       "  s.async = true;\n",
       "  s.onreadystatechange = s.onload = callback;\n",
       "  s.onerror = function(){console.warn(\"failed to load library \" + url);};\n",
       "  document.getElementsByTagName(\"head\")[0].appendChild(s);\n",
       "}\n",
       "\n",
       "if(typeof(LDAvis) !== \"undefined\"){\n",
       "   \/\/ already loaded: just create the visualization\n",
       "   !function(LDAvis){\n",
       "       new LDAvis(\"#\" + \"ldavis_el1251396507658380327957181720\", ldavis_el1251396507658380327957181720_data);\n",
       "   }(LDAvis);\n",
       "}else if(typeof define === \"function\" && define.amd){\n",
       "   \/\/ require.js is available: use it to load d3\/LDAvis\n",
       "   require.config({paths: {d3: \"https:\/\/d3js.org\/d3.v5\"}});\n",
       "   require([\"d3\"], function(d3){\n",
       "      window.d3 = d3;\n",
       "      LDAvis_load_lib(\"https:\/\/cdn.jsdelivr.net\/gh\/bmabey\/pyLDAvis@3.4.0\/pyLDAvis\/js\/ldavis.v3.0.0.js\", function(){\n",
       "        new LDAvis(\"#\" + \"ldavis_el1251396507658380327957181720\", ldavis_el1251396507658380327957181720_data);\n",
       "      });\n",
       "    });\n",
       "}else{\n",
       "    \/\/ require.js not available: dynamically load d3 & LDAvis\n",
       "    LDAvis_load_lib(\"https:\/\/d3js.org\/d3.v5.js\", function(){\n",
       "         LDAvis_load_lib(\"https:\/\/cdn.jsdelivr.net\/gh\/bmabey\/pyLDAvis@3.4.0\/pyLDAvis\/js\/ldavis.v3.0.0.js\", function(){\n",
       "                 new LDAvis(\"#\" + \"ldavis_el1251396507658380327957181720\", ldavis_el1251396507658380327957181720_data);\n",
       "            })\n",
       "         });\n",
       "}\n",
       "<\/script>"
      ]
     },
     "metadata":{
      
     },
     "output_type":"display_data"
    }
   ],
   "metadata":{
    "datalore":{
     "node_id":"sPE55Zc3QNfR2TjIzoSkwR",
     "type":"CODE",
     "hide_input_from_viewers":true,
     "hide_output_from_viewers":true
    }
   }
  },
  {
   "cell_type":"code",
   "source":[
    "#for deciding the best num of clusters silhouette_scores analysis\n",
    "from sklearn.metrics import silhouette_score\n",
    "import matplotlib.pyplot as plt\n",
    "df3=df2\n",
    "best_num_topics = 0\n",
    "best_silhouette_score = -1\n",
    "num_topics_range = range(2, 11)  # You can adjust the range of the number of topics\n",
    "silhouette_scores = []\n",
    "for num_topics in num_topics_range:\n",
    "    LDA = LatentDirichletAllocation(n_components=num_topics, random_state=42)\n",
    "    LDA.fit(dtm)\n",
    "    topic_results = LDA.transform(dtm)\n",
    "    df3.loc[:, f\"topic_{num_topics}\"] = topic_results.argmax(axis=1).copy()\n",
    "\n",
    "    # Calculate silhouette score for this number of topics\n",
    "    silhouette_avg = silhouette_score(dtm, df3[f\"topic_{num_topics}\"])\n",
    "    silhouette_scores.append(silhouette_avg)\n",
    "\n",
    "    # Check if this is the best silhouette score\n",
    "    if silhouette_avg > best_silhouette_score:\n",
    "        best_silhouette_score = silhouette_avg\n",
    "        best_num_topics = num_topics\n",
    "print(f'Best Number of Topics: {best_num_topics}, Best Silhouette Score: {best_silhouette_score}')\n",
    "\n",
    "# Plot the silhouette scores\n",
    "plt.plot(num_topics_range, silhouette_scores, marker='o', linestyle='-')\n",
    "plt.title(\"Silhouette Score vs. Number of Topics\")\n",
    "plt.xlabel(\"Number of Topics\")\n",
    "plt.ylabel(\"Silhouette Score\")\n",
    "plt.grid(True)\n",
    "plt.show()"
   ],
   "execution_count":45,
   "outputs":[
    {
     "name":"stdout",
     "text":[
      "Best Number of Topics: 2, Best Silhouette Score: 0.05763987540932369\n"
     ],
     "output_type":"stream"
    },
    {
     "name":"stderr",
     "text":[
      "\/opt\/python\/envs\/default\/lib\/python3.8\/site-packages\/ipykernel\/ipkernel.py:283: DeprecationWarning: `should_run_async` will not call `transform_cell` automatically in the future. Please pass the result to `transformed_cell` argument and any exception that happen during thetransform in `preprocessing_exc_tuple` in IPython 7.17 and above.\n",
      "  and should_run_async(code)\n",
      "<ipython-input-45-359905afc606>:13: SettingWithCopyWarning: \n",
      "A value is trying to be set on a copy of a slice from a DataFrame.\n",
      "Try using .loc[row_indexer,col_indexer] = value instead\n",
      "\n",
      "See the caveats in the documentation: https:\/\/pandas.pydata.org\/pandas-docs\/stable\/user_guide\/indexing.html#returning-a-view-versus-a-copy\n",
      "  df3.loc[:, f\"topic_{num_topics}\"] = topic_results.argmax(axis=1).copy()\n",
      "<ipython-input-45-359905afc606>:13: SettingWithCopyWarning: \n",
      "A value is trying to be set on a copy of a slice from a DataFrame.\n",
      "Try using .loc[row_indexer,col_indexer] = value instead\n",
      "\n",
      "See the caveats in the documentation: https:\/\/pandas.pydata.org\/pandas-docs\/stable\/user_guide\/indexing.html#returning-a-view-versus-a-copy\n",
      "  df3.loc[:, f\"topic_{num_topics}\"] = topic_results.argmax(axis=1).copy()\n",
      "<ipython-input-45-359905afc606>:13: SettingWithCopyWarning: \n",
      "A value is trying to be set on a copy of a slice from a DataFrame.\n",
      "Try using .loc[row_indexer,col_indexer] = value instead\n",
      "\n",
      "See the caveats in the documentation: https:\/\/pandas.pydata.org\/pandas-docs\/stable\/user_guide\/indexing.html#returning-a-view-versus-a-copy\n",
      "  df3.loc[:, f\"topic_{num_topics}\"] = topic_results.argmax(axis=1).copy()\n"
     ],
     "output_type":"stream"
    },
    {
     "data":{
      "image\/png":"[encoded data removed]"
     },
     "metadata":{
      "image\/png":{
       
      }
     },
     "output_type":"display_data"
    }
   ],
   "metadata":{
    "datalore":{
     "node_id":"pw8viRxA1U2o7KGFgZ6tox",
     "type":"CODE",
     "hide_input_from_viewers":true,
     "hide_output_from_viewers":true
    }
   }
  }
 ],
 "metadata":{
  "kernelspec":{
   "display_name":"Python",
   "language":"python",
   "name":"python"
  },
  "datalore":{
   "computation_mode":"JUPYTER",
   "package_manager":"pip",
   "base_environment":"default",
   "packages":[
    
   ],
   "report_row_ids":[
    
   ],
   "version":3
  }
 },
 "nbformat":4,
 "nbformat_minor":4
}